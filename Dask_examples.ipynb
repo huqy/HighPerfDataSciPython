{
  "nbformat": 4,
  "nbformat_minor": 0,
  "metadata": {
    "kernelspec": {
      "display_name": "Python 3",
      "language": "python",
      "name": "python3"
    },
    "language_info": {
      "codemirror_mode": {
        "name": "ipython",
        "version": 3
      },
      "file_extension": ".py",
      "mimetype": "text/x-python",
      "name": "python",
      "nbconvert_exporter": "python",
      "pygments_lexer": "ipython3",
      "version": "3.7.3"
    },
    "colab": {
      "name": "Dask_examples.ipynb",
      "provenance": [],
      "toc_visible": true
    }
  },
  "cells": [
    {
      "cell_type": "markdown",
      "metadata": {
        "id": "K_NjSFSQ_Szu"
      },
      "source": [
        "The examples below are simply a copy of collection from [Dask Example Notebooks](https://github.com/dask/dask-examples)."
      ]
    },
    {
      "cell_type": "markdown",
      "metadata": {
        "id": "2gonYSPh9_Cl"
      },
      "source": [
        "# Dask Arrays\n",
        "\n",
        "<img src=\"https://github.com/dask/dask-examples/blob/main/images/dask-array-black-text.svg?raw=1\" \n",
        "     align=\"right\"\n",
        "     alt=\"Dask arrays are blocked numpy arrays\">\n",
        "     \n",
        "Dask arrays coordinate many Numpy arrays, arranged into chunks within a grid.  They support a large subset of the Numpy API."
      ]
    },
    {
      "cell_type": "markdown",
      "metadata": {
        "id": "jg-8gQTW-fzC"
      },
      "source": [
        "## Create Random array\n",
        "\n",
        "This creates a 10000x10000 array of random numbers, represented as many numpy arrays of size 1000x1000 (or smaller if the array cannot be divided evenly). In this case there are 100 (10x10) numpy arrays of size 1000x1000."
      ]
    },
    {
      "cell_type": "code",
      "metadata": {
        "colab": {
          "base_uri": "https://localhost:8080/",
          "height": 199
        },
        "id": "olhVuaef-gxW",
        "outputId": "2da37eed-af1e-48ed-da0b-8bd0c5d9d7e1"
      },
      "source": [
        "import dask.array as da\n",
        "x = da.random.random((10000, 10000), chunks=(1000, 1000))\n",
        "x"
      ],
      "execution_count": null,
      "outputs": [
        {
          "output_type": "execute_result",
          "data": {
            "text/html": [
              "<table>\n",
              "<tr>\n",
              "<td>\n",
              "<table>\n",
              "  <thead>\n",
              "    <tr><td> </td><th> Array </th><th> Chunk </th></tr>\n",
              "  </thead>\n",
              "  <tbody>\n",
              "    <tr><th> Bytes </th><td> 800.00 MB </td> <td> 8.00 MB </td></tr>\n",
              "    <tr><th> Shape </th><td> (10000, 10000) </td> <td> (1000, 1000) </td></tr>\n",
              "    <tr><th> Count </th><td> 100 Tasks </td><td> 100 Chunks </td></tr>\n",
              "    <tr><th> Type </th><td> float64 </td><td> numpy.ndarray </td></tr>\n",
              "  </tbody>\n",
              "</table>\n",
              "</td>\n",
              "<td>\n",
              "<svg width=\"170\" height=\"170\" style=\"stroke:rgb(0,0,0);stroke-width:1\" >\n",
              "\n",
              "  <!-- Horizontal lines -->\n",
              "  <line x1=\"0\" y1=\"0\" x2=\"120\" y2=\"0\" style=\"stroke-width:2\" />\n",
              "  <line x1=\"0\" y1=\"12\" x2=\"120\" y2=\"12\" />\n",
              "  <line x1=\"0\" y1=\"24\" x2=\"120\" y2=\"24\" />\n",
              "  <line x1=\"0\" y1=\"36\" x2=\"120\" y2=\"36\" />\n",
              "  <line x1=\"0\" y1=\"48\" x2=\"120\" y2=\"48\" />\n",
              "  <line x1=\"0\" y1=\"60\" x2=\"120\" y2=\"60\" />\n",
              "  <line x1=\"0\" y1=\"72\" x2=\"120\" y2=\"72\" />\n",
              "  <line x1=\"0\" y1=\"84\" x2=\"120\" y2=\"84\" />\n",
              "  <line x1=\"0\" y1=\"96\" x2=\"120\" y2=\"96\" />\n",
              "  <line x1=\"0\" y1=\"108\" x2=\"120\" y2=\"108\" />\n",
              "  <line x1=\"0\" y1=\"120\" x2=\"120\" y2=\"120\" style=\"stroke-width:2\" />\n",
              "\n",
              "  <!-- Vertical lines -->\n",
              "  <line x1=\"0\" y1=\"0\" x2=\"0\" y2=\"120\" style=\"stroke-width:2\" />\n",
              "  <line x1=\"12\" y1=\"0\" x2=\"12\" y2=\"120\" />\n",
              "  <line x1=\"24\" y1=\"0\" x2=\"24\" y2=\"120\" />\n",
              "  <line x1=\"36\" y1=\"0\" x2=\"36\" y2=\"120\" />\n",
              "  <line x1=\"48\" y1=\"0\" x2=\"48\" y2=\"120\" />\n",
              "  <line x1=\"60\" y1=\"0\" x2=\"60\" y2=\"120\" />\n",
              "  <line x1=\"72\" y1=\"0\" x2=\"72\" y2=\"120\" />\n",
              "  <line x1=\"84\" y1=\"0\" x2=\"84\" y2=\"120\" />\n",
              "  <line x1=\"96\" y1=\"0\" x2=\"96\" y2=\"120\" />\n",
              "  <line x1=\"108\" y1=\"0\" x2=\"108\" y2=\"120\" />\n",
              "  <line x1=\"120\" y1=\"0\" x2=\"120\" y2=\"120\" style=\"stroke-width:2\" />\n",
              "\n",
              "  <!-- Colored Rectangle -->\n",
              "  <polygon points=\"0.000000,0.000000 120.000000,0.000000 120.000000,120.000000 0.000000,120.000000\" style=\"fill:#ECB172A0;stroke-width:0\"/>\n",
              "\n",
              "  <!-- Text -->\n",
              "  <text x=\"60.000000\" y=\"140.000000\" font-size=\"1.0rem\" font-weight=\"100\" text-anchor=\"middle\" >10000</text>\n",
              "  <text x=\"140.000000\" y=\"60.000000\" font-size=\"1.0rem\" font-weight=\"100\" text-anchor=\"middle\" transform=\"rotate(-90,140.000000,60.000000)\">10000</text>\n",
              "</svg>\n",
              "</td>\n",
              "</tr>\n",
              "</table>"
            ],
            "text/plain": [
              "dask.array<random_sample, shape=(10000, 10000), dtype=float64, chunksize=(1000, 1000), chunktype=numpy.ndarray>"
            ]
          },
          "metadata": {
            "tags": []
          },
          "execution_count": 1
        }
      ]
    },
    {
      "cell_type": "markdown",
      "metadata": {
        "id": "5vvBfw5F-qjD"
      },
      "source": [
        "Use NumPy syntax as usual"
      ]
    },
    {
      "cell_type": "code",
      "metadata": {
        "colab": {
          "base_uri": "https://localhost:8080/",
          "height": 130
        },
        "id": "bVKAY_ZA-oKR",
        "outputId": "d4de8465-e53a-4c32-b4d4-0038ede73ab6"
      },
      "source": [
        "y = x + x.T\n",
        "z = y[::2, 5000:].mean(axis=1)\n",
        "z"
      ],
      "execution_count": null,
      "outputs": [
        {
          "output_type": "execute_result",
          "data": {
            "text/html": [
              "<table>\n",
              "<tr>\n",
              "<td>\n",
              "<table>\n",
              "  <thead>\n",
              "    <tr><td> </td><th> Array </th><th> Chunk </th></tr>\n",
              "  </thead>\n",
              "  <tbody>\n",
              "    <tr><th> Bytes </th><td> 40.00 kB </td> <td> 4.00 kB </td></tr>\n",
              "    <tr><th> Shape </th><td> (5000,) </td> <td> (500,) </td></tr>\n",
              "    <tr><th> Count </th><td> 430 Tasks </td><td> 10 Chunks </td></tr>\n",
              "    <tr><th> Type </th><td> float64 </td><td> numpy.ndarray </td></tr>\n",
              "  </tbody>\n",
              "</table>\n",
              "</td>\n",
              "<td>\n",
              "<svg width=\"170\" height=\"75\" style=\"stroke:rgb(0,0,0);stroke-width:1\" >\n",
              "\n",
              "  <!-- Horizontal lines -->\n",
              "  <line x1=\"0\" y1=\"0\" x2=\"120\" y2=\"0\" style=\"stroke-width:2\" />\n",
              "  <line x1=\"0\" y1=\"25\" x2=\"120\" y2=\"25\" style=\"stroke-width:2\" />\n",
              "\n",
              "  <!-- Vertical lines -->\n",
              "  <line x1=\"0\" y1=\"0\" x2=\"0\" y2=\"25\" style=\"stroke-width:2\" />\n",
              "  <line x1=\"12\" y1=\"0\" x2=\"12\" y2=\"25\" />\n",
              "  <line x1=\"24\" y1=\"0\" x2=\"24\" y2=\"25\" />\n",
              "  <line x1=\"36\" y1=\"0\" x2=\"36\" y2=\"25\" />\n",
              "  <line x1=\"48\" y1=\"0\" x2=\"48\" y2=\"25\" />\n",
              "  <line x1=\"60\" y1=\"0\" x2=\"60\" y2=\"25\" />\n",
              "  <line x1=\"72\" y1=\"0\" x2=\"72\" y2=\"25\" />\n",
              "  <line x1=\"84\" y1=\"0\" x2=\"84\" y2=\"25\" />\n",
              "  <line x1=\"96\" y1=\"0\" x2=\"96\" y2=\"25\" />\n",
              "  <line x1=\"108\" y1=\"0\" x2=\"108\" y2=\"25\" />\n",
              "  <line x1=\"120\" y1=\"0\" x2=\"120\" y2=\"25\" style=\"stroke-width:2\" />\n",
              "\n",
              "  <!-- Colored Rectangle -->\n",
              "  <polygon points=\"0.000000,0.000000 120.000000,0.000000 120.000000,25.412617 0.000000,25.412617\" style=\"fill:#ECB172A0;stroke-width:0\"/>\n",
              "\n",
              "  <!-- Text -->\n",
              "  <text x=\"60.000000\" y=\"45.412617\" font-size=\"1.0rem\" font-weight=\"100\" text-anchor=\"middle\" >5000</text>\n",
              "  <text x=\"140.000000\" y=\"12.706308\" font-size=\"1.0rem\" font-weight=\"100\" text-anchor=\"middle\" transform=\"rotate(0,140.000000,12.706308)\">1</text>\n",
              "</svg>\n",
              "</td>\n",
              "</tr>\n",
              "</table>"
            ],
            "text/plain": [
              "dask.array<mean_agg-aggregate, shape=(5000,), dtype=float64, chunksize=(500,), chunktype=numpy.ndarray>"
            ]
          },
          "metadata": {
            "tags": []
          },
          "execution_count": 3
        }
      ]
    },
    {
      "cell_type": "markdown",
      "metadata": {
        "id": "gxHB5ipP-xqE"
      },
      "source": [
        "Call `.compute()` when you want your result as a NumPy array.\n",
        "\n",
        "If you started `Client()` above then you may want to watch the status page during computation."
      ]
    },
    {
      "cell_type": "code",
      "metadata": {
        "colab": {
          "base_uri": "https://localhost:8080/"
        },
        "id": "OTR0-CvE-yhJ",
        "outputId": "aaf45f81-485b-465a-8281-a8596d13e826"
      },
      "source": [
        "z.compute()"
      ],
      "execution_count": null,
      "outputs": [
        {
          "output_type": "execute_result",
          "data": {
            "text/plain": [
              "array([1.00413404, 0.99103956, 0.99901037, ..., 0.99805427, 0.99316636,\n",
              "       1.00018507])"
            ]
          },
          "metadata": {
            "tags": []
          },
          "execution_count": 4
        }
      ]
    },
    {
      "cell_type": "markdown",
      "metadata": {
        "id": "DqSElfmC-4SV"
      },
      "source": [
        "## Persist data in memory\n",
        "\n",
        "If you have the available RAM for your dataset then you can persist data in memory.  \n",
        "\n",
        "This allows future computations to be much faster."
      ]
    },
    {
      "cell_type": "code",
      "metadata": {
        "id": "HC_Z0VhO-7J0"
      },
      "source": [
        "y = y.persist()"
      ],
      "execution_count": null,
      "outputs": []
    },
    {
      "cell_type": "code",
      "metadata": {
        "colab": {
          "base_uri": "https://localhost:8080/"
        },
        "id": "1ncbs1Ip-71a",
        "outputId": "5be3dc4f-ea0e-4baf-b9e5-1fe150182b14"
      },
      "source": [
        "%time y[0, 0].compute()"
      ],
      "execution_count": null,
      "outputs": [
        {
          "output_type": "stream",
          "text": [
            "CPU times: user 1.87 ms, sys: 0 ns, total: 1.87 ms\n",
            "Wall time: 1.62 ms\n"
          ],
          "name": "stdout"
        },
        {
          "output_type": "execute_result",
          "data": {
            "text/plain": [
              "0.932016189932539"
            ]
          },
          "metadata": {
            "tags": []
          },
          "execution_count": 6
        }
      ]
    },
    {
      "cell_type": "code",
      "metadata": {
        "colab": {
          "base_uri": "https://localhost:8080/"
        },
        "id": "oO2p2qXu--Lc",
        "outputId": "9a1113e8-d230-4227-9801-7a94c9244a00"
      },
      "source": [
        "%time y.sum().compute()"
      ],
      "execution_count": null,
      "outputs": [
        {
          "output_type": "stream",
          "text": [
            "CPU times: user 128 ms, sys: 3.55 ms, total: 132 ms\n",
            "Wall time: 92.1 ms\n"
          ],
          "name": "stdout"
        },
        {
          "output_type": "execute_result",
          "data": {
            "text/plain": [
              "100004647.48492943"
            ]
          },
          "metadata": {
            "tags": []
          },
          "execution_count": 7
        }
      ]
    },
    {
      "cell_type": "markdown",
      "metadata": {
        "id": "ddOgox-Do95v"
      },
      "source": [
        "# Dask DataFrames\n",
        "\n",
        "\n",
        "\n",
        "<img src=\"https://github.com/dask/dask-examples/blob/main/images/dask-dataframe.svg?raw=1\" \n",
        "     align=\"right\"\n",
        "     width=\"30%\"\n",
        "     alt=\"Dask dataframes are blocked Pandas dataframes\">\n",
        "Dask Dataframes coordinate many Pandas dataframes, partitioned along an index.  They support a large subset of the Pandas API.\n",
        "     \n"
      ]
    },
    {
      "cell_type": "code",
      "metadata": {
        "id": "naEZ5TBkp9hC",
        "colab": {
          "base_uri": "https://localhost:8080/"
        },
        "outputId": "5811456c-a3e1-4d26-dde3-f79c4e734439"
      },
      "source": [
        "! pip install \"dask[dataframe]\""
      ],
      "execution_count": null,
      "outputs": [
        {
          "output_type": "stream",
          "text": [
            "Requirement already satisfied: dask[dataframe] in /usr/local/lib/python3.7/dist-packages (2.12.0)\n",
            "Collecting fsspec>=0.6.0; extra == \"dataframe\"\n",
            "\u001b[?25l  Downloading https://files.pythonhosted.org/packages/e9/91/2ef649137816850fa4f4c97c6f2eabb1a79bf0aa2c8ed198e387e373455e/fsspec-2021.4.0-py3-none-any.whl (108kB)\n",
            "\u001b[K     |████████████████████████████████| 112kB 13.0MB/s \n",
            "\u001b[?25hCollecting partd>=0.3.10; extra == \"dataframe\"\n",
            "  Downloading https://files.pythonhosted.org/packages/41/94/360258a68b55f47859d72b2d0b2b3cfe0ca4fbbcb81b78812bd00ae86b7c/partd-1.2.0-py3-none-any.whl\n",
            "Requirement already satisfied: toolz>=0.7.3; extra == \"dataframe\" in /usr/local/lib/python3.7/dist-packages (from dask[dataframe]) (0.11.1)\n",
            "Requirement already satisfied: numpy>=1.13.0; extra == \"dataframe\" in /usr/local/lib/python3.7/dist-packages (from dask[dataframe]) (1.19.5)\n",
            "Requirement already satisfied: pandas>=0.23.0; extra == \"dataframe\" in /usr/local/lib/python3.7/dist-packages (from dask[dataframe]) (1.1.5)\n",
            "Collecting locket\n",
            "  Downloading https://files.pythonhosted.org/packages/50/b8/e789e45b9b9c2db75e9d9e6ceb022c8d1d7e49b2c085ce8c05600f90a96b/locket-0.2.1-py2.py3-none-any.whl\n",
            "Requirement already satisfied: python-dateutil>=2.7.3 in /usr/local/lib/python3.7/dist-packages (from pandas>=0.23.0; extra == \"dataframe\"->dask[dataframe]) (2.8.1)\n",
            "Requirement already satisfied: pytz>=2017.2 in /usr/local/lib/python3.7/dist-packages (from pandas>=0.23.0; extra == \"dataframe\"->dask[dataframe]) (2018.9)\n",
            "Requirement already satisfied: six>=1.5 in /usr/local/lib/python3.7/dist-packages (from python-dateutil>=2.7.3->pandas>=0.23.0; extra == \"dataframe\"->dask[dataframe]) (1.15.0)\n",
            "Installing collected packages: fsspec, locket, partd\n",
            "Successfully installed fsspec-2021.4.0 locket-0.2.1 partd-1.2.0\n"
          ],
          "name": "stdout"
        }
      ]
    },
    {
      "cell_type": "markdown",
      "metadata": {
        "id": "3eO18k2Ro953"
      },
      "source": [
        "## Create Random Dataframe\n",
        "\n",
        "We create a random timeseries of data with the following attributes:\n",
        "\n",
        "1.  It stores a record for every 10 seconds of the year 2000\n",
        "2.  It splits that year by month, keeping every month as a separate Pandas dataframe\n",
        "3.  Along with a datetime index it has columns for names, ids, and numeric values\n",
        "\n",
        "This is a small dataset of about 240 MB. Increase the number of days or reduce the frequency to practice with a larger dataset. See [doc](https://docs.dask.org/en/latest/api.html#dask.datasets.timeseries) for details."
      ]
    },
    {
      "cell_type": "code",
      "metadata": {
        "id": "-kF2fNIno954"
      },
      "source": [
        "import dask\n",
        "import dask.dataframe as dd\n",
        "\n",
        "\"\"\"\n",
        "def timeseries(\n",
        "    start=\"2000-01-01\",\n",
        "    end=\"2000-01-31\",\n",
        "    freq=\"1s\",\n",
        "    partition_freq=\"1d\",\n",
        "    dtypes={\"name\": str, \"id\": int, \"x\": float, \"y\": float},\n",
        "    seed=None,\n",
        "    **kwargs\n",
        ")\n",
        "\n",
        "Create timeseries dataframe with random data\n",
        "\n",
        "Parameters\n",
        "----------\n",
        "start : datetime (or datetime-like string)\n",
        "    Start of time series\n",
        "end : datetime (or datetime-like string)\n",
        "    End of time series\n",
        "dtypes : dict\n",
        "    Mapping of column names to types.\n",
        "    Valid types include {float, int, str, 'category'}\n",
        "freq : string\n",
        "    String like '2s' or '1H' or '12W' for the time series frequency\n",
        "partition_freq : string\n",
        "    String like '1M' or '2Y' to divide the dataframe into partitions\n",
        "seed : int (optional)\n",
        "    Randomstate seed\n",
        "kwargs:\n",
        "    Keywords to pass down to individual column creation functions.\n",
        "    Keywords should be prefixed by the column name and then an underscore.\n",
        "\n",
        "Examples\n",
        "--------\n",
        ">>> import dask\n",
        ">>> df = dask.datasets.timeseries()\n",
        ">>> df.head()  # doctest: +SKIP\n",
        "            timestamp    id     name         x         y\n",
        "2000-01-01 00:00:00   967    Jerry -0.031348 -0.040633\n",
        "2000-01-01 00:00:01  1066  Michael -0.262136  0.307107\n",
        "2000-01-01 00:00:02   988    Wendy -0.526331  0.128641\n",
        "2000-01-01 00:00:03  1016   Yvonne  0.620456  0.767270\n",
        "2000-01-01 00:00:04   998   Ursula  0.684902 -0.463278\n",
        ">>> df = dask.datasets.timeseries(\n",
        "...     '2000', '2010',\n",
        "...     freq='2H', partition_freq='1D', seed=1,  # data frequency\n",
        "...     dtypes={'value': float, 'name': str, 'id': int},  # data types\n",
        "...     id_lam=1000  # control number of items in id column\n",
        "... )\n",
        "\"\"\"\n",
        "df = dask.datasets.timeseries()"
      ],
      "execution_count": null,
      "outputs": []
    },
    {
      "cell_type": "markdown",
      "metadata": {
        "id": "Vgym-QPMo954"
      },
      "source": [
        "Unlike Pandas, Dask DataFrames are lazy and so no data is printed here."
      ]
    },
    {
      "cell_type": "code",
      "metadata": {
        "id": "soX7XXNpo954",
        "colab": {
          "base_uri": "https://localhost:8080/",
          "height": 269
        },
        "outputId": "d93c3f64-4836-4843-887d-2cea901dc4b3"
      },
      "source": [
        "df"
      ],
      "execution_count": null,
      "outputs": [
        {
          "output_type": "execute_result",
          "data": {
            "text/html": [
              "<div><strong>Dask DataFrame Structure:</strong></div>\n",
              "<div>\n",
              "<style scoped>\n",
              "    .dataframe tbody tr th:only-of-type {\n",
              "        vertical-align: middle;\n",
              "    }\n",
              "\n",
              "    .dataframe tbody tr th {\n",
              "        vertical-align: top;\n",
              "    }\n",
              "\n",
              "    .dataframe thead th {\n",
              "        text-align: right;\n",
              "    }\n",
              "</style>\n",
              "<table border=\"1\" class=\"dataframe\">\n",
              "  <thead>\n",
              "    <tr style=\"text-align: right;\">\n",
              "      <th></th>\n",
              "      <th>id</th>\n",
              "      <th>name</th>\n",
              "      <th>x</th>\n",
              "      <th>y</th>\n",
              "    </tr>\n",
              "    <tr>\n",
              "      <th>npartitions=30</th>\n",
              "      <th></th>\n",
              "      <th></th>\n",
              "      <th></th>\n",
              "      <th></th>\n",
              "    </tr>\n",
              "  </thead>\n",
              "  <tbody>\n",
              "    <tr>\n",
              "      <th>2000-01-01</th>\n",
              "      <td>int64</td>\n",
              "      <td>object</td>\n",
              "      <td>float64</td>\n",
              "      <td>float64</td>\n",
              "    </tr>\n",
              "    <tr>\n",
              "      <th>2000-01-02</th>\n",
              "      <td>...</td>\n",
              "      <td>...</td>\n",
              "      <td>...</td>\n",
              "      <td>...</td>\n",
              "    </tr>\n",
              "    <tr>\n",
              "      <th>...</th>\n",
              "      <td>...</td>\n",
              "      <td>...</td>\n",
              "      <td>...</td>\n",
              "      <td>...</td>\n",
              "    </tr>\n",
              "    <tr>\n",
              "      <th>2000-01-30</th>\n",
              "      <td>...</td>\n",
              "      <td>...</td>\n",
              "      <td>...</td>\n",
              "      <td>...</td>\n",
              "    </tr>\n",
              "    <tr>\n",
              "      <th>2000-01-31</th>\n",
              "      <td>...</td>\n",
              "      <td>...</td>\n",
              "      <td>...</td>\n",
              "      <td>...</td>\n",
              "    </tr>\n",
              "  </tbody>\n",
              "</table>\n",
              "</div>\n",
              "<div>Dask Name: make-timeseries, 30 tasks</div>"
            ],
            "text/plain": [
              "Dask DataFrame Structure:\n",
              "                   id    name        x        y\n",
              "npartitions=30                                 \n",
              "2000-01-01      int64  object  float64  float64\n",
              "2000-01-02        ...     ...      ...      ...\n",
              "...               ...     ...      ...      ...\n",
              "2000-01-30        ...     ...      ...      ...\n",
              "2000-01-31        ...     ...      ...      ...\n",
              "Dask Name: make-timeseries, 30 tasks"
            ]
          },
          "metadata": {
            "tags": []
          },
          "execution_count": 10
        }
      ]
    },
    {
      "cell_type": "markdown",
      "metadata": {
        "id": "VJAvEO5no955"
      },
      "source": [
        "But the column names and dtypes are known."
      ]
    },
    {
      "cell_type": "code",
      "metadata": {
        "id": "89K-fFy6o955",
        "colab": {
          "base_uri": "https://localhost:8080/"
        },
        "outputId": "a55e5d46-94d9-4921-b6cf-34da8d488f61"
      },
      "source": [
        "df.dtypes"
      ],
      "execution_count": null,
      "outputs": [
        {
          "output_type": "execute_result",
          "data": {
            "text/plain": [
              "id        int64\n",
              "name     object\n",
              "x       float64\n",
              "y       float64\n",
              "dtype: object"
            ]
          },
          "metadata": {
            "tags": []
          },
          "execution_count": 11
        }
      ]
    },
    {
      "cell_type": "markdown",
      "metadata": {
        "id": "Jh06aaizo955"
      },
      "source": [
        "Some operations will automatically display the data."
      ]
    },
    {
      "cell_type": "code",
      "metadata": {
        "id": "zFGdTWbFo955"
      },
      "source": [
        "import pandas as pd\n",
        "pd.options.display.precision = 2\n",
        "pd.options.display.max_rows = 10"
      ],
      "execution_count": null,
      "outputs": []
    },
    {
      "cell_type": "code",
      "metadata": {
        "id": "46ABtutso956",
        "colab": {
          "base_uri": "https://localhost:8080/",
          "height": 173
        },
        "outputId": "04ac1b7d-98e5-493d-b931-13ce5a82c216"
      },
      "source": [
        "df.head(3)"
      ],
      "execution_count": null,
      "outputs": [
        {
          "output_type": "execute_result",
          "data": {
            "text/html": [
              "<div>\n",
              "<style scoped>\n",
              "    .dataframe tbody tr th:only-of-type {\n",
              "        vertical-align: middle;\n",
              "    }\n",
              "\n",
              "    .dataframe tbody tr th {\n",
              "        vertical-align: top;\n",
              "    }\n",
              "\n",
              "    .dataframe thead th {\n",
              "        text-align: right;\n",
              "    }\n",
              "</style>\n",
              "<table border=\"1\" class=\"dataframe\">\n",
              "  <thead>\n",
              "    <tr style=\"text-align: right;\">\n",
              "      <th></th>\n",
              "      <th>id</th>\n",
              "      <th>name</th>\n",
              "      <th>x</th>\n",
              "      <th>y</th>\n",
              "    </tr>\n",
              "    <tr>\n",
              "      <th>timestamp</th>\n",
              "      <th></th>\n",
              "      <th></th>\n",
              "      <th></th>\n",
              "      <th></th>\n",
              "    </tr>\n",
              "  </thead>\n",
              "  <tbody>\n",
              "    <tr>\n",
              "      <th>2000-01-01 00:00:00</th>\n",
              "      <td>997</td>\n",
              "      <td>Dan</td>\n",
              "      <td>0.62</td>\n",
              "      <td>-0.08</td>\n",
              "    </tr>\n",
              "    <tr>\n",
              "      <th>2000-01-01 00:00:01</th>\n",
              "      <td>1051</td>\n",
              "      <td>Ray</td>\n",
              "      <td>0.25</td>\n",
              "      <td>-0.29</td>\n",
              "    </tr>\n",
              "    <tr>\n",
              "      <th>2000-01-01 00:00:02</th>\n",
              "      <td>1035</td>\n",
              "      <td>Xavier</td>\n",
              "      <td>0.87</td>\n",
              "      <td>0.73</td>\n",
              "    </tr>\n",
              "  </tbody>\n",
              "</table>\n",
              "</div>"
            ],
            "text/plain": [
              "                       id    name     x     y\n",
              "timestamp                                    \n",
              "2000-01-01 00:00:00   997     Dan  0.62 -0.08\n",
              "2000-01-01 00:00:01  1051     Ray  0.25 -0.29\n",
              "2000-01-01 00:00:02  1035  Xavier  0.87  0.73"
            ]
          },
          "metadata": {
            "tags": []
          },
          "execution_count": 13
        }
      ]
    },
    {
      "cell_type": "markdown",
      "metadata": {
        "id": "6BvPtZKao956"
      },
      "source": [
        "## Use Standard Pandas Operations\n",
        "\n",
        "Most common Pandas operations operate identically on Dask dataframes"
      ]
    },
    {
      "cell_type": "code",
      "metadata": {
        "id": "RBekRyNRo956",
        "colab": {
          "base_uri": "https://localhost:8080/"
        },
        "outputId": "5121a73a-5fe3-460a-da69-a63720f7ad1a"
      },
      "source": [
        "df2 = df[df.y > 0]\n",
        "df3 = df2.groupby('name').x.std()\n",
        "df3"
      ],
      "execution_count": null,
      "outputs": [
        {
          "output_type": "execute_result",
          "data": {
            "text/plain": [
              "Dask Series Structure:\n",
              "npartitions=1\n",
              "    float64\n",
              "        ...\n",
              "Name: x, dtype: float64\n",
              "Dask Name: sqrt, 157 tasks"
            ]
          },
          "metadata": {
            "tags": []
          },
          "execution_count": 14
        }
      ]
    },
    {
      "cell_type": "markdown",
      "metadata": {
        "id": "0kLGfQy6o956"
      },
      "source": [
        "Call `.compute()` when you want your result as a Pandas dataframe.\n",
        "\n",
        "If you started `Client()` above then you may want to watch the status page during computation."
      ]
    },
    {
      "cell_type": "code",
      "metadata": {
        "id": "2MRbbdYio957",
        "colab": {
          "base_uri": "https://localhost:8080/"
        },
        "outputId": "543424af-48ff-4b7b-e94d-88c91aafeb97"
      },
      "source": [
        "computed_df = df3.compute()\n",
        "type(computed_df)"
      ],
      "execution_count": null,
      "outputs": [
        {
          "output_type": "execute_result",
          "data": {
            "text/plain": [
              "pandas.core.series.Series"
            ]
          },
          "metadata": {
            "tags": []
          },
          "execution_count": 15
        }
      ]
    },
    {
      "cell_type": "code",
      "metadata": {
        "id": "fHHNo0Fbo957",
        "colab": {
          "base_uri": "https://localhost:8080/"
        },
        "outputId": "802d2258-03d1-42ce-df2e-01603307160c"
      },
      "source": [
        "computed_df"
      ],
      "execution_count": null,
      "outputs": [
        {
          "output_type": "execute_result",
          "data": {
            "text/plain": [
              "name\n",
              "Alice      0.58\n",
              "Bob        0.58\n",
              "Charlie    0.58\n",
              "Dan        0.58\n",
              "Edith      0.58\n",
              "           ... \n",
              "Victor     0.58\n",
              "Wendy      0.58\n",
              "Xavier     0.58\n",
              "Yvonne     0.58\n",
              "Zelda      0.58\n",
              "Name: x, Length: 26, dtype: float64"
            ]
          },
          "metadata": {
            "tags": []
          },
          "execution_count": 16
        }
      ]
    },
    {
      "cell_type": "markdown",
      "metadata": {
        "id": "ht9LIOtVo957"
      },
      "source": [
        "## Persist data in memory\n",
        "\n",
        "If you have the available RAM for your dataset then you can persist data in memory.  \n",
        "\n",
        "This allows future computations to be much faster."
      ]
    },
    {
      "cell_type": "code",
      "metadata": {
        "id": "4tjCh_xYo957"
      },
      "source": [
        "df = df.persist()"
      ],
      "execution_count": null,
      "outputs": []
    },
    {
      "cell_type": "markdown",
      "metadata": {
        "id": "4KRtdsjXo958"
      },
      "source": [
        "## Time Series Operations\n",
        "\n",
        "Because we have a datetime index time-series operations work efficiently"
      ]
    },
    {
      "cell_type": "code",
      "metadata": {
        "id": "E9NHkUXvo958"
      },
      "source": [
        "%matplotlib inline"
      ],
      "execution_count": null,
      "outputs": []
    },
    {
      "cell_type": "code",
      "metadata": {
        "id": "B0DwMBEfo958",
        "colab": {
          "base_uri": "https://localhost:8080/",
          "height": 235
        },
        "outputId": "d5eb2b1f-bf15-466e-b702-78db2f165d7c"
      },
      "source": [
        "df[['x', 'y']].resample('1h').mean().head()"
      ],
      "execution_count": null,
      "outputs": [
        {
          "output_type": "execute_result",
          "data": {
            "text/html": [
              "<div>\n",
              "<style scoped>\n",
              "    .dataframe tbody tr th:only-of-type {\n",
              "        vertical-align: middle;\n",
              "    }\n",
              "\n",
              "    .dataframe tbody tr th {\n",
              "        vertical-align: top;\n",
              "    }\n",
              "\n",
              "    .dataframe thead th {\n",
              "        text-align: right;\n",
              "    }\n",
              "</style>\n",
              "<table border=\"1\" class=\"dataframe\">\n",
              "  <thead>\n",
              "    <tr style=\"text-align: right;\">\n",
              "      <th></th>\n",
              "      <th>x</th>\n",
              "      <th>y</th>\n",
              "    </tr>\n",
              "    <tr>\n",
              "      <th>timestamp</th>\n",
              "      <th></th>\n",
              "      <th></th>\n",
              "    </tr>\n",
              "  </thead>\n",
              "  <tbody>\n",
              "    <tr>\n",
              "      <th>2000-01-01 00:00:00</th>\n",
              "      <td>-4.35e-04</td>\n",
              "      <td>-5.15e-04</td>\n",
              "    </tr>\n",
              "    <tr>\n",
              "      <th>2000-01-01 01:00:00</th>\n",
              "      <td>-1.69e-02</td>\n",
              "      <td>-8.23e-04</td>\n",
              "    </tr>\n",
              "    <tr>\n",
              "      <th>2000-01-01 02:00:00</th>\n",
              "      <td>1.28e-02</td>\n",
              "      <td>-4.30e-03</td>\n",
              "    </tr>\n",
              "    <tr>\n",
              "      <th>2000-01-01 03:00:00</th>\n",
              "      <td>1.91e-02</td>\n",
              "      <td>-2.81e-03</td>\n",
              "    </tr>\n",
              "    <tr>\n",
              "      <th>2000-01-01 04:00:00</th>\n",
              "      <td>-7.35e-03</td>\n",
              "      <td>-8.83e-03</td>\n",
              "    </tr>\n",
              "  </tbody>\n",
              "</table>\n",
              "</div>"
            ],
            "text/plain": [
              "                            x         y\n",
              "timestamp                              \n",
              "2000-01-01 00:00:00 -4.35e-04 -5.15e-04\n",
              "2000-01-01 01:00:00 -1.69e-02 -8.23e-04\n",
              "2000-01-01 02:00:00  1.28e-02 -4.30e-03\n",
              "2000-01-01 03:00:00  1.91e-02 -2.81e-03\n",
              "2000-01-01 04:00:00 -7.35e-03 -8.83e-03"
            ]
          },
          "metadata": {
            "tags": []
          },
          "execution_count": 19
        }
      ]
    },
    {
      "cell_type": "code",
      "metadata": {
        "id": "mfYAVu1oo958",
        "colab": {
          "base_uri": "https://localhost:8080/",
          "height": 333
        },
        "outputId": "aa824de1-3022-47e1-8e1f-6e9b9f563035"
      },
      "source": [
        "df[['x', 'y']].resample('24h').mean().compute().plot()"
      ],
      "execution_count": null,
      "outputs": [
        {
          "output_type": "execute_result",
          "data": {
            "text/plain": [
              "<matplotlib.axes._subplots.AxesSubplot at 0x7fdd6d2a7a50>"
            ]
          },
          "metadata": {
            "tags": []
          },
          "execution_count": 20
        },
        {
          "output_type": "display_data",
          "data": {
            "image/png": "[encoded data removed]",
            "text/plain": [
              "<Figure size 432x288 with 1 Axes>"
            ]
          },
          "metadata": {
            "tags": [],
            "needs_background": "light"
          }
        }
      ]
    },
    {
      "cell_type": "code",
      "metadata": {
        "id": "Frh5I9aMo958",
        "colab": {
          "base_uri": "https://localhost:8080/",
          "height": 235
        },
        "outputId": "74392c86-4278-41af-b6f9-cd509e8d6ca8"
      },
      "source": [
        "df[['x', 'y']].rolling(window='24h').mean().head()"
      ],
      "execution_count": null,
      "outputs": [
        {
          "output_type": "execute_result",
          "data": {
            "text/html": [
              "<div>\n",
              "<style scoped>\n",
              "    .dataframe tbody tr th:only-of-type {\n",
              "        vertical-align: middle;\n",
              "    }\n",
              "\n",
              "    .dataframe tbody tr th {\n",
              "        vertical-align: top;\n",
              "    }\n",
              "\n",
              "    .dataframe thead th {\n",
              "        text-align: right;\n",
              "    }\n",
              "</style>\n",
              "<table border=\"1\" class=\"dataframe\">\n",
              "  <thead>\n",
              "    <tr style=\"text-align: right;\">\n",
              "      <th></th>\n",
              "      <th>x</th>\n",
              "      <th>y</th>\n",
              "    </tr>\n",
              "    <tr>\n",
              "      <th>timestamp</th>\n",
              "      <th></th>\n",
              "      <th></th>\n",
              "    </tr>\n",
              "  </thead>\n",
              "  <tbody>\n",
              "    <tr>\n",
              "      <th>2000-01-01 00:00:00</th>\n",
              "      <td>0.62</td>\n",
              "      <td>-0.08</td>\n",
              "    </tr>\n",
              "    <tr>\n",
              "      <th>2000-01-01 00:00:01</th>\n",
              "      <td>0.44</td>\n",
              "      <td>-0.19</td>\n",
              "    </tr>\n",
              "    <tr>\n",
              "      <th>2000-01-01 00:00:02</th>\n",
              "      <td>0.58</td>\n",
              "      <td>0.12</td>\n",
              "    </tr>\n",
              "    <tr>\n",
              "      <th>2000-01-01 00:00:03</th>\n",
              "      <td>0.30</td>\n",
              "      <td>0.19</td>\n",
              "    </tr>\n",
              "    <tr>\n",
              "      <th>2000-01-01 00:00:04</th>\n",
              "      <td>0.34</td>\n",
              "      <td>0.05</td>\n",
              "    </tr>\n",
              "  </tbody>\n",
              "</table>\n",
              "</div>"
            ],
            "text/plain": [
              "                        x     y\n",
              "timestamp                      \n",
              "2000-01-01 00:00:00  0.62 -0.08\n",
              "2000-01-01 00:00:01  0.44 -0.19\n",
              "2000-01-01 00:00:02  0.58  0.12\n",
              "2000-01-01 00:00:03  0.30  0.19\n",
              "2000-01-01 00:00:04  0.34  0.05"
            ]
          },
          "metadata": {
            "tags": []
          },
          "execution_count": 21
        }
      ]
    },
    {
      "cell_type": "markdown",
      "metadata": {
        "id": "V6yWJTz1o959"
      },
      "source": [
        "Random access is cheap along the index, but must still be computed."
      ]
    },
    {
      "cell_type": "code",
      "metadata": {
        "id": "k0JO03_4o959",
        "colab": {
          "base_uri": "https://localhost:8080/",
          "height": 176
        },
        "outputId": "fe03d597-dedc-416b-f8cd-74ea541c7e0c"
      },
      "source": [
        "df.loc['2000-01-05']"
      ],
      "execution_count": null,
      "outputs": [
        {
          "output_type": "execute_result",
          "data": {
            "text/html": [
              "<div><strong>Dask DataFrame Structure:</strong></div>\n",
              "<div>\n",
              "<style scoped>\n",
              "    .dataframe tbody tr th:only-of-type {\n",
              "        vertical-align: middle;\n",
              "    }\n",
              "\n",
              "    .dataframe tbody tr th {\n",
              "        vertical-align: top;\n",
              "    }\n",
              "\n",
              "    .dataframe thead th {\n",
              "        text-align: right;\n",
              "    }\n",
              "</style>\n",
              "<table border=\"1\" class=\"dataframe\">\n",
              "  <thead>\n",
              "    <tr style=\"text-align: right;\">\n",
              "      <th></th>\n",
              "      <th>id</th>\n",
              "      <th>name</th>\n",
              "      <th>x</th>\n",
              "      <th>y</th>\n",
              "    </tr>\n",
              "    <tr>\n",
              "      <th>npartitions=1</th>\n",
              "      <th></th>\n",
              "      <th></th>\n",
              "      <th></th>\n",
              "      <th></th>\n",
              "    </tr>\n",
              "  </thead>\n",
              "  <tbody>\n",
              "    <tr>\n",
              "      <th>2000-01-05 00:00:00.000000000</th>\n",
              "      <td>int64</td>\n",
              "      <td>object</td>\n",
              "      <td>float64</td>\n",
              "      <td>float64</td>\n",
              "    </tr>\n",
              "    <tr>\n",
              "      <th>2000-01-05 23:59:59.999999999</th>\n",
              "      <td>...</td>\n",
              "      <td>...</td>\n",
              "      <td>...</td>\n",
              "      <td>...</td>\n",
              "    </tr>\n",
              "  </tbody>\n",
              "</table>\n",
              "</div>\n",
              "<div>Dask Name: loc, 31 tasks</div>"
            ],
            "text/plain": [
              "Dask DataFrame Structure:\n",
              "                                  id    name        x        y\n",
              "npartitions=1                                                 \n",
              "2000-01-05 00:00:00.000000000  int64  object  float64  float64\n",
              "2000-01-05 23:59:59.999999999    ...     ...      ...      ...\n",
              "Dask Name: loc, 31 tasks"
            ]
          },
          "metadata": {
            "tags": []
          },
          "execution_count": 22
        }
      ]
    },
    {
      "cell_type": "code",
      "metadata": {
        "id": "CRsF48n6o959",
        "colab": {
          "base_uri": "https://localhost:8080/",
          "height": 488
        },
        "outputId": "d6a1132f-6469-4869-aa6f-cb19f393f9ab"
      },
      "source": [
        "%time df.loc['2000-01-05'].compute()"
      ],
      "execution_count": null,
      "outputs": [
        {
          "output_type": "stream",
          "text": [
            "CPU times: user 4.72 ms, sys: 2.02 ms, total: 6.75 ms\n",
            "Wall time: 8.27 ms\n"
          ],
          "name": "stdout"
        },
        {
          "output_type": "execute_result",
          "data": {
            "text/html": [
              "<div>\n",
              "<style scoped>\n",
              "    .dataframe tbody tr th:only-of-type {\n",
              "        vertical-align: middle;\n",
              "    }\n",
              "\n",
              "    .dataframe tbody tr th {\n",
              "        vertical-align: top;\n",
              "    }\n",
              "\n",
              "    .dataframe thead th {\n",
              "        text-align: right;\n",
              "    }\n",
              "</style>\n",
              "<table border=\"1\" class=\"dataframe\">\n",
              "  <thead>\n",
              "    <tr style=\"text-align: right;\">\n",
              "      <th></th>\n",
              "      <th>id</th>\n",
              "      <th>name</th>\n",
              "      <th>x</th>\n",
              "      <th>y</th>\n",
              "    </tr>\n",
              "    <tr>\n",
              "      <th>timestamp</th>\n",
              "      <th></th>\n",
              "      <th></th>\n",
              "      <th></th>\n",
              "      <th></th>\n",
              "    </tr>\n",
              "  </thead>\n",
              "  <tbody>\n",
              "    <tr>\n",
              "      <th>2000-01-05 00:00:00</th>\n",
              "      <td>986</td>\n",
              "      <td>Edith</td>\n",
              "      <td>0.02</td>\n",
              "      <td>-0.70</td>\n",
              "    </tr>\n",
              "    <tr>\n",
              "      <th>2000-01-05 00:00:01</th>\n",
              "      <td>1004</td>\n",
              "      <td>Edith</td>\n",
              "      <td>-0.44</td>\n",
              "      <td>-0.96</td>\n",
              "    </tr>\n",
              "    <tr>\n",
              "      <th>2000-01-05 00:00:02</th>\n",
              "      <td>963</td>\n",
              "      <td>Laura</td>\n",
              "      <td>-0.72</td>\n",
              "      <td>-0.69</td>\n",
              "    </tr>\n",
              "    <tr>\n",
              "      <th>2000-01-05 00:00:03</th>\n",
              "      <td>1060</td>\n",
              "      <td>Charlie</td>\n",
              "      <td>0.42</td>\n",
              "      <td>-0.08</td>\n",
              "    </tr>\n",
              "    <tr>\n",
              "      <th>2000-01-05 00:00:04</th>\n",
              "      <td>1031</td>\n",
              "      <td>Ingrid</td>\n",
              "      <td>0.69</td>\n",
              "      <td>-0.78</td>\n",
              "    </tr>\n",
              "    <tr>\n",
              "      <th>...</th>\n",
              "      <td>...</td>\n",
              "      <td>...</td>\n",
              "      <td>...</td>\n",
              "      <td>...</td>\n",
              "    </tr>\n",
              "    <tr>\n",
              "      <th>2000-01-05 23:59:55</th>\n",
              "      <td>978</td>\n",
              "      <td>George</td>\n",
              "      <td>0.35</td>\n",
              "      <td>0.58</td>\n",
              "    </tr>\n",
              "    <tr>\n",
              "      <th>2000-01-05 23:59:56</th>\n",
              "      <td>1029</td>\n",
              "      <td>Laura</td>\n",
              "      <td>-0.02</td>\n",
              "      <td>0.39</td>\n",
              "    </tr>\n",
              "    <tr>\n",
              "      <th>2000-01-05 23:59:57</th>\n",
              "      <td>1005</td>\n",
              "      <td>Bob</td>\n",
              "      <td>-0.80</td>\n",
              "      <td>0.34</td>\n",
              "    </tr>\n",
              "    <tr>\n",
              "      <th>2000-01-05 23:59:58</th>\n",
              "      <td>1068</td>\n",
              "      <td>Michael</td>\n",
              "      <td>-0.44</td>\n",
              "      <td>0.04</td>\n",
              "    </tr>\n",
              "    <tr>\n",
              "      <th>2000-01-05 23:59:59</th>\n",
              "      <td>1018</td>\n",
              "      <td>Victor</td>\n",
              "      <td>0.83</td>\n",
              "      <td>-0.39</td>\n",
              "    </tr>\n",
              "  </tbody>\n",
              "</table>\n",
              "<p>86400 rows × 4 columns</p>\n",
              "</div>"
            ],
            "text/plain": [
              "                       id     name     x     y\n",
              "timestamp                                     \n",
              "2000-01-05 00:00:00   986    Edith  0.02 -0.70\n",
              "2000-01-05 00:00:01  1004    Edith -0.44 -0.96\n",
              "2000-01-05 00:00:02   963    Laura -0.72 -0.69\n",
              "2000-01-05 00:00:03  1060  Charlie  0.42 -0.08\n",
              "2000-01-05 00:00:04  1031   Ingrid  0.69 -0.78\n",
              "...                   ...      ...   ...   ...\n",
              "2000-01-05 23:59:55   978   George  0.35  0.58\n",
              "2000-01-05 23:59:56  1029    Laura -0.02  0.39\n",
              "2000-01-05 23:59:57  1005      Bob -0.80  0.34\n",
              "2000-01-05 23:59:58  1068  Michael -0.44  0.04\n",
              "2000-01-05 23:59:59  1018   Victor  0.83 -0.39\n",
              "\n",
              "[86400 rows x 4 columns]"
            ]
          },
          "metadata": {
            "tags": []
          },
          "execution_count": 23
        }
      ]
    },
    {
      "cell_type": "markdown",
      "metadata": {
        "id": "dn-lvhU1o959"
      },
      "source": [
        "## Set Index\n",
        "\n",
        "Data is sorted by the index column.  This allows for faster access, joins, groupby-apply operations, etc..  However sorting data can be costly to do in parallel, so setting the index is both important to do, but only infrequently."
      ]
    },
    {
      "cell_type": "code",
      "metadata": {
        "id": "qtgsZVweo959",
        "colab": {
          "base_uri": "https://localhost:8080/",
          "height": 269
        },
        "outputId": "95d1d197-2992-4855-c71e-031040d0be50"
      },
      "source": [
        "df = df.set_index('name')\n",
        "df"
      ],
      "execution_count": null,
      "outputs": [
        {
          "output_type": "execute_result",
          "data": {
            "text/html": [
              "<div><strong>Dask DataFrame Structure:</strong></div>\n",
              "<div>\n",
              "<style scoped>\n",
              "    .dataframe tbody tr th:only-of-type {\n",
              "        vertical-align: middle;\n",
              "    }\n",
              "\n",
              "    .dataframe tbody tr th {\n",
              "        vertical-align: top;\n",
              "    }\n",
              "\n",
              "    .dataframe thead th {\n",
              "        text-align: right;\n",
              "    }\n",
              "</style>\n",
              "<table border=\"1\" class=\"dataframe\">\n",
              "  <thead>\n",
              "    <tr style=\"text-align: right;\">\n",
              "      <th></th>\n",
              "      <th>id</th>\n",
              "      <th>x</th>\n",
              "      <th>y</th>\n",
              "    </tr>\n",
              "    <tr>\n",
              "      <th>npartitions=30</th>\n",
              "      <th></th>\n",
              "      <th></th>\n",
              "      <th></th>\n",
              "    </tr>\n",
              "  </thead>\n",
              "  <tbody>\n",
              "    <tr>\n",
              "      <th>Alice</th>\n",
              "      <td>int64</td>\n",
              "      <td>float64</td>\n",
              "      <td>float64</td>\n",
              "    </tr>\n",
              "    <tr>\n",
              "      <th>Alice</th>\n",
              "      <td>...</td>\n",
              "      <td>...</td>\n",
              "      <td>...</td>\n",
              "    </tr>\n",
              "    <tr>\n",
              "      <th>...</th>\n",
              "      <td>...</td>\n",
              "      <td>...</td>\n",
              "      <td>...</td>\n",
              "    </tr>\n",
              "    <tr>\n",
              "      <th>Zelda</th>\n",
              "      <td>...</td>\n",
              "      <td>...</td>\n",
              "      <td>...</td>\n",
              "    </tr>\n",
              "    <tr>\n",
              "      <th>Zelda</th>\n",
              "      <td>...</td>\n",
              "      <td>...</td>\n",
              "      <td>...</td>\n",
              "    </tr>\n",
              "  </tbody>\n",
              "</table>\n",
              "</div>\n",
              "<div>Dask Name: sort_index, 242 tasks</div>"
            ],
            "text/plain": [
              "Dask DataFrame Structure:\n",
              "                   id        x        y\n",
              "npartitions=30                         \n",
              "Alice           int64  float64  float64\n",
              "Alice             ...      ...      ...\n",
              "...               ...      ...      ...\n",
              "Zelda             ...      ...      ...\n",
              "Zelda             ...      ...      ...\n",
              "Dask Name: sort_index, 242 tasks"
            ]
          },
          "metadata": {
            "tags": []
          },
          "execution_count": 24
        }
      ]
    },
    {
      "cell_type": "markdown",
      "metadata": {
        "id": "u3LvmprNo95-"
      },
      "source": [
        "Because computing this dataset is expensive and we can fit it in our available RAM, we persist the dataset to memory."
      ]
    },
    {
      "cell_type": "code",
      "metadata": {
        "id": "Ns1yYhm5o95-"
      },
      "source": [
        "df = df.persist()"
      ],
      "execution_count": null,
      "outputs": []
    },
    {
      "cell_type": "markdown",
      "metadata": {
        "id": "io2TOZiZo95-"
      },
      "source": [
        "Dask now knows where all data lives, indexed cleanly by name.  As a result oerations like random access are cheap and efficient"
      ]
    },
    {
      "cell_type": "code",
      "metadata": {
        "id": "2ZUJPnRno95-",
        "colab": {
          "base_uri": "https://localhost:8080/",
          "height": 488
        },
        "outputId": "2f247169-5206-4bf6-d5ed-8d41d01c6927"
      },
      "source": [
        "%time df.loc['Alice'].compute()"
      ],
      "execution_count": null,
      "outputs": [
        {
          "output_type": "stream",
          "text": [
            "CPU times: user 9.58 ms, sys: 1.11 ms, total: 10.7 ms\n",
            "Wall time: 12.7 ms\n"
          ],
          "name": "stdout"
        },
        {
          "output_type": "execute_result",
          "data": {
            "text/html": [
              "<div>\n",
              "<style scoped>\n",
              "    .dataframe tbody tr th:only-of-type {\n",
              "        vertical-align: middle;\n",
              "    }\n",
              "\n",
              "    .dataframe tbody tr th {\n",
              "        vertical-align: top;\n",
              "    }\n",
              "\n",
              "    .dataframe thead th {\n",
              "        text-align: right;\n",
              "    }\n",
              "</style>\n",
              "<table border=\"1\" class=\"dataframe\">\n",
              "  <thead>\n",
              "    <tr style=\"text-align: right;\">\n",
              "      <th></th>\n",
              "      <th>id</th>\n",
              "      <th>x</th>\n",
              "      <th>y</th>\n",
              "    </tr>\n",
              "    <tr>\n",
              "      <th>name</th>\n",
              "      <th></th>\n",
              "      <th></th>\n",
              "      <th></th>\n",
              "    </tr>\n",
              "  </thead>\n",
              "  <tbody>\n",
              "    <tr>\n",
              "      <th>Alice</th>\n",
              "      <td>1010</td>\n",
              "      <td>-0.83</td>\n",
              "      <td>0.99</td>\n",
              "    </tr>\n",
              "    <tr>\n",
              "      <th>Alice</th>\n",
              "      <td>1050</td>\n",
              "      <td>0.27</td>\n",
              "      <td>-0.72</td>\n",
              "    </tr>\n",
              "    <tr>\n",
              "      <th>Alice</th>\n",
              "      <td>1021</td>\n",
              "      <td>0.87</td>\n",
              "      <td>0.46</td>\n",
              "    </tr>\n",
              "    <tr>\n",
              "      <th>Alice</th>\n",
              "      <td>1020</td>\n",
              "      <td>-0.02</td>\n",
              "      <td>-0.03</td>\n",
              "    </tr>\n",
              "    <tr>\n",
              "      <th>Alice</th>\n",
              "      <td>984</td>\n",
              "      <td>0.24</td>\n",
              "      <td>-0.12</td>\n",
              "    </tr>\n",
              "    <tr>\n",
              "      <th>...</th>\n",
              "      <td>...</td>\n",
              "      <td>...</td>\n",
              "      <td>...</td>\n",
              "    </tr>\n",
              "    <tr>\n",
              "      <th>Alice</th>\n",
              "      <td>1022</td>\n",
              "      <td>0.73</td>\n",
              "      <td>-0.62</td>\n",
              "    </tr>\n",
              "    <tr>\n",
              "      <th>Alice</th>\n",
              "      <td>1000</td>\n",
              "      <td>0.35</td>\n",
              "      <td>-1.00</td>\n",
              "    </tr>\n",
              "    <tr>\n",
              "      <th>Alice</th>\n",
              "      <td>1000</td>\n",
              "      <td>0.98</td>\n",
              "      <td>0.13</td>\n",
              "    </tr>\n",
              "    <tr>\n",
              "      <th>Alice</th>\n",
              "      <td>1030</td>\n",
              "      <td>-0.79</td>\n",
              "      <td>0.59</td>\n",
              "    </tr>\n",
              "    <tr>\n",
              "      <th>Alice</th>\n",
              "      <td>1002</td>\n",
              "      <td>0.93</td>\n",
              "      <td>0.35</td>\n",
              "    </tr>\n",
              "  </tbody>\n",
              "</table>\n",
              "<p>99493 rows × 3 columns</p>\n",
              "</div>"
            ],
            "text/plain": [
              "         id     x     y\n",
              "name                   \n",
              "Alice  1010 -0.83  0.99\n",
              "Alice  1050  0.27 -0.72\n",
              "Alice  1021  0.87  0.46\n",
              "Alice  1020 -0.02 -0.03\n",
              "Alice   984  0.24 -0.12\n",
              "...     ...   ...   ...\n",
              "Alice  1022  0.73 -0.62\n",
              "Alice  1000  0.35 -1.00\n",
              "Alice  1000  0.98  0.13\n",
              "Alice  1030 -0.79  0.59\n",
              "Alice  1002  0.93  0.35\n",
              "\n",
              "[99493 rows x 3 columns]"
            ]
          },
          "metadata": {
            "tags": []
          },
          "execution_count": 26
        }
      ]
    },
    {
      "cell_type": "markdown",
      "metadata": {
        "id": "NQpvlE4zo95-"
      },
      "source": [
        "## Groupby Apply with Scikit-Learn"
      ]
    },
    {
      "cell_type": "markdown",
      "metadata": {
        "id": "EKiJEMr0o95_"
      },
      "source": [
        "Now that our data is sorted by name we can easily do operations like random access on name, or groupby-apply with custom functions.\n",
        "\n",
        "Here we train a different Scikit-Learn linear regression model on each name."
      ]
    },
    {
      "cell_type": "code",
      "metadata": {
        "id": "BepIJOW3o95_"
      },
      "source": [
        "from sklearn.linear_model import LinearRegression\n",
        "\n",
        "def train(partition):\n",
        "    est = LinearRegression()\n",
        "    est.fit(partition[['x']].values, partition.y.values)\n",
        "    return est"
      ],
      "execution_count": null,
      "outputs": []
    },
    {
      "cell_type": "code",
      "metadata": {
        "id": "_AlN0Z1Bo95_",
        "colab": {
          "base_uri": "https://localhost:8080/"
        },
        "outputId": "f5af2f27-6c3b-4932-fc10-0531d2bcb751"
      },
      "source": [
        "df.groupby('name').apply(train, meta=object).compute()"
      ],
      "execution_count": null,
      "outputs": [
        {
          "output_type": "execute_result",
          "data": {
            "text/plain": [
              "name\n",
              "Alice      LinearRegression(copy_X=True, fit_intercept=Tr...\n",
              "Bob        LinearRegression(copy_X=True, fit_intercept=Tr...\n",
              "Charlie    LinearRegression(copy_X=True, fit_intercept=Tr...\n",
              "Dan        LinearRegression(copy_X=True, fit_intercept=Tr...\n",
              "Edith      LinearRegression(copy_X=True, fit_intercept=Tr...\n",
              "                                 ...                        \n",
              "Victor     LinearRegression(copy_X=True, fit_intercept=Tr...\n",
              "Wendy      LinearRegression(copy_X=True, fit_intercept=Tr...\n",
              "Xavier     LinearRegression(copy_X=True, fit_intercept=Tr...\n",
              "Yvonne     LinearRegression(copy_X=True, fit_intercept=Tr...\n",
              "Zelda      LinearRegression(copy_X=True, fit_intercept=Tr...\n",
              "Length: 26, dtype: object"
            ]
          },
          "metadata": {
            "tags": []
          },
          "execution_count": 28
        }
      ]
    },
    {
      "cell_type": "markdown",
      "metadata": {
        "id": "cU-NvroMo95_"
      },
      "source": [
        "## Further Reading\n",
        "\n",
        "For a more in-depth introduction to Dask dataframes, see the [dask tutorial](https://github.com/dask/dask-tutorial), notebooks 04 and 07."
      ]
    },
    {
      "cell_type": "markdown",
      "metadata": {
        "id": "MuKVBzzlAszw"
      },
      "source": [
        "# Dask Bags\n",
        "\n",
        "\n",
        "Dask Bag implements operations like `map`, `filter`, `groupby` and aggregations on collections of Python objects. It does this in parallel and in small memory using Python iterators. It is similar to a parallel version of itertools or a Pythonic version of the PySpark RDD.\n",
        "\n",
        "Dask Bags are often used to do simple preprocessing on log files, JSON records, or other user defined Python objects.\n",
        "\n",
        "Full API documentation is available here: http://docs.dask.org/en/latest/bag-api.html"
      ]
    },
    {
      "cell_type": "code",
      "metadata": {
        "colab": {
          "base_uri": "https://localhost:8080/"
        },
        "id": "73kD3lY9BNHB",
        "outputId": "8c5000f4-4c16-41ab-e558-5827609797fe"
      },
      "source": [
        "!pip install mimesis"
      ],
      "execution_count": null,
      "outputs": [
        {
          "output_type": "stream",
          "text": [
            "Collecting mimesis\n",
            "\u001b[?25l  Downloading https://files.pythonhosted.org/packages/2d/f0/29d3ff558fdcafd2eb11a46008ea308554f1e38714f009ad433849e241a8/mimesis-4.1.3.tar.gz (2.8MB)\n",
            "\u001b[K     |████████████████████████████████| 2.8MB 11.6MB/s \n",
            "\u001b[?25hBuilding wheels for collected packages: mimesis\n",
            "  Building wheel for mimesis (setup.py) ... \u001b[?25l\u001b[?25hdone\n",
            "  Created wheel for mimesis: filename=mimesis-4.1.3-cp37-none-any.whl size=2849715 sha256=c7cd4c705a47f276461d9d32e5c0a57d7bc80344869303dd8c286a7f4f865a12\n",
            "  Stored in directory: /root/.cache/pip/wheels/62/9f/72/6528c19b53d5861565e0ee62a6a2c0b1a961ea6e4dc96f36b7\n",
            "Successfully built mimesis\n",
            "Installing collected packages: mimesis\n",
            "Successfully installed mimesis-4.1.3\n"
          ],
          "name": "stdout"
        }
      ]
    },
    {
      "cell_type": "markdown",
      "metadata": {
        "id": "blxWTDuJAjKP"
      },
      "source": [
        "## Create Random Data\n",
        "\n",
        "We create a random set of record data and store it to disk as many JSON files.  This will serve as our data for this notebook."
      ]
    },
    {
      "cell_type": "code",
      "metadata": {
        "id": "w_XLLTSOAjKP",
        "colab": {
          "base_uri": "https://localhost:8080/"
        },
        "outputId": "2751bd4d-b0c1-44ee-877d-84a14f108032"
      },
      "source": [
        "import dask\n",
        "import json\n",
        "import os\n",
        "\n",
        "os.makedirs('data', exist_ok=True)              # Create data/ directory\n",
        "\n",
        "b = dask.datasets.make_people()                 # Make records of people\n",
        "b.map(json.dumps).to_textfiles('data/*.json')   # Encode as JSON, write to disk"
      ],
      "execution_count": null,
      "outputs": [
        {
          "output_type": "execute_result",
          "data": {
            "text/plain": [
              "['/content/data/0.json',\n",
              " '/content/data/1.json',\n",
              " '/content/data/2.json',\n",
              " '/content/data/3.json',\n",
              " '/content/data/4.json',\n",
              " '/content/data/5.json',\n",
              " '/content/data/6.json',\n",
              " '/content/data/7.json',\n",
              " '/content/data/8.json',\n",
              " '/content/data/9.json']"
            ]
          },
          "metadata": {
            "tags": []
          },
          "execution_count": 30
        }
      ]
    },
    {
      "cell_type": "markdown",
      "metadata": {
        "id": "dTTNjelpAjKQ"
      },
      "source": [
        "## Read JSON data\n",
        "\n",
        "Now that we have some JSON data in a file lets take a look at it with Dask Bag and Python JSON module."
      ]
    },
    {
      "cell_type": "code",
      "metadata": {
        "id": "F2pAysqMAjKQ",
        "colab": {
          "base_uri": "https://localhost:8080/"
        },
        "outputId": "62adec19-49a4-4569-cb5c-2a01669b3a7d"
      },
      "source": [
        "!head -n 2 data/0.json"
      ],
      "execution_count": null,
      "outputs": [
        {
          "output_type": "stream",
          "text": [
            "{\"age\": 33, \"name\": [\"Donnell\", \"Taylor\"], \"occupation\": \"Shelter Warden\", \"telephone\": \"1-662-417-4286\", \"address\": {\"address\": \"546 Valmar Parade\", \"city\": \"Winter Springs\"}, \"credit-card\": {\"number\": \"4732 8526 8029 5434\", \"expiration-date\": \"08/23\"}}\n",
            "{\"age\": 42, \"name\": [\"Clifford\", \"Riddle\"], \"occupation\": \"Lighting Designer\", \"telephone\": \"815-112-3334\", \"address\": {\"address\": \"319 Redondo Bay\", \"city\": \"Corsicana\"}, \"credit-card\": {\"number\": \"5467 2445 8661 3209\", \"expiration-date\": \"07/18\"}}\n"
          ],
          "name": "stdout"
        }
      ]
    },
    {
      "cell_type": "code",
      "metadata": {
        "id": "vjjuKlEgAjKQ",
        "colab": {
          "base_uri": "https://localhost:8080/"
        },
        "outputId": "18a71d26-f03f-40a5-b56a-d800a671a23d"
      },
      "source": [
        "import dask.bag as db\n",
        "import json\n",
        "\n",
        "b = db.read_text('data/*.json').map(json.loads)\n",
        "b"
      ],
      "execution_count": null,
      "outputs": [
        {
          "output_type": "execute_result",
          "data": {
            "text/plain": [
              "dask.bag<loads, npartitions=10>"
            ]
          },
          "metadata": {
            "tags": []
          },
          "execution_count": 32
        }
      ]
    },
    {
      "cell_type": "code",
      "metadata": {
        "id": "mjfxQovfAjKR",
        "colab": {
          "base_uri": "https://localhost:8080/"
        },
        "outputId": "d74f03ba-624b-46eb-bc16-5f3b78647fcb"
      },
      "source": [
        "b.take(2)"
      ],
      "execution_count": null,
      "outputs": [
        {
          "output_type": "execute_result",
          "data": {
            "text/plain": [
              "({'address': {'address': '546 Valmar Parade', 'city': 'Winter Springs'},\n",
              "  'age': 33,\n",
              "  'credit-card': {'expiration-date': '08/23', 'number': '4732 8526 8029 5434'},\n",
              "  'name': ['Donnell', 'Taylor'],\n",
              "  'occupation': 'Shelter Warden',\n",
              "  'telephone': '1-662-417-4286'},\n",
              " {'address': {'address': '319 Redondo Bay', 'city': 'Corsicana'},\n",
              "  'age': 42,\n",
              "  'credit-card': {'expiration-date': '07/18', 'number': '5467 2445 8661 3209'},\n",
              "  'name': ['Clifford', 'Riddle'],\n",
              "  'occupation': 'Lighting Designer',\n",
              "  'telephone': '815-112-3334'})"
            ]
          },
          "metadata": {
            "tags": []
          },
          "execution_count": 33
        }
      ]
    },
    {
      "cell_type": "markdown",
      "metadata": {
        "id": "xnrAYcwaAjKR"
      },
      "source": [
        "## Map, Filter, Aggregate\n",
        "\n",
        "We can process this data by filtering out only certain records of interest, mapping functions over it to process our data, and aggregating those results to a total value."
      ]
    },
    {
      "cell_type": "code",
      "metadata": {
        "id": "2G4StwlIAjKS",
        "colab": {
          "base_uri": "https://localhost:8080/"
        },
        "outputId": "8a3185b8-f211-456e-effd-ce03fa719b2f"
      },
      "source": [
        "b.filter(lambda record: record['age'] > 30).take(2)  # Select only people over 30"
      ],
      "execution_count": null,
      "outputs": [
        {
          "output_type": "execute_result",
          "data": {
            "text/plain": [
              "({'address': {'address': '546 Valmar Parade', 'city': 'Winter Springs'},\n",
              "  'age': 33,\n",
              "  'credit-card': {'expiration-date': '08/23', 'number': '4732 8526 8029 5434'},\n",
              "  'name': ['Donnell', 'Taylor'],\n",
              "  'occupation': 'Shelter Warden',\n",
              "  'telephone': '1-662-417-4286'},\n",
              " {'address': {'address': '319 Redondo Bay', 'city': 'Corsicana'},\n",
              "  'age': 42,\n",
              "  'credit-card': {'expiration-date': '07/18', 'number': '5467 2445 8661 3209'},\n",
              "  'name': ['Clifford', 'Riddle'],\n",
              "  'occupation': 'Lighting Designer',\n",
              "  'telephone': '815-112-3334'})"
            ]
          },
          "metadata": {
            "tags": []
          },
          "execution_count": 34
        }
      ]
    },
    {
      "cell_type": "code",
      "metadata": {
        "id": "j3KAA1GwAjKS",
        "colab": {
          "base_uri": "https://localhost:8080/"
        },
        "outputId": "be01a855-dc4c-45d8-e3ae-22a4ea877605"
      },
      "source": [
        "b.map(lambda record: record['occupation']).take(2)  # Select the occupation field"
      ],
      "execution_count": null,
      "outputs": [
        {
          "output_type": "execute_result",
          "data": {
            "text/plain": [
              "('Shelter Warden', 'Lighting Designer')"
            ]
          },
          "metadata": {
            "tags": []
          },
          "execution_count": 35
        }
      ]
    },
    {
      "cell_type": "code",
      "metadata": {
        "id": "fMtDoqwwAjKS",
        "colab": {
          "base_uri": "https://localhost:8080/"
        },
        "outputId": "b6a1be25-18e3-4af8-8ef3-b0db1392662d"
      },
      "source": [
        "b.count().compute()  # Count total number of records"
      ],
      "execution_count": null,
      "outputs": [
        {
          "output_type": "execute_result",
          "data": {
            "text/plain": [
              "10000"
            ]
          },
          "metadata": {
            "tags": []
          },
          "execution_count": 36
        }
      ]
    },
    {
      "cell_type": "markdown",
      "metadata": {
        "id": "ltiId-m0AjKS"
      },
      "source": [
        "## Chain computations\n",
        "\n",
        "It is common to do many of these steps in one pipeline, only calling `compute` or `take` at the end."
      ]
    },
    {
      "cell_type": "code",
      "metadata": {
        "id": "ji1OWIHCAjKT",
        "colab": {
          "base_uri": "https://localhost:8080/"
        },
        "outputId": "94425793-a7c9-4853-8fa8-e2fbd3f7be51"
      },
      "source": [
        "result = (b.filter(lambda record: record['age'] > 30)\n",
        "           .map(lambda record: record['occupation'])\n",
        "           .frequencies(sort=True)\n",
        "           .topk(10, key=1))\n",
        "result"
      ],
      "execution_count": null,
      "outputs": [
        {
          "output_type": "execute_result",
          "data": {
            "text/plain": [
              "dask.bag<topk-aggregate, npartitions=1>"
            ]
          },
          "metadata": {
            "tags": []
          },
          "execution_count": 37
        }
      ]
    },
    {
      "cell_type": "markdown",
      "metadata": {
        "id": "lC4fHAMOAjKT"
      },
      "source": [
        "As with all lazy Dask collections, we need to call `compute` to actually evaluate our result.  The `take` method used in earlier examples is also like `compute` and will also trigger computation."
      ]
    },
    {
      "cell_type": "code",
      "metadata": {
        "id": "an73GQ1AAjKT",
        "colab": {
          "base_uri": "https://localhost:8080/"
        },
        "outputId": "e3cac97c-c2ee-4c76-d559-d6457fd62ef1"
      },
      "source": [
        "result.compute()"
      ],
      "execution_count": null,
      "outputs": [
        {
          "output_type": "execute_result",
          "data": {
            "text/plain": [
              "[('Radio Engineer', 15),\n",
              " ('Cashier', 14),\n",
              " ('Pawnbroker', 14),\n",
              " ('Cinema Manager', 14),\n",
              " ('Studio Manager', 14),\n",
              " ('Stonemason', 13),\n",
              " ('Glazier', 13),\n",
              " ('Sand Blaster', 13),\n",
              " ('Almoner', 13),\n",
              " ('Town Planner', 13)]"
            ]
          },
          "metadata": {
            "tags": []
          },
          "execution_count": 38
        }
      ]
    },
    {
      "cell_type": "markdown",
      "metadata": {
        "id": "bdYFx5bBAjKU"
      },
      "source": [
        "## Transform and Store\n",
        "\n",
        "Sometimes we want to compute aggregations as above, but sometimes we want to store results to disk for future analyses.  For that we can use methods like `to_textfiles` and `json.dumps`, or we can convert to Dask Dataframes and use their storage systems, which we'll see more of in the next section."
      ]
    },
    {
      "cell_type": "code",
      "metadata": {
        "id": "94Lsw1qSAjKU",
        "colab": {
          "base_uri": "https://localhost:8080/"
        },
        "outputId": "d7d0dc09-f8a6-4753-a4c4-ebf8198a40f6"
      },
      "source": [
        "(b.filter(lambda record: record['age'] > 30)  # Select records of interest\n",
        "  .map(json.dumps)                            # Convert Python objects to text\n",
        "  .to_textfiles('data/processed.*.json'))     # Write to local disk"
      ],
      "execution_count": null,
      "outputs": [
        {
          "output_type": "execute_result",
          "data": {
            "text/plain": [
              "['/content/data/processed.0.json',\n",
              " '/content/data/processed.1.json',\n",
              " '/content/data/processed.2.json',\n",
              " '/content/data/processed.3.json',\n",
              " '/content/data/processed.4.json',\n",
              " '/content/data/processed.5.json',\n",
              " '/content/data/processed.6.json',\n",
              " '/content/data/processed.7.json',\n",
              " '/content/data/processed.8.json',\n",
              " '/content/data/processed.9.json']"
            ]
          },
          "metadata": {
            "tags": []
          },
          "execution_count": 39
        }
      ]
    },
    {
      "cell_type": "markdown",
      "metadata": {
        "id": "k2kEpb1LAjKU"
      },
      "source": [
        "## Convert to Dask Dataframes\n",
        "\n",
        "Dask Bags are good for reading in initial data, doing a bit of pre-processing, and then handing off to some other more efficient form like Dask Dataframes.  Dask Dataframes use Pandas internally, and so can be much faster on numeric data and also have more complex algorithms.  \n",
        "\n",
        "However, Dask Dataframes also expect data that is organized as flat columns.  It does not support nested JSON data very well (Bag is better for this).\n",
        "\n",
        "Here we make a function to flatten down our nested data structure, map that across our records, and then convert that to a Dask Dataframe."
      ]
    },
    {
      "cell_type": "code",
      "metadata": {
        "id": "GzDr-JvAAjKV",
        "colab": {
          "base_uri": "https://localhost:8080/"
        },
        "outputId": "47189708-2e22-43cd-87f4-a56a5b56f098"
      },
      "source": [
        "b.take(1)"
      ],
      "execution_count": null,
      "outputs": [
        {
          "output_type": "execute_result",
          "data": {
            "text/plain": [
              "({'address': {'address': '546 Valmar Parade', 'city': 'Winter Springs'},\n",
              "  'age': 33,\n",
              "  'credit-card': {'expiration-date': '08/23', 'number': '4732 8526 8029 5434'},\n",
              "  'name': ['Donnell', 'Taylor'],\n",
              "  'occupation': 'Shelter Warden',\n",
              "  'telephone': '1-662-417-4286'},)"
            ]
          },
          "metadata": {
            "tags": []
          },
          "execution_count": 40
        }
      ]
    },
    {
      "cell_type": "code",
      "metadata": {
        "id": "FRN0j2UXAjKV",
        "colab": {
          "base_uri": "https://localhost:8080/"
        },
        "outputId": "7262222e-d1b4-4b54-b300-a64c559c3e0b"
      },
      "source": [
        "def flatten(record):\n",
        "    return {\n",
        "        'age': record['age'],\n",
        "        'occupation': record['occupation'],\n",
        "        'telephone': record['telephone'],\n",
        "        'credit-card-number': record['credit-card']['number'],\n",
        "        'credit-card-expiration': record['credit-card']['expiration-date'],\n",
        "        'name': ' '.join(record['name']),\n",
        "        'street-address': record['address']['address'],\n",
        "        'city': record['address']['city']   \n",
        "    }\n",
        "\n",
        "b.map(flatten).take(1)"
      ],
      "execution_count": null,
      "outputs": [
        {
          "output_type": "execute_result",
          "data": {
            "text/plain": [
              "({'age': 33,\n",
              "  'city': 'Winter Springs',\n",
              "  'credit-card-expiration': '08/23',\n",
              "  'credit-card-number': '4732 8526 8029 5434',\n",
              "  'name': 'Donnell Taylor',\n",
              "  'occupation': 'Shelter Warden',\n",
              "  'street-address': '546 Valmar Parade',\n",
              "  'telephone': '1-662-417-4286'},)"
            ]
          },
          "metadata": {
            "tags": []
          },
          "execution_count": 41
        }
      ]
    },
    {
      "cell_type": "code",
      "metadata": {
        "id": "8lsWDsfXAjKV",
        "colab": {
          "base_uri": "https://localhost:8080/",
          "height": 204
        },
        "outputId": "856bb83b-fafd-4e02-ac22-eae3079f06d6"
      },
      "source": [
        "df = b.map(flatten).to_dataframe()\n",
        "df.head()"
      ],
      "execution_count": null,
      "outputs": [
        {
          "output_type": "execute_result",
          "data": {
            "text/html": [
              "<div>\n",
              "<style scoped>\n",
              "    .dataframe tbody tr th:only-of-type {\n",
              "        vertical-align: middle;\n",
              "    }\n",
              "\n",
              "    .dataframe tbody tr th {\n",
              "        vertical-align: top;\n",
              "    }\n",
              "\n",
              "    .dataframe thead th {\n",
              "        text-align: right;\n",
              "    }\n",
              "</style>\n",
              "<table border=\"1\" class=\"dataframe\">\n",
              "  <thead>\n",
              "    <tr style=\"text-align: right;\">\n",
              "      <th></th>\n",
              "      <th>age</th>\n",
              "      <th>occupation</th>\n",
              "      <th>telephone</th>\n",
              "      <th>credit-card-number</th>\n",
              "      <th>credit-card-expiration</th>\n",
              "      <th>name</th>\n",
              "      <th>street-address</th>\n",
              "      <th>city</th>\n",
              "    </tr>\n",
              "  </thead>\n",
              "  <tbody>\n",
              "    <tr>\n",
              "      <th>0</th>\n",
              "      <td>33</td>\n",
              "      <td>Shelter Warden</td>\n",
              "      <td>1-662-417-4286</td>\n",
              "      <td>4732 8526 8029 5434</td>\n",
              "      <td>08/23</td>\n",
              "      <td>Donnell Taylor</td>\n",
              "      <td>546 Valmar Parade</td>\n",
              "      <td>Winter Springs</td>\n",
              "    </tr>\n",
              "    <tr>\n",
              "      <th>1</th>\n",
              "      <td>42</td>\n",
              "      <td>Lighting Designer</td>\n",
              "      <td>815-112-3334</td>\n",
              "      <td>5467 2445 8661 3209</td>\n",
              "      <td>07/18</td>\n",
              "      <td>Clifford Riddle</td>\n",
              "      <td>319 Redondo Bay</td>\n",
              "      <td>Corsicana</td>\n",
              "    </tr>\n",
              "    <tr>\n",
              "      <th>2</th>\n",
              "      <td>45</td>\n",
              "      <td>Pest Controller</td>\n",
              "      <td>187.851.9544</td>\n",
              "      <td>2485 3244 2556 6712</td>\n",
              "      <td>08/22</td>\n",
              "      <td>Chang Hewitt</td>\n",
              "      <td>1297 Mansfield Line</td>\n",
              "      <td>Dothan</td>\n",
              "    </tr>\n",
              "    <tr>\n",
              "      <th>3</th>\n",
              "      <td>41</td>\n",
              "      <td>Word Processing Operator</td>\n",
              "      <td>(407) 125-5067</td>\n",
              "      <td>5267 7231 1083 1835</td>\n",
              "      <td>08/23</td>\n",
              "      <td>Claretta Ferrell</td>\n",
              "      <td>952 Sanches Garden</td>\n",
              "      <td>Novi</td>\n",
              "    </tr>\n",
              "    <tr>\n",
              "      <th>4</th>\n",
              "      <td>53</td>\n",
              "      <td>Floor Manager</td>\n",
              "      <td>1-708-066-3093</td>\n",
              "      <td>4235 1484 1610 9334</td>\n",
              "      <td>04/17</td>\n",
              "      <td>Dudley Pitts</td>\n",
              "      <td>1304 Patten Ferry</td>\n",
              "      <td>Forest Lake</td>\n",
              "    </tr>\n",
              "  </tbody>\n",
              "</table>\n",
              "</div>"
            ],
            "text/plain": [
              "   age                occupation  ...       street-address            city\n",
              "0   33            Shelter Warden  ...    546 Valmar Parade  Winter Springs\n",
              "1   42         Lighting Designer  ...      319 Redondo Bay       Corsicana\n",
              "2   45           Pest Controller  ...  1297 Mansfield Line          Dothan\n",
              "3   41  Word Processing Operator  ...   952 Sanches Garden            Novi\n",
              "4   53             Floor Manager  ...    1304 Patten Ferry     Forest Lake\n",
              "\n",
              "[5 rows x 8 columns]"
            ]
          },
          "metadata": {
            "tags": []
          },
          "execution_count": 42
        }
      ]
    },
    {
      "cell_type": "markdown",
      "metadata": {
        "id": "F_dR7VAcAjKV"
      },
      "source": [
        "We can now perform the same computation as before, but now using Pandas and Dask dataframe."
      ]
    },
    {
      "cell_type": "code",
      "metadata": {
        "id": "hdGZBAveAjKW",
        "colab": {
          "base_uri": "https://localhost:8080/"
        },
        "outputId": "da7a9a9b-b84e-4c23-c53e-0bae2b60f50e"
      },
      "source": [
        "df[df.age > 30].occupation.value_counts().nlargest(10).compute()"
      ],
      "execution_count": null,
      "outputs": [
        {
          "output_type": "execute_result",
          "data": {
            "text/plain": [
              "Radio Engineer     15\n",
              "Studio Manager     14\n",
              "Cashier            14\n",
              "Cinema Manager     14\n",
              "Pawnbroker         14\n",
              "Almoner            13\n",
              "Stonemason         13\n",
              "Assistant Nurse    13\n",
              "Glazier            13\n",
              "Town Planner       13\n",
              "Name: occupation, dtype: int64"
            ]
          },
          "metadata": {
            "tags": []
          },
          "execution_count": 43
        }
      ]
    },
    {
      "cell_type": "markdown",
      "metadata": {
        "id": "lsOXWmlY4KR5"
      },
      "source": [
        "# Dask delay"
      ]
    },
    {
      "cell_type": "markdown",
      "metadata": {
        "id": "nSYQdQyvpnxJ"
      },
      "source": [
        "This notebook shows using [dask.delayed](http://dask.pydata.org/en/latest/delayed.html) to parallelize generic Python code.\n",
        "\n",
        "Dask.delayed is a simple and powerful way to parallelize existing code. It allows users to delay function calls into a task graph with dependencies. Dask.delayed doesn't provide any fancy parallel algorithms like Dask.dataframe, but it does give the user complete control over what they want to build.\n",
        "\n",
        "Systems like Dask.dataframe are built with Dask.delayed. If you have a problem that is paralellizable, but isn't as simple as just a big array or a big dataframe, then dask.delayed may be the right choice for you."
      ]
    },
    {
      "cell_type": "code",
      "metadata": {
        "id": "JfBlYXZ_4GXh"
      },
      "source": [
        "from time import sleep\n",
        "\n",
        "def inc(x):\n",
        "    sleep(1)\n",
        "    return x + 1\n",
        "\n",
        "def add(x, y):\n",
        "    sleep(1)\n",
        "    return x + y"
      ],
      "execution_count": null,
      "outputs": []
    },
    {
      "cell_type": "code",
      "metadata": {
        "colab": {
          "base_uri": "https://localhost:8080/"
        },
        "id": "cE7rZwEa4PiG",
        "outputId": "e66ce5f2-da78-4aa3-8645-d0cfdcbd0cbf"
      },
      "source": [
        "%%time\n",
        "\n",
        "x = inc(1)\n",
        "y = inc(2)\n",
        "z = add(x, y)"
      ],
      "execution_count": null,
      "outputs": [
        {
          "output_type": "stream",
          "text": [
            "CPU times: user 128 ms, sys: 21.3 ms, total: 149 ms\n",
            "Wall time: 3.02 s\n"
          ],
          "name": "stdout"
        }
      ]
    },
    {
      "cell_type": "code",
      "metadata": {
        "id": "rkDpmQhV4SUY"
      },
      "source": [
        "from dask import delayed"
      ],
      "execution_count": null,
      "outputs": []
    },
    {
      "cell_type": "code",
      "metadata": {
        "colab": {
          "base_uri": "https://localhost:8080/"
        },
        "id": "rJagMPz64gSo",
        "outputId": "5725dbf4-c39e-4f7b-f3c9-44693194ec9d"
      },
      "source": [
        "%%time\n",
        "\n",
        "x = delayed(inc)(1)\n",
        "y = delayed(inc)(2)\n",
        "z = delayed(add)(x, y)"
      ],
      "execution_count": null,
      "outputs": [
        {
          "output_type": "stream",
          "text": [
            "CPU times: user 415 µs, sys: 0 ns, total: 415 µs\n",
            "Wall time: 421 µs\n"
          ],
          "name": "stdout"
        }
      ]
    },
    {
      "cell_type": "code",
      "metadata": {
        "colab": {
          "base_uri": "https://localhost:8080/",
          "height": 392
        },
        "id": "afmZFkA34m6Y",
        "outputId": "8692f543-ca35-42d2-d02b-d879b75e95ef"
      },
      "source": [
        "z.visualize()"
      ],
      "execution_count": null,
      "outputs": [
        {
          "output_type": "execute_result",
          "data": {
            "image/png": "[encoded data removed]",
            "text/plain": [
              "<IPython.core.display.Image object>"
            ]
          },
          "metadata": {
            "tags": []
          },
          "execution_count": 48
        }
      ]
    },
    {
      "cell_type": "code",
      "metadata": {
        "colab": {
          "base_uri": "https://localhost:8080/"
        },
        "id": "HEoKLc2X414S",
        "outputId": "b4ffc04a-a844-47ee-ce74-51ced14b2bf3"
      },
      "source": [
        "%%time\n",
        "\n",
        "z.compute()"
      ],
      "execution_count": null,
      "outputs": [
        {
          "output_type": "stream",
          "text": [
            "CPU times: user 79.9 ms, sys: 17 ms, total: 96.9 ms\n",
            "Wall time: 2 s\n"
          ],
          "name": "stdout"
        },
        {
          "output_type": "execute_result",
          "data": {
            "text/plain": [
              "5"
            ]
          },
          "metadata": {
            "tags": []
          },
          "execution_count": 49
        }
      ]
    },
    {
      "cell_type": "code",
      "metadata": {
        "id": "GF4yCHSD44Io"
      },
      "source": [
        "data = [1, 2, 3, 4, 5, 6, 7, 8]"
      ],
      "execution_count": null,
      "outputs": []
    },
    {
      "cell_type": "code",
      "metadata": {
        "colab": {
          "base_uri": "https://localhost:8080/"
        },
        "id": "mdlF_X8p460f",
        "outputId": "a926e17b-a2ba-4f59-ac10-3094f3c62e75"
      },
      "source": [
        "%%time\n",
        "\n",
        "results = []\n",
        "for x in data:\n",
        "    y = inc(x)\n",
        "    results.append(y)\n",
        "    \n",
        "total = sum(results)"
      ],
      "execution_count": null,
      "outputs": [
        {
          "output_type": "stream",
          "text": [
            "CPU times: user 318 ms, sys: 31.4 ms, total: 350 ms\n",
            "Wall time: 8.01 s\n"
          ],
          "name": "stdout"
        }
      ]
    },
    {
      "cell_type": "code",
      "metadata": {
        "colab": {
          "base_uri": "https://localhost:8080/"
        },
        "id": "FX8JvvjO49xS",
        "outputId": "7ef6ee0d-adb3-48db-d7cc-6a603d04a9ef"
      },
      "source": [
        "%%time\n",
        "results = []\n",
        "\n",
        "for x in data:\n",
        "    y = delayed(inc)(x)\n",
        "    results.append(y)\n",
        "    \n",
        "total = delayed(sum)(results)\n",
        "\n",
        "total.compute()"
      ],
      "execution_count": null,
      "outputs": [
        {
          "output_type": "stream",
          "text": [
            "CPU times: user 182 ms, sys: 17.1 ms, total: 199 ms\n",
            "Wall time: 4.01 s\n"
          ],
          "name": "stdout"
        }
      ]
    },
    {
      "cell_type": "code",
      "metadata": {
        "colab": {
          "base_uri": "https://localhost:8080/",
          "height": 398
        },
        "id": "jTu1grqE5BI6",
        "outputId": "9d5e9a60-333d-453e-a6dc-f4c63d4e732c"
      },
      "source": [
        "total.visualize()"
      ],
      "execution_count": null,
      "outputs": [
        {
          "output_type": "execute_result",
          "data": {
            "image/png": "[encoded data removed]",
            "text/plain": [
              "<IPython.core.display.Image object>"
            ]
          },
          "metadata": {
            "tags": []
          },
          "execution_count": 53
        }
      ]
    }
  ]
}