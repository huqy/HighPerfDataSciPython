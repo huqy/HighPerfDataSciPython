{
  "nbformat": 4,
  "nbformat_minor": 0,
  "metadata": {
    "colab": {
      "provenance": [],
      "toc_visible": true
    },
    "kernelspec": {
      "name": "python3",
      "display_name": "Python 3"
    },
    "language_info": {
      "name": "python"
    }
  },
  "cells": [
    {
      "cell_type": "markdown",
      "source": [
        "# Not-So-Effective Speeding Tricks"
      ],
      "metadata": {
        "id": "4IOz8xjGHGGp"
      }
    },
    {
      "cell_type": "code",
      "source": [
        "count = 100000"
      ],
      "metadata": {
        "id": "vfw3zqwgiKmJ"
      },
      "execution_count": 13,
      "outputs": []
    },
    {
      "cell_type": "code",
      "source": [
        "n = range(count)"
      ],
      "metadata": {
        "id": "tA_KqQVsdG0Z"
      },
      "execution_count": 14,
      "outputs": []
    },
    {
      "cell_type": "markdown",
      "source": [
        "## Using List Comprehension"
      ],
      "metadata": {
        "id": "aoFzcoemg1TG"
      }
    },
    {
      "cell_type": "code",
      "execution_count": 16,
      "metadata": {
        "id": "9a9UpV4Zcywh"
      },
      "outputs": [],
      "source": [
        "# Baseline version (Inefficient way)\n",
        "# Calculating the power of numbers\n",
        "# Without using List Comprehension\n",
        "def test_01_v0(numbers):\n",
        "    output = []\n",
        "    for n in numbers:\n",
        "        output.append(n ** 2.5)\n",
        "    return output\n",
        "\n",
        "# Improved version\n",
        "# (Using List Comprehension)\n",
        "def test_01_v1(numbers):\n",
        "    output = [n ** 2.5 for n in numbers]\n",
        "    return output"
      ]
    },
    {
      "cell_type": "code",
      "source": [
        "res_v0 = %timeit -o test_01_v0(n)"
      ],
      "metadata": {
        "colab": {
          "base_uri": "https://localhost:8080/"
        },
        "id": "yufJs_qGc-go",
        "outputId": "00b8fc10-96d8-48b7-b59c-61fac4d6008d"
      },
      "execution_count": 17,
      "outputs": [
        {
          "output_type": "stream",
          "name": "stdout",
          "text": [
            "18.9 ms ± 4.49 ms per loop (mean ± std. dev. of 7 runs, 100 loops each)\n"
          ]
        }
      ]
    },
    {
      "cell_type": "code",
      "source": [
        "res_v1 = %timeit -o test_01_v1(n)"
      ],
      "metadata": {
        "colab": {
          "base_uri": "https://localhost:8080/"
        },
        "id": "Ory0KfCwdL-A",
        "outputId": "dd39918b-8eb0-471c-b10a-e73fd8e3981c"
      },
      "execution_count": 18,
      "outputs": [
        {
          "output_type": "stream",
          "name": "stdout",
          "text": [
            "16 ms ± 4.05 ms per loop (mean ± std. dev. of 7 runs, 100 loops each)\n"
          ]
        }
      ]
    },
    {
      "cell_type": "code",
      "source": [
        "speedup = res_v0.average / res_v1.average\n",
        "print('Speed up: ', speedup)"
      ],
      "metadata": {
        "colab": {
          "base_uri": "https://localhost:8080/"
        },
        "id": "vCTzrBLseGmi",
        "outputId": "02f8775b-d258-4cf0-ce79-0432dc9ee96d"
      },
      "execution_count": 19,
      "outputs": [
        {
          "output_type": "stream",
          "name": "stdout",
          "text": [
            "Speed up:  1.1846446179724033\n"
          ]
        }
      ]
    },
    {
      "cell_type": "markdown",
      "source": [
        "## Using pre-calculated list length"
      ],
      "metadata": {
        "id": "8HQBptEegWrt"
      }
    },
    {
      "cell_type": "code",
      "source": [
        "# Baseline version (Inefficient way)\n",
        "# (Length calculation inside for loop)\n",
        "def test_02_v0(numbers):\n",
        "    output_list = []\n",
        "    for i in range(len(numbers)):\n",
        "        output_list.append(i * 2)\n",
        "    return output_list\n",
        "\n",
        "# Improved version\n",
        "# (Length calculation outside for loop)\n",
        "def test_02_v1(numbers):\n",
        "    my_list_length = len(numbers)\n",
        "    output_list = []\n",
        "    for i in range(my_list_length):\n",
        "        output_list.append(i * 2)\n",
        "    return output_list"
      ],
      "metadata": {
        "id": "6e3tiFjpfn_B"
      },
      "execution_count": 22,
      "outputs": []
    },
    {
      "cell_type": "code",
      "source": [
        "res02_v0 = %timeit -o test_02_v0(n)"
      ],
      "metadata": {
        "colab": {
          "base_uri": "https://localhost:8080/"
        },
        "id": "OcoqDPOLghX6",
        "outputId": "9dd76f33-f46d-44b2-959f-d6a5b613cd50"
      },
      "execution_count": 23,
      "outputs": [
        {
          "output_type": "stream",
          "name": "stdout",
          "text": [
            "12.1 ms ± 1.57 ms per loop (mean ± std. dev. of 7 runs, 100 loops each)\n"
          ]
        }
      ]
    },
    {
      "cell_type": "code",
      "source": [
        "res02_v1 = %timeit -o test_02_v1(n)"
      ],
      "metadata": {
        "colab": {
          "base_uri": "https://localhost:8080/"
        },
        "id": "Ck0lI1vPgn7Z",
        "outputId": "fac69219-dce3-4b03-a428-6c5d7554b12f"
      },
      "execution_count": 24,
      "outputs": [
        {
          "output_type": "stream",
          "name": "stdout",
          "text": [
            "12.5 ms ± 2.76 ms per loop (mean ± std. dev. of 7 runs, 100 loops each)\n"
          ]
        }
      ]
    },
    {
      "cell_type": "code",
      "source": [
        "speedup = res02_v0.average / res02_v1.average\n",
        "print('Speed up: ', speedup)"
      ],
      "metadata": {
        "colab": {
          "base_uri": "https://localhost:8080/"
        },
        "id": "zl3E1n5tgtw3",
        "outputId": "0ca51e24-e26d-4c53-a293-95760cc223d5"
      },
      "execution_count": 25,
      "outputs": [
        {
          "output_type": "stream",
          "name": "stdout",
          "text": [
            "Speed up:  0.9737854322293894\n"
          ]
        }
      ]
    },
    {
      "cell_type": "markdown",
      "source": [
        "## Skipping the unnecessary steps"
      ],
      "metadata": {
        "id": "W6COQwKByZpY"
      }
    },
    {
      "cell_type": "code",
      "source": [
        " # Example of inefficient code used to find\n",
        " # the first even square in a list of numbers\n",
        " def function_do_something(numbers):\n",
        "   for n in numbers:\n",
        "     square = n * n\n",
        "     if square % 2 == 0:\n",
        "         return square\n",
        "\n",
        "   return None  # No even square found\n",
        "\n",
        " # Example of improved code that\n",
        " # finds result without redundant computations\n",
        " def function_do_something_v1(numbers):\n",
        "   even_numbers = [n for n in numbers if n%2==0]\n",
        "   for n in even_numbers:\n",
        "     square = n * n\n",
        "     return square\n",
        "\n",
        "   return None  # No even square found"
      ],
      "metadata": {
        "id": "IlGATC_IydSg"
      },
      "execution_count": 18,
      "outputs": []
    },
    {
      "cell_type": "code",
      "source": [
        "res03_v0 = %timeit -o function_do_something(n)"
      ],
      "metadata": {
        "colab": {
          "base_uri": "https://localhost:8080/"
        },
        "id": "KqA-dBI7yfS8",
        "outputId": "e8ac610b-b263-4ef7-b779-208cd9560b53"
      },
      "execution_count": 28,
      "outputs": [
        {
          "output_type": "stream",
          "name": "stdout",
          "text": [
            "307 ns ± 85.4 ns per loop (mean ± std. dev. of 7 runs, 1000000 loops each)\n"
          ]
        }
      ]
    },
    {
      "cell_type": "code",
      "source": [
        "res03_v1 = %timeit -o function_do_something_v1(n)"
      ],
      "metadata": {
        "colab": {
          "base_uri": "https://localhost:8080/"
        },
        "id": "Nm4aG0oEyy4_",
        "outputId": "9f0a2a19-2d59-479d-d399-184a1e782b9e"
      },
      "execution_count": 29,
      "outputs": [
        {
          "output_type": "stream",
          "name": "stdout",
          "text": [
            "9.93 ms ± 3.14 ms per loop (mean ± std. dev. of 7 runs, 100 loops each)\n"
          ]
        }
      ]
    },
    {
      "cell_type": "code",
      "source": [
        "speedup = res03_v0.average / res03_v1.average\n",
        "print('Speed up: ', speedup)"
      ],
      "metadata": {
        "colab": {
          "base_uri": "https://localhost:8080/"
        },
        "id": "RHPAaiglzYPx",
        "outputId": "f44f574a-5491-4a82-a750-071d2a8781c7"
      },
      "execution_count": 30,
      "outputs": [
        {
          "output_type": "stream",
          "name": "stdout",
          "text": [
            "Speed up:  3.0943081385634314e-05\n"
          ]
        }
      ]
    },
    {
      "cell_type": "markdown",
      "source": [
        "## Introducing logic"
      ],
      "metadata": {
        "id": "fSuuuibh0szs"
      }
    },
    {
      "cell_type": "code",
      "source": [
        " # Example of inefficient code\n",
        " # Loop that calls the is_prime function n times.\n",
        " def is_prime(n):\n",
        "   if n <= 1:\n",
        "     return False\n",
        "   for i in range(2, int(n**0.5) + 1):\n",
        "     if n % i == 0:\n",
        "       return False\n",
        "\n",
        "   return True\n",
        "\n",
        " def test_05_v0(n):\n",
        "   # Baseline version (Inefficient way)\n",
        "   # (calls the is_prime function n times)\n",
        "   count = 0\n",
        "   for i in range(2, n + 1):\n",
        "     if is_prime(i):\n",
        "       count += 1\n",
        "   return count\n",
        "\n",
        " def test_05_v1(n):\n",
        "   # Improved version\n",
        "   # (inlines the logic of the is_prime function)\n",
        "   count = 0\n",
        "   for i in range(2, n + 1):\n",
        "     if i <= 1:\n",
        "       continue\n",
        "     for j in range(2, int(i**0.5) + 1):\n",
        "       if i % j == 0:\n",
        "         break\n",
        "     else:\n",
        "       count += 1\n",
        "   return count"
      ],
      "metadata": {
        "id": "QZZV1UZS0wU_"
      },
      "execution_count": 31,
      "outputs": []
    },
    {
      "cell_type": "code",
      "source": [
        "res05_v0 = %timeit -o test_05_v0(count)"
      ],
      "metadata": {
        "colab": {
          "base_uri": "https://localhost:8080/"
        },
        "id": "VzLMfmr20xvL",
        "outputId": "9eb92d1f-f2c9-4249-8512-5498bb972ad2"
      },
      "execution_count": 33,
      "outputs": [
        {
          "output_type": "stream",
          "name": "stdout",
          "text": [
            "232 ms ± 9.27 ms per loop (mean ± std. dev. of 7 runs, 1 loop each)\n"
          ]
        }
      ]
    },
    {
      "cell_type": "code",
      "source": [
        "res05_v1 = %timeit -o test_05_v1(count)"
      ],
      "metadata": {
        "colab": {
          "base_uri": "https://localhost:8080/"
        },
        "id": "iWmbNUet1A2g",
        "outputId": "45fb015d-04f5-4f47-8927-a6a78b561776"
      },
      "execution_count": 34,
      "outputs": [
        {
          "output_type": "stream",
          "name": "stdout",
          "text": [
            "237 ms ± 16.6 ms per loop (mean ± std. dev. of 7 runs, 1 loop each)\n"
          ]
        }
      ]
    },
    {
      "cell_type": "code",
      "source": [
        "speedup = res05_v0.average / res05_v1.average\n",
        "print('Speed up: ', speedup)"
      ],
      "metadata": {
        "colab": {
          "base_uri": "https://localhost:8080/"
        },
        "id": "02j9P4YM1Fcn",
        "outputId": "2383051c-3a08-4e7f-8345-d9ab932c277b"
      },
      "execution_count": 35,
      "outputs": [
        {
          "output_type": "stream",
          "name": "stdout",
          "text": [
            "Speed up:  0.9791221155555204\n"
          ]
        }
      ]
    },
    {
      "cell_type": "markdown",
      "source": [
        "## Precomputing repetitive values"
      ],
      "metadata": {
        "id": "4FIWjmJr1k7s"
      }
    },
    {
      "cell_type": "code",
      "source": [
        " def test_07_v0(n):\n",
        "   # Example of inefficient code\n",
        "   # Repetitive calculation within nested loop\n",
        "   result = 0\n",
        "   for i in range(n):\n",
        "     for j in range(n):\n",
        "       result += i * j\n",
        "   return result\n",
        "\n",
        " def test_07_v1(n):\n",
        "   # Example of improved code\n",
        "   # Utilize precomputed values to help speedup\n",
        "   pv = [[i * j for j in range(n)] for i in range(n)]\n",
        "   result = 0\n",
        "   for i in range(n):\n",
        "     result += sum(pv[i][:i+1])\n",
        "   return result"
      ],
      "metadata": {
        "id": "s5hjvgvz1lsl"
      },
      "execution_count": 36,
      "outputs": []
    },
    {
      "cell_type": "code",
      "source": [
        "n1 = 10000"
      ],
      "metadata": {
        "id": "1D62Ef432_Sj"
      },
      "execution_count": 43,
      "outputs": []
    },
    {
      "cell_type": "code",
      "source": [
        "res07_v0 = %timeit -o test_07_v0(n1)"
      ],
      "metadata": {
        "colab": {
          "base_uri": "https://localhost:8080/"
        },
        "id": "8ROVPf881m66",
        "outputId": "191824e7-af6c-4f55-9a7e-8b4738a7211b"
      },
      "execution_count": 44,
      "outputs": [
        {
          "output_type": "stream",
          "name": "stdout",
          "text": [
            "11.3 s ± 379 ms per loop (mean ± std. dev. of 7 runs, 1 loop each)\n"
          ]
        }
      ]
    },
    {
      "cell_type": "code",
      "source": [
        "res07_v1 = %timeit -o test_07_v1(n1)"
      ],
      "metadata": {
        "colab": {
          "base_uri": "https://localhost:8080/"
        },
        "id": "OKTQaTTZ1sKb",
        "outputId": "74b7c326-0164-4fd6-e045-e77e7bdce208"
      },
      "execution_count": 45,
      "outputs": [
        {
          "output_type": "stream",
          "name": "stdout",
          "text": [
            "12.4 s ± 861 ms per loop (mean ± std. dev. of 7 runs, 1 loop each)\n"
          ]
        }
      ]
    },
    {
      "cell_type": "code",
      "source": [
        "speedup = res07_v0.average / res07_v1.average\n",
        "print('Speed up: ', speedup)"
      ],
      "metadata": {
        "colab": {
          "base_uri": "https://localhost:8080/"
        },
        "id": "aq1h-jcW1_6T",
        "outputId": "8f92ed49-7b55-456d-fb6b-9715c7e2f282"
      },
      "execution_count": 46,
      "outputs": [
        {
          "output_type": "stream",
          "name": "stdout",
          "text": [
            "Speed up:  0.9103769922988914\n"
          ]
        }
      ]
    },
    {
      "cell_type": "markdown",
      "source": [
        "# Very Efficient Speeding Tricks"
      ],
      "metadata": {
        "id": "eqdlczGdHr1M"
      }
    },
    {
      "cell_type": "markdown",
      "source": [
        "## Vectorization"
      ],
      "metadata": {
        "id": "6QUTkiELjzWy"
      }
    },
    {
      "cell_type": "code",
      "source": [
        " import numpy as np\n",
        "\n",
        " def test_11_v0(n):\n",
        "   # Baseline version\n",
        "   # (Inefficient way of summing numbers in a range)\n",
        "   output = 0\n",
        "   for i in range(0, n):\n",
        "     output = output + i\n",
        "\n",
        "   return output\n",
        "\n",
        " def test_11_v1(n):\n",
        "   # Improved version\n",
        "   # (# Efficient way of summing numbers in a range)\n",
        "   output = np.sum(np.arange(n))\n",
        "   return output"
      ],
      "metadata": {
        "id": "S9yAGosojz3X"
      },
      "execution_count": 25,
      "outputs": []
    },
    {
      "cell_type": "code",
      "source": [
        "res11_v0 = %timeit -o test_11_v0(count)"
      ],
      "metadata": {
        "colab": {
          "base_uri": "https://localhost:8080/"
        },
        "id": "_STdfRmEj74G",
        "outputId": "08ed90c1-a0bb-4246-b265-5de1de011072"
      },
      "execution_count": 26,
      "outputs": [
        {
          "output_type": "stream",
          "name": "stdout",
          "text": [
            "6.36 ms ± 89.5 µs per loop (mean ± std. dev. of 7 runs, 100 loops each)\n"
          ]
        }
      ]
    },
    {
      "cell_type": "code",
      "source": [
        "res11_v1 = %timeit -o test_11_v1(count)"
      ],
      "metadata": {
        "colab": {
          "base_uri": "https://localhost:8080/"
        },
        "id": "OUGikALCkFKd",
        "outputId": "41e55ed8-9556-4533-db31-a5cb57136bbc"
      },
      "execution_count": 27,
      "outputs": [
        {
          "output_type": "stream",
          "name": "stdout",
          "text": [
            "95.5 µs ± 24.2 µs per loop (mean ± std. dev. of 7 runs, 10000 loops each)\n"
          ]
        }
      ]
    },
    {
      "cell_type": "code",
      "source": [
        "speedup = res11_v0.average / res11_v1.average\n",
        "print('Speed up: ', speedup)"
      ],
      "metadata": {
        "colab": {
          "base_uri": "https://localhost:8080/"
        },
        "id": "6EIgXj_BlAgi",
        "outputId": "8fc54602-6d87-406a-8060-60f3cafda5dd"
      },
      "execution_count": 28,
      "outputs": [
        {
          "output_type": "stream",
          "name": "stdout",
          "text": [
            "Speed up:  66.59235792009521\n"
          ]
        }
      ]
    },
    {
      "cell_type": "markdown",
      "source": [
        "## Using generator"
      ],
      "metadata": {
        "id": "cEJeDbIcgyDY"
      }
    },
    {
      "cell_type": "code",
      "source": [
        " def test_08_v0(n):\n",
        "   # Baseline version (Inefficient way)\n",
        "   # (Inefficiently calculates the nth Fibonacci\n",
        "   # number using a list)\n",
        "   if n <= 1:\n",
        "     return n\n",
        "   f_list = [0, 1]\n",
        "   for i in range(2, n + 1):\n",
        "     f_list.append(f_list[i - 1] + f_list[i - 2])\n",
        "   return f_list[n]\n",
        "\n",
        " def test_08_v1(n):\n",
        "   # Improved version\n",
        "   # (Efficiently calculates the nth Fibonacci\n",
        "   # number using a generator)\n",
        "   a, b = 0, 1\n",
        "   for _ in range(n):\n",
        "     yield a\n",
        "     a, b = b, a + b"
      ],
      "metadata": {
        "id": "hFdjqIlbgydF"
      },
      "execution_count": null,
      "outputs": []
    },
    {
      "cell_type": "code",
      "source": [
        "res08_v0 = %timeit -o test_08_v0(count)"
      ],
      "metadata": {
        "colab": {
          "base_uri": "https://localhost:8080/"
        },
        "id": "ow5NCKcHg8LK",
        "outputId": "22c4041c-3b15-4bfe-b0cd-ca9c946b5929"
      },
      "execution_count": null,
      "outputs": [
        {
          "output_type": "stream",
          "name": "stdout",
          "text": [
            "431 ms ± 6.65 ms per loop (mean ± std. dev. of 7 runs, 1 loop each)\n"
          ]
        }
      ]
    },
    {
      "cell_type": "code",
      "source": [
        "res08_v1 = %timeit -o test_08_v1(count)"
      ],
      "metadata": {
        "colab": {
          "base_uri": "https://localhost:8080/"
        },
        "id": "d3zx4bmfhVBM",
        "outputId": "1d6ed0ea-b78e-4a04-a7fe-b755e2a93325"
      },
      "execution_count": null,
      "outputs": [
        {
          "output_type": "stream",
          "name": "stdout",
          "text": [
            "481 ns ± 43.6 ns per loop (mean ± std. dev. of 7 runs, 1000000 loops each)\n"
          ]
        }
      ]
    },
    {
      "cell_type": "code",
      "source": [
        "speedup = res08_v0.average / res08_v1.average\n",
        "print('Speed up: ', speedup)"
      ],
      "metadata": {
        "colab": {
          "base_uri": "https://localhost:8080/"
        },
        "id": "P0ffiuCehZDc",
        "outputId": "b0e0507f-2e49-463d-b94a-3ea4ebd76d21"
      },
      "execution_count": null,
      "outputs": [
        {
          "output_type": "stream",
          "name": "stdout",
          "text": [
            "Speed up:  895108.6790388676\n"
          ]
        }
      ]
    },
    {
      "cell_type": "markdown",
      "source": [
        "## Using map()"
      ],
      "metadata": {
        "id": "42oFAiAwimbY"
      }
    },
    {
      "cell_type": "code",
      "source": [
        " def some_function_X(x):\n",
        "   # This would normally be a function containing application logic\n",
        "   # which required it to be made into a separate function\n",
        "   # (for the purpose of this test, just calculate and return the square)\n",
        "   return x**2\n",
        "\n",
        " def test_09_v0(numbers):\n",
        "   # Baseline version (Inefficient way)\n",
        "   output = []\n",
        "   for i in numbers:\n",
        "     output.append(some_function_X(i))\n",
        "\n",
        "   return output\n",
        "\n",
        " def test_09_v1(numbers):\n",
        "   # Improved version\n",
        "   # (Using Python's built-in map() function)\n",
        "   output = map(some_function_X, numbers)\n",
        "   return output"
      ],
      "metadata": {
        "id": "nzw7QRUIhwCs"
      },
      "execution_count": null,
      "outputs": []
    },
    {
      "cell_type": "code",
      "source": [
        "res09_v0 = %timeit -o test_09_v0(n)"
      ],
      "metadata": {
        "colab": {
          "base_uri": "https://localhost:8080/"
        },
        "id": "lV39fAgZi1aP",
        "outputId": "10a71962-fad3-456a-aaff-8f061a2145f1"
      },
      "execution_count": null,
      "outputs": [
        {
          "output_type": "stream",
          "name": "stdout",
          "text": [
            "44.2 ms ± 1.06 ms per loop (mean ± std. dev. of 7 runs, 10 loops each)\n"
          ]
        }
      ]
    },
    {
      "cell_type": "code",
      "source": [
        "res09_v1 = %timeit -o test_09_v1(n)"
      ],
      "metadata": {
        "colab": {
          "base_uri": "https://localhost:8080/"
        },
        "id": "fGkgKwn9i8LU",
        "outputId": "6fa2a828-6114-4584-d4c6-78f3b3dcf5a8"
      },
      "execution_count": null,
      "outputs": [
        {
          "output_type": "stream",
          "name": "stdout",
          "text": [
            "371 ns ± 91.8 ns per loop (mean ± std. dev. of 7 runs, 1000000 loops each)\n"
          ]
        }
      ]
    },
    {
      "cell_type": "code",
      "source": [
        "speedup = res08_v0.average / res08_v1.average\n",
        "print('Speed up: ', speedup)"
      ],
      "metadata": {
        "colab": {
          "base_uri": "https://localhost:8080/"
        },
        "id": "jZmQFTgHi_4S",
        "outputId": "48c8b75c-a79f-4d82-ffdf-a9f8e6a70fa6"
      },
      "execution_count": null,
      "outputs": [
        {
          "output_type": "stream",
          "name": "stdout",
          "text": [
            "Speed up:  895108.6790388676\n"
          ]
        }
      ]
    },
    {
      "cell_type": "markdown",
      "source": [
        "# \"Make-Or-Break\" Speeding Tricks"
      ],
      "metadata": {
        "id": "bHv5cULaIoxR"
      }
    },
    {
      "cell_type": "markdown",
      "source": [
        "## Using filterfalse"
      ],
      "metadata": {
        "id": "J5ck6QoZlfKe"
      }
    },
    {
      "cell_type": "code",
      "source": [
        " def test_12_v0(numbers):\n",
        "   # Baseline version (Inefficient way)\n",
        "   filtered_data = []\n",
        "   for i in numbers:\n",
        "     filtered_data.extend(list(\n",
        "         filter(lambda x: x % 5 == 0,\n",
        "                 range(1, i**2))))\n",
        "\n",
        "   return filtered_data"
      ],
      "metadata": {
        "id": "0QxrZFTOlftY"
      },
      "execution_count": 1,
      "outputs": []
    },
    {
      "cell_type": "code",
      "source": [
        " from itertools import filterfalse\n",
        "\n",
        " def test_12_v1(numbers):\n",
        "   # Improved version\n",
        "   # (using filterfalse)\n",
        "   filtered_data = []\n",
        "   for i in numbers:\n",
        "     filtered_data.extend(list(\n",
        "         filterfalse(lambda x: x % 5 != 0,\n",
        "                     range(1, i**2))))\n",
        "\n",
        "     return filtered_data"
      ],
      "metadata": {
        "id": "jGyJYqRJljlg"
      },
      "execution_count": 2,
      "outputs": []
    },
    {
      "cell_type": "code",
      "source": [
        "n1 = range(1000)"
      ],
      "metadata": {
        "id": "79VNeYfomsL1"
      },
      "execution_count": 7,
      "outputs": []
    },
    {
      "cell_type": "code",
      "source": [
        "res12_v0 = %timeit -o test_12_v0(n1)"
      ],
      "metadata": {
        "colab": {
          "base_uri": "https://localhost:8080/"
        },
        "id": "J7Dzgkeolmpm",
        "outputId": "8932bdf6-dc7c-40a5-e44f-861808697bb8"
      },
      "execution_count": 8,
      "outputs": [
        {
          "output_type": "stream",
          "name": "stdout",
          "text": [
            "46.6 s ± 910 ms per loop (mean ± std. dev. of 7 runs, 1 loop each)\n"
          ]
        }
      ]
    },
    {
      "cell_type": "code",
      "source": [
        "res12_v1 = %timeit -o test_12_v1(n1)"
      ],
      "metadata": {
        "colab": {
          "base_uri": "https://localhost:8080/"
        },
        "id": "6xwWzalolu44",
        "outputId": "4031311b-002d-4d34-eff4-9d9f7ef30024"
      },
      "execution_count": 9,
      "outputs": [
        {
          "output_type": "stream",
          "name": "stdout",
          "text": [
            "932 ns ± 25.8 ns per loop (mean ± std. dev. of 7 runs, 1000000 loops each)\n"
          ]
        }
      ]
    },
    {
      "cell_type": "code",
      "source": [
        "speedup = res12_v0.average / res12_v1.average\n",
        "print('Speed up: ', speedup)"
      ],
      "metadata": {
        "colab": {
          "base_uri": "https://localhost:8080/"
        },
        "id": "BiLBvtQDlwks",
        "outputId": "ffc1ac52-c462-40dd-fb44-1f8bb3635e1e"
      },
      "execution_count": 10,
      "outputs": [
        {
          "output_type": "stream",
          "name": "stdout",
          "text": [
            "Speed up:  50010798.64917214\n"
          ]
        }
      ]
    },
    {
      "cell_type": "markdown",
      "source": [
        "## Using Memoization"
      ],
      "metadata": {
        "id": "F2YFSCNAjIEx"
      }
    },
    {
      "cell_type": "code",
      "source": [
        " # Example of inefficient code\n",
        " def fibonacci(n):\n",
        "   if n == 0:\n",
        "     return 0\n",
        "   elif n == 1:\n",
        "     return 1\n",
        "   return fibonacci(n - 1) + fibonacci(n-2)\n",
        "\n",
        " def test_10_v0(numbers):\n",
        "   output = []\n",
        "   for i in numbers:\n",
        "     output.append(fibonacci(i))\n",
        "\n",
        "   return output"
      ],
      "metadata": {
        "id": "91k20yQzjCGw"
      },
      "execution_count": 1,
      "outputs": []
    },
    {
      "cell_type": "code",
      "source": [
        " # Example of efficient code\n",
        " # Using Python's functools' lru_cache function\n",
        " import functools\n",
        "\n",
        " @functools.lru_cache()\n",
        " def fibonacci_v2(n):\n",
        "   if n == 0:\n",
        "     return 0\n",
        "   elif n == 1:\n",
        "     return 1\n",
        "   return fibonacci_v2(n - 1) + fibonacci_v2(n-2)\n",
        "\n",
        " def test_10_v1(numbers):\n",
        "   output = []\n",
        "   for i in numbers:\n",
        "     output.append(fibonacci_v2(i))\n",
        "\n",
        "   return output"
      ],
      "metadata": {
        "id": "DX9quRKzjMkw"
      },
      "execution_count": 2,
      "outputs": []
    },
    {
      "cell_type": "code",
      "source": [
        "n1 = range(40)"
      ],
      "metadata": {
        "id": "32KY2YHtnL4s"
      },
      "execution_count": 3,
      "outputs": []
    },
    {
      "cell_type": "code",
      "source": [
        "test_10_v0(n1)"
      ],
      "metadata": {
        "colab": {
          "base_uri": "https://localhost:8080/"
        },
        "id": "YzrpFnhWmLfn",
        "outputId": "6931f580-6995-4ce2-a18f-660c5cda1e0a"
      },
      "execution_count": 4,
      "outputs": [
        {
          "output_type": "execute_result",
          "data": {
            "text/plain": [
              "[0,\n",
              " 1,\n",
              " 1,\n",
              " 2,\n",
              " 3,\n",
              " 5,\n",
              " 8,\n",
              " 13,\n",
              " 21,\n",
              " 34,\n",
              " 55,\n",
              " 89,\n",
              " 144,\n",
              " 233,\n",
              " 377,\n",
              " 610,\n",
              " 987,\n",
              " 1597,\n",
              " 2584,\n",
              " 4181,\n",
              " 6765,\n",
              " 10946,\n",
              " 17711,\n",
              " 28657,\n",
              " 46368,\n",
              " 75025,\n",
              " 121393,\n",
              " 196418,\n",
              " 317811,\n",
              " 514229,\n",
              " 832040,\n",
              " 1346269,\n",
              " 2178309,\n",
              " 3524578,\n",
              " 5702887,\n",
              " 9227465,\n",
              " 14930352,\n",
              " 24157817,\n",
              " 39088169,\n",
              " 63245986]"
            ]
          },
          "metadata": {},
          "execution_count": 4
        }
      ]
    },
    {
      "cell_type": "code",
      "source": [
        "res10_v0 = %timeit -r 1 -n 1 -o test_10_v0(n1)"
      ],
      "metadata": {
        "id": "SlNms5pyjQVq",
        "colab": {
          "base_uri": "https://localhost:8080/"
        },
        "outputId": "ca67b9d2-817c-4713-fa38-b57fc65e1dc3"
      },
      "execution_count": 5,
      "outputs": [
        {
          "output_type": "stream",
          "name": "stdout",
          "text": [
            "1min 30s ± 0 ns per loop (mean ± std. dev. of 1 run, 1 loop each)\n"
          ]
        }
      ]
    },
    {
      "cell_type": "code",
      "source": [
        "res10_v1 = %timeit -o test_10_v1(n1)"
      ],
      "metadata": {
        "colab": {
          "base_uri": "https://localhost:8080/"
        },
        "id": "MRJheqGqjqvv",
        "outputId": "7bbd1a65-d6e2-40b9-c191-e51a89caecda"
      },
      "execution_count": 6,
      "outputs": [
        {
          "output_type": "stream",
          "name": "stdout",
          "text": [
            "5.16 µs ± 98 ns per loop (mean ± std. dev. of 7 runs, 100000 loops each)\n"
          ]
        }
      ]
    },
    {
      "cell_type": "code",
      "source": [
        "speedup = res10_v0.average / res10_v1.average\n",
        "print('Speed up: ', speedup)"
      ],
      "metadata": {
        "id": "QOmBrz_GjwMt",
        "colab": {
          "base_uri": "https://localhost:8080/"
        },
        "outputId": "cb97793a-1396-434e-dd65-12f9056252a4"
      },
      "execution_count": 7,
      "outputs": [
        {
          "output_type": "stream",
          "name": "stdout",
          "text": [
            "Speed up:  17490043.17146158\n"
          ]
        }
      ]
    }
  ]
}