{
  "nbformat": 4,
  "nbformat_minor": 0,
  "metadata": {
    "colab": {
      "name": "Vaex_examples.ipynb",
      "provenance": [],
      "collapsed_sections": [],
      "toc_visible": true
    },
    "kernelspec": {
      "name": "python3",
      "display_name": "Python 3"
    },
    "accelerator": "GPU",
    "widgets": {
      "application/vnd.jupyter.widget-state+json": {
        "d5aa350783c0465083f2aafaddd92b65": {
          "model_module": "@jupyter-widgets/controls",
          "model_name": "HBoxModel",
          "state": {
            "_view_name": "HBoxView",
            "_dom_classes": [],
            "_model_name": "HBoxModel",
            "_view_module": "@jupyter-widgets/controls",
            "_model_module_version": "1.5.0",
            "_view_count": null,
            "_view_module_version": "1.5.0",
            "box_style": "",
            "layout": "IPY_MODEL_13e2c6e664c846eb90f77c609b2d7ddf",
            "_model_module": "@jupyter-widgets/controls",
            "children": [
              "IPY_MODEL_b7bd3aaf6f3f4de583653272fb111709",
              "IPY_MODEL_fa0d9d35ca824adaac271e45dc294db1"
            ]
          }
        },
        "13e2c6e664c846eb90f77c609b2d7ddf": {
          "model_module": "@jupyter-widgets/base",
          "model_name": "LayoutModel",
          "state": {
            "_view_name": "LayoutView",
            "grid_template_rows": null,
            "right": null,
            "justify_content": null,
            "_view_module": "@jupyter-widgets/base",
            "overflow": null,
            "_model_module_version": "1.2.0",
            "_view_count": null,
            "flex_flow": null,
            "width": null,
            "min_width": null,
            "border": null,
            "align_items": null,
            "bottom": null,
            "_model_module": "@jupyter-widgets/base",
            "top": null,
            "grid_column": null,
            "overflow_y": null,
            "overflow_x": null,
            "grid_auto_flow": null,
            "grid_area": null,
            "grid_template_columns": null,
            "flex": null,
            "_model_name": "LayoutModel",
            "justify_items": null,
            "grid_row": null,
            "max_height": null,
            "align_content": null,
            "visibility": null,
            "align_self": null,
            "height": null,
            "min_height": null,
            "padding": null,
            "grid_auto_rows": null,
            "grid_gap": null,
            "max_width": null,
            "order": null,
            "_view_module_version": "1.2.0",
            "grid_template_areas": null,
            "object_position": null,
            "object_fit": null,
            "grid_auto_columns": null,
            "margin": null,
            "display": null,
            "left": null
          }
        },
        "b7bd3aaf6f3f4de583653272fb111709": {
          "model_module": "@jupyter-widgets/controls",
          "model_name": "FloatProgressModel",
          "state": {
            "_view_name": "ProgressView",
            "style": "IPY_MODEL_11360157f0424023ae0e14dda2d6a32f",
            "_dom_classes": [],
            "description": "",
            "_model_name": "FloatProgressModel",
            "bar_style": "",
            "max": 1,
            "_view_module": "@jupyter-widgets/controls",
            "_model_module_version": "1.5.0",
            "value": 1,
            "_view_count": null,
            "_view_module_version": "1.5.0",
            "orientation": "horizontal",
            "min": 0,
            "description_tooltip": null,
            "_model_module": "@jupyter-widgets/controls",
            "layout": "IPY_MODEL_5febc4f1591648d49aafcb8c13f0c616"
          }
        },
        "fa0d9d35ca824adaac271e45dc294db1": {
          "model_module": "@jupyter-widgets/controls",
          "model_name": "LabelModel",
          "state": {
            "_view_name": "LabelView",
            "style": "IPY_MODEL_916200bae088467daf7a5a6dcf70efd9",
            "_dom_classes": [],
            "description": "",
            "_model_name": "LabelModel",
            "placeholder": "​",
            "_view_module": "@jupyter-widgets/controls",
            "_model_module_version": "1.5.0",
            "value": " 100.00% elapsed time  :    38.21s =  0.6m =  0.0h cpu: 24%",
            "_view_count": null,
            "_view_module_version": "1.5.0",
            "description_tooltip": null,
            "_model_module": "@jupyter-widgets/controls",
            "layout": "IPY_MODEL_971f1e2ba9cd4653bf90e97e05b34a7e"
          }
        },
        "11360157f0424023ae0e14dda2d6a32f": {
          "model_module": "@jupyter-widgets/controls",
          "model_name": "ProgressStyleModel",
          "state": {
            "_view_name": "StyleView",
            "_model_name": "ProgressStyleModel",
            "description_width": "",
            "_view_module": "@jupyter-widgets/base",
            "_model_module_version": "1.5.0",
            "_view_count": null,
            "_view_module_version": "1.2.0",
            "bar_color": null,
            "_model_module": "@jupyter-widgets/controls"
          }
        },
        "5febc4f1591648d49aafcb8c13f0c616": {
          "model_module": "@jupyter-widgets/base",
          "model_name": "LayoutModel",
          "state": {
            "_view_name": "LayoutView",
            "grid_template_rows": null,
            "right": null,
            "justify_content": null,
            "_view_module": "@jupyter-widgets/base",
            "overflow": null,
            "_model_module_version": "1.2.0",
            "_view_count": null,
            "flex_flow": null,
            "width": null,
            "min_width": null,
            "border": null,
            "align_items": null,
            "bottom": null,
            "_model_module": "@jupyter-widgets/base",
            "top": null,
            "grid_column": null,
            "overflow_y": null,
            "overflow_x": null,
            "grid_auto_flow": null,
            "grid_area": null,
            "grid_template_columns": null,
            "flex": null,
            "_model_name": "LayoutModel",
            "justify_items": null,
            "grid_row": null,
            "max_height": null,
            "align_content": null,
            "visibility": null,
            "align_self": null,
            "height": null,
            "min_height": null,
            "padding": null,
            "grid_auto_rows": null,
            "grid_gap": null,
            "max_width": null,
            "order": null,
            "_view_module_version": "1.2.0",
            "grid_template_areas": null,
            "object_position": null,
            "object_fit": null,
            "grid_auto_columns": null,
            "margin": null,
            "display": null,
            "left": null
          }
        },
        "916200bae088467daf7a5a6dcf70efd9": {
          "model_module": "@jupyter-widgets/controls",
          "model_name": "DescriptionStyleModel",
          "state": {
            "_view_name": "StyleView",
            "_model_name": "DescriptionStyleModel",
            "description_width": "",
            "_view_module": "@jupyter-widgets/base",
            "_model_module_version": "1.5.0",
            "_view_count": null,
            "_view_module_version": "1.2.0",
            "_model_module": "@jupyter-widgets/controls"
          }
        },
        "971f1e2ba9cd4653bf90e97e05b34a7e": {
          "model_module": "@jupyter-widgets/base",
          "model_name": "LayoutModel",
          "state": {
            "_view_name": "LayoutView",
            "grid_template_rows": null,
            "right": null,
            "justify_content": null,
            "_view_module": "@jupyter-widgets/base",
            "overflow": null,
            "_model_module_version": "1.2.0",
            "_view_count": null,
            "flex_flow": null,
            "width": null,
            "min_width": null,
            "border": null,
            "align_items": null,
            "bottom": null,
            "_model_module": "@jupyter-widgets/base",
            "top": null,
            "grid_column": null,
            "overflow_y": null,
            "overflow_x": null,
            "grid_auto_flow": null,
            "grid_area": null,
            "grid_template_columns": null,
            "flex": null,
            "_model_name": "LayoutModel",
            "justify_items": null,
            "grid_row": null,
            "max_height": null,
            "align_content": null,
            "visibility": null,
            "align_self": null,
            "height": null,
            "min_height": null,
            "padding": null,
            "grid_auto_rows": null,
            "grid_gap": null,
            "max_width": null,
            "order": null,
            "_view_module_version": "1.2.0",
            "grid_template_areas": null,
            "object_position": null,
            "object_fit": null,
            "grid_auto_columns": null,
            "margin": null,
            "display": null,
            "left": null
          }
        }
      }
    }
  },
  "cells": [
    {
      "cell_type": "markdown",
      "metadata": {
        "id": "Fu5R1m9grA_Q"
      },
      "source": [
        "# Vaex Examples"
      ]
    },
    {
      "cell_type": "markdown",
      "metadata": {
        "id": "nDDGr_mureVT"
      },
      "source": [
        "##### Copyright 2021 Qiyang Hu"
      ]
    },
    {
      "cell_type": "code",
      "metadata": {
        "id": "kl9rWJBHrfLE"
      },
      "source": [
        "#@title Licensed under MIT License (the \"License\");\n",
        "# you may not use this file except in compliance with the License.\n",
        "# You may obtain a copy of the License at\n",
        "#\n",
        "# https://huqy.github.io/HighPerfDataSciPython/LICENSE.md\n",
        "#\n",
        "# Unless required by applicable law or agreed to in writing, software\n",
        "# distributed under the License is distributed on an \"AS IS\" BASIS,\n",
        "# WITHOUT WARRANTIES OR CONDITIONS OF ANY KIND, either express or implied.\n",
        "# See the License for the specific language governing permissions and\n",
        "# limitations under the License."
      ],
      "execution_count": null,
      "outputs": []
    },
    {
      "cell_type": "markdown",
      "metadata": {
        "id": "xzx4RYa8rBqU"
      },
      "source": [
        "Vaex v4 is released, fastest DataFrame library we know of! Instant file opening, subsecond groupby and join on +1,000,000,000 (billion) rows"
      ]
    },
    {
      "cell_type": "markdown",
      "metadata": {
        "id": "925sXh4ctXZQ"
      },
      "source": [
        "## Installation Vaex on Colab"
      ]
    },
    {
      "cell_type": "markdown",
      "metadata": {
        "id": "lqcqkrJR2imO"
      },
      "source": [
        "You need to restart the session runtime after the pip install commands below under the current version of Colab."
      ]
    },
    {
      "cell_type": "code",
      "metadata": {
        "id": "TLxuRn9od1YX",
        "colab": {
          "base_uri": "https://localhost:8080/",
          "height": 1000
        },
        "outputId": "799345e4-5221-40be-fb34-a3bb7c55e4eb"
      },
      "source": [
        "!pip install vaex\n",
        "!pip install ipython==7.0.0"
      ],
      "execution_count": 1,
      "outputs": [
        {
          "output_type": "stream",
          "text": [
            "Collecting vaex\n",
            "  Downloading https://files.pythonhosted.org/packages/61/1d/a5944560e4a86a6abb6906fa7a19f285b5a2e901b65b1891b9b573295616/vaex-4.1.0-py3-none-any.whl\n",
            "Collecting vaex-ml<0.12,>=0.11.0\n",
            "\u001b[?25l  Downloading https://files.pythonhosted.org/packages/dd/85/f09591b2085e03bf9fc73bb3e867c82defc8bbca38ed243f8132eb50daed/vaex_ml-0.11.1-py3-none-any.whl (95kB)\n",
            "\u001b[K     |████████████████████████████████| 102kB 4.4MB/s \n",
            "\u001b[?25hCollecting vaex-core<5,>=4.1.0\n",
            "\u001b[?25l  Downloading https://files.pythonhosted.org/packages/12/65/03b87fa3a6fc8f0f3c74c3bfe1a86cdf34974e078df96f99a87182a3dfa2/vaex_core-4.1.0-cp37-cp37m-manylinux2010_x86_64.whl (2.4MB)\n",
            "\u001b[K     |████████████████████████████████| 2.4MB 8.8MB/s \n",
            "\u001b[?25hCollecting vaex-server<0.5,>=0.4.0\n",
            "  Downloading https://files.pythonhosted.org/packages/a2/41/29861d3dce92a1ae3232ae110b50e7a1b68af761fa149dc68371d135e6c5/vaex_server-0.4.0-py3-none-any.whl\n",
            "Collecting vaex-viz<0.6,>=0.5.0\n",
            "  Downloading https://files.pythonhosted.org/packages/9e/b0/a1855b9cade638315ce0f82763d8800f19335487e59acee6cc8a1c350b3c/vaex_viz-0.5.0-py3-none-any.whl\n",
            "Collecting vaex-astro<0.9,>=0.8.0\n",
            "  Downloading https://files.pythonhosted.org/packages/53/51/2e0325149f66a83da11d0a9c054bf4654a9ee8a0a9519043722552c2b08e/vaex_astro-0.8.0-py3-none-any.whl\n",
            "Collecting vaex-jupyter<0.7,>=0.6.0\n",
            "\u001b[?25l  Downloading https://files.pythonhosted.org/packages/bd/27/de079e129baf62002d3a28216449cc0f26f8750c5778d2285a06c8390488/vaex_jupyter-0.6.0-py3-none-any.whl (42kB)\n",
            "\u001b[K     |████████████████████████████████| 51kB 8.3MB/s \n",
            "\u001b[?25hCollecting vaex-hdf5<0.8,>=0.7.0\n",
            "  Downloading https://files.pythonhosted.org/packages/e1/7c/7e4b11ccba78b35c28e28794c7de5847eddbc0c9b039d549beb7f277dc7c/vaex_hdf5-0.7.0-py3-none-any.whl\n",
            "Requirement already satisfied: numba in /usr/local/lib/python3.7/dist-packages (from vaex-ml<0.12,>=0.11.0->vaex) (0.51.2)\n",
            "Requirement already satisfied: jinja2 in /usr/local/lib/python3.7/dist-packages (from vaex-ml<0.12,>=0.11.0->vaex) (2.11.3)\n",
            "Requirement already satisfied: traitlets in /usr/local/lib/python3.7/dist-packages (from vaex-ml<0.12,>=0.11.0->vaex) (5.0.5)\n",
            "Requirement already satisfied: psutil>=1.2.1 in /usr/local/lib/python3.7/dist-packages (from vaex-core<5,>=4.1.0->vaex) (5.4.8)\n",
            "Requirement already satisfied: pyyaml in /usr/local/lib/python3.7/dist-packages (from vaex-core<5,>=4.1.0->vaex) (3.13)\n",
            "Requirement already satisfied: future>=0.15.2 in /usr/local/lib/python3.7/dist-packages (from vaex-core<5,>=4.1.0->vaex) (0.16.0)\n",
            "Requirement already satisfied: pandas in /usr/local/lib/python3.7/dist-packages (from vaex-core<5,>=4.1.0->vaex) (1.1.5)\n",
            "Requirement already satisfied: requests in /usr/local/lib/python3.7/dist-packages (from vaex-core<5,>=4.1.0->vaex) (2.23.0)\n",
            "Requirement already satisfied: six in /usr/local/lib/python3.7/dist-packages (from vaex-core<5,>=4.1.0->vaex) (1.15.0)\n",
            "Requirement already satisfied: numpy>=1.16 in /usr/local/lib/python3.7/dist-packages (from vaex-core<5,>=4.1.0->vaex) (1.19.5)\n",
            "Requirement already satisfied: nest-asyncio>=1.3.3 in /usr/local/lib/python3.7/dist-packages (from vaex-core<5,>=4.1.0->vaex) (1.5.1)\n",
            "Requirement already satisfied: pyarrow>=3.0 in /usr/local/lib/python3.7/dist-packages (from vaex-core<5,>=4.1.0->vaex) (3.0.0)\n",
            "Requirement already satisfied: dask[array] in /usr/local/lib/python3.7/dist-packages (from vaex-core<5,>=4.1.0->vaex) (2.12.0)\n",
            "Requirement already satisfied: progressbar2 in /usr/local/lib/python3.7/dist-packages (from vaex-core<5,>=4.1.0->vaex) (3.38.0)\n",
            "Requirement already satisfied: cloudpickle in /usr/local/lib/python3.7/dist-packages (from vaex-core<5,>=4.1.0->vaex) (1.3.0)\n",
            "Collecting frozendict\n",
            "  Downloading https://files.pythonhosted.org/packages/6d/29/edb363cf898269cb322d0186baa0bd02874a69691d9dec8728b644fbcedc/frozendict-2.0.2-py3-none-any.whl\n",
            "Collecting aplus\n",
            "  Downloading https://files.pythonhosted.org/packages/9a/25/58f13028bc43c2d219e32402995275ed577cb02da7e43876a4020727c66a/aplus-0.11.0.tar.gz\n",
            "Requirement already satisfied: tabulate>=0.8.3 in /usr/local/lib/python3.7/dist-packages (from vaex-core<5,>=4.1.0->vaex) (0.8.9)\n",
            "Requirement already satisfied: tornado>4.1 in /usr/local/lib/python3.7/dist-packages (from vaex-server<0.5,>=0.4.0->vaex) (5.1.1)\n",
            "Requirement already satisfied: cachetools in /usr/local/lib/python3.7/dist-packages (from vaex-server<0.5,>=0.4.0->vaex) (4.2.1)\n",
            "Requirement already satisfied: matplotlib>=1.3.1 in /usr/local/lib/python3.7/dist-packages (from vaex-viz<0.6,>=0.5.0->vaex) (3.2.2)\n",
            "Requirement already satisfied: pillow in /usr/local/lib/python3.7/dist-packages (from vaex-viz<0.6,>=0.5.0->vaex) (7.1.2)\n",
            "Requirement already satisfied: astropy in /usr/local/lib/python3.7/dist-packages (from vaex-astro<0.9,>=0.8.0->vaex) (4.2.1)\n",
            "Collecting ipyvuetify<2,>=1.2.2\n",
            "\u001b[?25l  Downloading https://files.pythonhosted.org/packages/c2/d8/48b519191c10ceaa9a072b7d66c29a15fc0cfe9d83a3a151e46df5dc35b3/ipyvuetify-1.6.2-py2.py3-none-any.whl (11.7MB)\n",
            "\u001b[K     |████████████████████████████████| 11.7MB 15.9MB/s \n",
            "\u001b[?25hCollecting ipyleaflet\n",
            "\u001b[?25l  Downloading https://files.pythonhosted.org/packages/1d/8f/c294cca18019dc553bd307e561165a5969ee46a7c067a769ca1590a54592/ipyleaflet-0.13.6-py2.py3-none-any.whl (3.3MB)\n",
            "\u001b[K     |████████████████████████████████| 3.3MB 50.3MB/s \n",
            "\u001b[?25hRequirement already satisfied: xarray in /usr/local/lib/python3.7/dist-packages (from vaex-jupyter<0.7,>=0.6.0->vaex) (0.15.1)\n",
            "Collecting ipympl\n",
            "\u001b[?25l  Downloading https://files.pythonhosted.org/packages/d9/6c/5f4b4764d3009027b4a556aebb35a09d09c09e1996ed701a150172790d98/ipympl-0.7.0-py2.py3-none-any.whl (106kB)\n",
            "\u001b[K     |████████████████████████████████| 112kB 35.0MB/s \n",
            "\u001b[?25hCollecting bqplot>=0.10.1\n",
            "\u001b[?25l  Downloading https://files.pythonhosted.org/packages/3e/d8/d4243c9c564812b8b0b32cab39f5c5a29ae5b873c417e2153cba79c53c1c/bqplot-0.12.26-py2.py3-none-any.whl (1.2MB)\n",
            "\u001b[K     |████████████████████████████████| 1.2MB 41.0MB/s \n",
            "\u001b[?25hCollecting ipyvolume>=0.4\n",
            "\u001b[?25l  Downloading https://files.pythonhosted.org/packages/c4/be/09982f3bce56da844c5ee4642a8bfae9908e61d7e6999e7e91479cc64b6a/ipyvolume-0.5.2-py2.py3-none-any.whl (2.9MB)\n",
            "\u001b[K     |████████████████████████████████| 2.9MB 47.5MB/s \n",
            "\u001b[?25hRequirement already satisfied: h5py>=2.9 in /usr/local/lib/python3.7/dist-packages (from vaex-hdf5<0.8,>=0.7.0->vaex) (2.10.0)\n",
            "Requirement already satisfied: llvmlite<0.35,>=0.34.0.dev0 in /usr/local/lib/python3.7/dist-packages (from numba->vaex-ml<0.12,>=0.11.0->vaex) (0.34.0)\n",
            "Requirement already satisfied: setuptools in /usr/local/lib/python3.7/dist-packages (from numba->vaex-ml<0.12,>=0.11.0->vaex) (56.1.0)\n",
            "Requirement already satisfied: MarkupSafe>=0.23 in /usr/local/lib/python3.7/dist-packages (from jinja2->vaex-ml<0.12,>=0.11.0->vaex) (1.1.1)\n",
            "Requirement already satisfied: ipython-genutils in /usr/local/lib/python3.7/dist-packages (from traitlets->vaex-ml<0.12,>=0.11.0->vaex) (0.2.0)\n",
            "Requirement already satisfied: pytz>=2017.2 in /usr/local/lib/python3.7/dist-packages (from pandas->vaex-core<5,>=4.1.0->vaex) (2018.9)\n",
            "Requirement already satisfied: python-dateutil>=2.7.3 in /usr/local/lib/python3.7/dist-packages (from pandas->vaex-core<5,>=4.1.0->vaex) (2.8.1)\n",
            "Requirement already satisfied: chardet<4,>=3.0.2 in /usr/local/lib/python3.7/dist-packages (from requests->vaex-core<5,>=4.1.0->vaex) (3.0.4)\n",
            "Requirement already satisfied: urllib3!=1.25.0,!=1.25.1,<1.26,>=1.21.1 in /usr/local/lib/python3.7/dist-packages (from requests->vaex-core<5,>=4.1.0->vaex) (1.24.3)\n",
            "Requirement already satisfied: certifi>=2017.4.17 in /usr/local/lib/python3.7/dist-packages (from requests->vaex-core<5,>=4.1.0->vaex) (2020.12.5)\n",
            "Requirement already satisfied: idna<3,>=2.5 in /usr/local/lib/python3.7/dist-packages (from requests->vaex-core<5,>=4.1.0->vaex) (2.10)\n",
            "Requirement already satisfied: toolz>=0.7.3; extra == \"array\" in /usr/local/lib/python3.7/dist-packages (from dask[array]->vaex-core<5,>=4.1.0->vaex) (0.11.1)\n",
            "Requirement already satisfied: python-utils>=2.3.0 in /usr/local/lib/python3.7/dist-packages (from progressbar2->vaex-core<5,>=4.1.0->vaex) (2.5.6)\n",
            "Requirement already satisfied: kiwisolver>=1.0.1 in /usr/local/lib/python3.7/dist-packages (from matplotlib>=1.3.1->vaex-viz<0.6,>=0.5.0->vaex) (1.3.1)\n",
            "Requirement already satisfied: pyparsing!=2.0.4,!=2.1.2,!=2.1.6,>=2.0.1 in /usr/local/lib/python3.7/dist-packages (from matplotlib>=1.3.1->vaex-viz<0.6,>=0.5.0->vaex) (2.4.7)\n",
            "Requirement already satisfied: cycler>=0.10 in /usr/local/lib/python3.7/dist-packages (from matplotlib>=1.3.1->vaex-viz<0.6,>=0.5.0->vaex) (0.10.0)\n",
            "Requirement already satisfied: pyerfa in /usr/local/lib/python3.7/dist-packages (from astropy->vaex-astro<0.9,>=0.8.0->vaex) (1.7.2)\n",
            "Collecting ipyvue<2,>=1.5\n",
            "\u001b[?25l  Downloading https://files.pythonhosted.org/packages/a5/8e/327c434451021521b9c25a41042edd2b0653946a9502febb79b318deb302/ipyvue-1.5.0-py2.py3-none-any.whl (2.7MB)\n",
            "\u001b[K     |████████████████████████████████| 2.7MB 42.4MB/s \n",
            "\u001b[?25hCollecting traittypes<3,>=0.2.1\n",
            "  Downloading https://files.pythonhosted.org/packages/9c/d1/8d5bd662703cc1764d986f6908a608777305946fa634d34c470cd4a1e729/traittypes-0.2.1-py2.py3-none-any.whl\n",
            "Requirement already satisfied: ipywidgets<8,>=7.6.0 in /usr/local/lib/python3.7/dist-packages (from ipyleaflet->vaex-jupyter<0.7,>=0.6.0->vaex) (7.6.3)\n",
            "Requirement already satisfied: branca<0.5,>=0.3.1 in /usr/local/lib/python3.7/dist-packages (from ipyleaflet->vaex-jupyter<0.7,>=0.6.0->vaex) (0.4.2)\n",
            "Requirement already satisfied: shapely in /usr/local/lib/python3.7/dist-packages (from ipyleaflet->vaex-jupyter<0.7,>=0.6.0->vaex) (1.7.1)\n",
            "Requirement already satisfied: ipykernel>=4.7 in /usr/local/lib/python3.7/dist-packages (from ipympl->vaex-jupyter<0.7,>=0.6.0->vaex) (4.10.1)\n",
            "Collecting ipywebrtc\n",
            "\u001b[?25l  Downloading https://files.pythonhosted.org/packages/e9/11/4b83894a009ef522b5751881e21ffec55d56b0900c0b788e2906ec01c51d/ipywebrtc-0.6.0-py2.py3-none-any.whl (260kB)\n",
            "\u001b[K     |████████████████████████████████| 266kB 49.2MB/s \n",
            "\u001b[?25hCollecting pythreejs>=1.0.0\n",
            "\u001b[?25l  Downloading https://files.pythonhosted.org/packages/2e/36/806ac843a15c67b013dc85a4761d3cc8bfa08dab70fb3f63dbc6611a5809/pythreejs-2.3.0-py2.py3-none-any.whl (3.4MB)\n",
            "\u001b[K     |████████████████████████████████| 3.4MB 26.7MB/s \n",
            "\u001b[?25hRequirement already satisfied: jupyterlab-widgets>=1.0.0; python_version >= \"3.6\" in /usr/local/lib/python3.7/dist-packages (from ipywidgets<8,>=7.6.0->ipyleaflet->vaex-jupyter<0.7,>=0.6.0->vaex) (1.0.0)\n",
            "Requirement already satisfied: nbformat>=4.2.0 in /usr/local/lib/python3.7/dist-packages (from ipywidgets<8,>=7.6.0->ipyleaflet->vaex-jupyter<0.7,>=0.6.0->vaex) (5.1.3)\n",
            "Requirement already satisfied: widgetsnbextension~=3.5.0 in /usr/local/lib/python3.7/dist-packages (from ipywidgets<8,>=7.6.0->ipyleaflet->vaex-jupyter<0.7,>=0.6.0->vaex) (3.5.1)\n",
            "Requirement already satisfied: ipython>=4.0.0; python_version >= \"3.3\" in /usr/local/lib/python3.7/dist-packages (from ipywidgets<8,>=7.6.0->ipyleaflet->vaex-jupyter<0.7,>=0.6.0->vaex) (5.5.0)\n",
            "Requirement already satisfied: jupyter-client in /usr/local/lib/python3.7/dist-packages (from ipykernel>=4.7->ipympl->vaex-jupyter<0.7,>=0.6.0->vaex) (5.3.5)\n",
            "Collecting ipydatawidgets>=1.1.1\n",
            "\u001b[?25l  Downloading https://files.pythonhosted.org/packages/5d/58/9ec5a0e1653ffc762674370c4ebbcb5132b9c0691942a8c9a805a8b80b5e/ipydatawidgets-4.2.0-py2.py3-none-any.whl (275kB)\n",
            "\u001b[K     |████████████████████████████████| 276kB 50.5MB/s \n",
            "\u001b[?25hRequirement already satisfied: jupyter-core in /usr/local/lib/python3.7/dist-packages (from nbformat>=4.2.0->ipywidgets<8,>=7.6.0->ipyleaflet->vaex-jupyter<0.7,>=0.6.0->vaex) (4.7.1)\n",
            "Requirement already satisfied: jsonschema!=2.5.0,>=2.4 in /usr/local/lib/python3.7/dist-packages (from nbformat>=4.2.0->ipywidgets<8,>=7.6.0->ipyleaflet->vaex-jupyter<0.7,>=0.6.0->vaex) (2.6.0)\n",
            "Requirement already satisfied: notebook>=4.4.1 in /usr/local/lib/python3.7/dist-packages (from widgetsnbextension~=3.5.0->ipywidgets<8,>=7.6.0->ipyleaflet->vaex-jupyter<0.7,>=0.6.0->vaex) (5.3.1)\n",
            "Requirement already satisfied: pexpect; sys_platform != \"win32\" in /usr/local/lib/python3.7/dist-packages (from ipython>=4.0.0; python_version >= \"3.3\"->ipywidgets<8,>=7.6.0->ipyleaflet->vaex-jupyter<0.7,>=0.6.0->vaex) (4.8.0)\n",
            "Requirement already satisfied: prompt-toolkit<2.0.0,>=1.0.4 in /usr/local/lib/python3.7/dist-packages (from ipython>=4.0.0; python_version >= \"3.3\"->ipywidgets<8,>=7.6.0->ipyleaflet->vaex-jupyter<0.7,>=0.6.0->vaex) (1.0.18)\n",
            "Requirement already satisfied: pickleshare in /usr/local/lib/python3.7/dist-packages (from ipython>=4.0.0; python_version >= \"3.3\"->ipywidgets<8,>=7.6.0->ipyleaflet->vaex-jupyter<0.7,>=0.6.0->vaex) (0.7.5)\n",
            "Requirement already satisfied: simplegeneric>0.8 in /usr/local/lib/python3.7/dist-packages (from ipython>=4.0.0; python_version >= \"3.3\"->ipywidgets<8,>=7.6.0->ipyleaflet->vaex-jupyter<0.7,>=0.6.0->vaex) (0.8.1)\n",
            "Requirement already satisfied: decorator in /usr/local/lib/python3.7/dist-packages (from ipython>=4.0.0; python_version >= \"3.3\"->ipywidgets<8,>=7.6.0->ipyleaflet->vaex-jupyter<0.7,>=0.6.0->vaex) (4.4.2)\n",
            "Requirement already satisfied: pygments in /usr/local/lib/python3.7/dist-packages (from ipython>=4.0.0; python_version >= \"3.3\"->ipywidgets<8,>=7.6.0->ipyleaflet->vaex-jupyter<0.7,>=0.6.0->vaex) (2.6.1)\n",
            "Requirement already satisfied: pyzmq>=13 in /usr/local/lib/python3.7/dist-packages (from jupyter-client->ipykernel>=4.7->ipympl->vaex-jupyter<0.7,>=0.6.0->vaex) (22.0.3)\n",
            "Requirement already satisfied: Send2Trash in /usr/local/lib/python3.7/dist-packages (from notebook>=4.4.1->widgetsnbextension~=3.5.0->ipywidgets<8,>=7.6.0->ipyleaflet->vaex-jupyter<0.7,>=0.6.0->vaex) (1.5.0)\n",
            "Requirement already satisfied: terminado>=0.8.1 in /usr/local/lib/python3.7/dist-packages (from notebook>=4.4.1->widgetsnbextension~=3.5.0->ipywidgets<8,>=7.6.0->ipyleaflet->vaex-jupyter<0.7,>=0.6.0->vaex) (0.9.4)\n",
            "Requirement already satisfied: nbconvert in /usr/local/lib/python3.7/dist-packages (from notebook>=4.4.1->widgetsnbextension~=3.5.0->ipywidgets<8,>=7.6.0->ipyleaflet->vaex-jupyter<0.7,>=0.6.0->vaex) (5.6.1)\n",
            "Requirement already satisfied: ptyprocess>=0.5 in /usr/local/lib/python3.7/dist-packages (from pexpect; sys_platform != \"win32\"->ipython>=4.0.0; python_version >= \"3.3\"->ipywidgets<8,>=7.6.0->ipyleaflet->vaex-jupyter<0.7,>=0.6.0->vaex) (0.7.0)\n",
            "Requirement already satisfied: wcwidth in /usr/local/lib/python3.7/dist-packages (from prompt-toolkit<2.0.0,>=1.0.4->ipython>=4.0.0; python_version >= \"3.3\"->ipywidgets<8,>=7.6.0->ipyleaflet->vaex-jupyter<0.7,>=0.6.0->vaex) (0.2.5)\n",
            "Requirement already satisfied: testpath in /usr/local/lib/python3.7/dist-packages (from nbconvert->notebook>=4.4.1->widgetsnbextension~=3.5.0->ipywidgets<8,>=7.6.0->ipyleaflet->vaex-jupyter<0.7,>=0.6.0->vaex) (0.4.4)\n",
            "Requirement already satisfied: entrypoints>=0.2.2 in /usr/local/lib/python3.7/dist-packages (from nbconvert->notebook>=4.4.1->widgetsnbextension~=3.5.0->ipywidgets<8,>=7.6.0->ipyleaflet->vaex-jupyter<0.7,>=0.6.0->vaex) (0.3)\n",
            "Requirement already satisfied: defusedxml in /usr/local/lib/python3.7/dist-packages (from nbconvert->notebook>=4.4.1->widgetsnbextension~=3.5.0->ipywidgets<8,>=7.6.0->ipyleaflet->vaex-jupyter<0.7,>=0.6.0->vaex) (0.7.1)\n",
            "Requirement already satisfied: pandocfilters>=1.4.1 in /usr/local/lib/python3.7/dist-packages (from nbconvert->notebook>=4.4.1->widgetsnbextension~=3.5.0->ipywidgets<8,>=7.6.0->ipyleaflet->vaex-jupyter<0.7,>=0.6.0->vaex) (1.4.3)\n",
            "Requirement already satisfied: mistune<2,>=0.8.1 in /usr/local/lib/python3.7/dist-packages (from nbconvert->notebook>=4.4.1->widgetsnbextension~=3.5.0->ipywidgets<8,>=7.6.0->ipyleaflet->vaex-jupyter<0.7,>=0.6.0->vaex) (0.8.4)\n",
            "Requirement already satisfied: bleach in /usr/local/lib/python3.7/dist-packages (from nbconvert->notebook>=4.4.1->widgetsnbextension~=3.5.0->ipywidgets<8,>=7.6.0->ipyleaflet->vaex-jupyter<0.7,>=0.6.0->vaex) (3.3.0)\n",
            "Requirement already satisfied: packaging in /usr/local/lib/python3.7/dist-packages (from bleach->nbconvert->notebook>=4.4.1->widgetsnbextension~=3.5.0->ipywidgets<8,>=7.6.0->ipyleaflet->vaex-jupyter<0.7,>=0.6.0->vaex) (20.9)\n",
            "Requirement already satisfied: webencodings in /usr/local/lib/python3.7/dist-packages (from bleach->nbconvert->notebook>=4.4.1->widgetsnbextension~=3.5.0->ipywidgets<8,>=7.6.0->ipyleaflet->vaex-jupyter<0.7,>=0.6.0->vaex) (0.5.1)\n",
            "Building wheels for collected packages: aplus\n",
            "  Building wheel for aplus (setup.py) ... \u001b[?25l\u001b[?25hdone\n",
            "  Created wheel for aplus: filename=aplus-0.11.0-cp37-none-any.whl size=4412 sha256=f858279a8f06393ab35bb04e9d98547fd70fb41c30fd8b2f2f0a2b33c9ddb2ad\n",
            "  Stored in directory: /root/.cache/pip/wheels/77/95/8a/ccc1d85d9cabd162a537be5ad77f95d109170df37b49c0ca21\n",
            "Successfully built aplus\n",
            "Installing collected packages: frozendict, aplus, vaex-core, vaex-ml, vaex-server, vaex-viz, vaex-astro, ipyvue, ipyvuetify, traittypes, ipyleaflet, ipympl, bqplot, ipywebrtc, ipydatawidgets, pythreejs, ipyvolume, vaex-jupyter, vaex-hdf5, vaex\n",
            "Successfully installed aplus-0.11.0 bqplot-0.12.26 frozendict-2.0.2 ipydatawidgets-4.2.0 ipyleaflet-0.13.6 ipympl-0.7.0 ipyvolume-0.5.2 ipyvue-1.5.0 ipyvuetify-1.6.2 ipywebrtc-0.6.0 pythreejs-2.3.0 traittypes-0.2.1 vaex-4.1.0 vaex-astro-0.8.0 vaex-core-4.1.0 vaex-hdf5-0.7.0 vaex-jupyter-0.6.0 vaex-ml-0.11.1 vaex-server-0.4.0 vaex-viz-0.5.0\n",
            "Collecting ipython==7.0.0\n",
            "\u001b[?25l  Downloading https://files.pythonhosted.org/packages/cb/0f/1b5660969baf0d1c5b535ee51160c26e5f2307b57252601b8dbba0b5b3b2/ipython-7.0.0-py3-none-any.whl (760kB)\n",
            "\u001b[K     |████████████████████████████████| 768kB 5.0MB/s \n",
            "\u001b[?25hRequirement already satisfied: simplegeneric>0.8 in /usr/local/lib/python3.7/dist-packages (from ipython==7.0.0) (0.8.1)\n",
            "Requirement already satisfied: backcall in /usr/local/lib/python3.7/dist-packages (from ipython==7.0.0) (0.2.0)\n",
            "Collecting prompt-toolkit<2.1.0,>=2.0.0\n",
            "\u001b[?25l  Downloading https://files.pythonhosted.org/packages/87/61/2dfea88583d5454e3a64f9308a686071d58d59a55db638268a6413e1eb6d/prompt_toolkit-2.0.10-py3-none-any.whl (340kB)\n",
            "\u001b[K     |████████████████████████████████| 348kB 9.7MB/s \n",
            "\u001b[?25hRequirement already satisfied: pexpect; sys_platform != \"win32\" in /usr/local/lib/python3.7/dist-packages (from ipython==7.0.0) (4.8.0)\n",
            "Requirement already satisfied: pygments in /usr/local/lib/python3.7/dist-packages (from ipython==7.0.0) (2.6.1)\n",
            "Requirement already satisfied: setuptools>=18.5 in /usr/local/lib/python3.7/dist-packages (from ipython==7.0.0) (56.1.0)\n",
            "Requirement already satisfied: jedi>=0.10 in /usr/local/lib/python3.7/dist-packages (from ipython==7.0.0) (0.18.0)\n",
            "Requirement already satisfied: decorator in /usr/local/lib/python3.7/dist-packages (from ipython==7.0.0) (4.4.2)\n",
            "Requirement already satisfied: pickleshare in /usr/local/lib/python3.7/dist-packages (from ipython==7.0.0) (0.7.5)\n",
            "Requirement already satisfied: traitlets>=4.2 in /usr/local/lib/python3.7/dist-packages (from ipython==7.0.0) (5.0.5)\n",
            "Requirement already satisfied: wcwidth in /usr/local/lib/python3.7/dist-packages (from prompt-toolkit<2.1.0,>=2.0.0->ipython==7.0.0) (0.2.5)\n",
            "Requirement already satisfied: six>=1.9.0 in /usr/local/lib/python3.7/dist-packages (from prompt-toolkit<2.1.0,>=2.0.0->ipython==7.0.0) (1.15.0)\n",
            "Requirement already satisfied: ptyprocess>=0.5 in /usr/local/lib/python3.7/dist-packages (from pexpect; sys_platform != \"win32\"->ipython==7.0.0) (0.7.0)\n",
            "Requirement already satisfied: parso<0.9.0,>=0.8.0 in /usr/local/lib/python3.7/dist-packages (from jedi>=0.10->ipython==7.0.0) (0.8.2)\n",
            "Requirement already satisfied: ipython-genutils in /usr/local/lib/python3.7/dist-packages (from traitlets>=4.2->ipython==7.0.0) (0.2.0)\n",
            "\u001b[31mERROR: jupyter-console 5.2.0 has requirement prompt-toolkit<2.0.0,>=1.0.0, but you'll have prompt-toolkit 2.0.10 which is incompatible.\u001b[0m\n",
            "\u001b[31mERROR: google-colab 1.0.0 has requirement ipython~=5.5.0, but you'll have ipython 7.0.0 which is incompatible.\u001b[0m\n",
            "Installing collected packages: prompt-toolkit, ipython\n",
            "  Found existing installation: prompt-toolkit 1.0.18\n",
            "    Uninstalling prompt-toolkit-1.0.18:\n",
            "      Successfully uninstalled prompt-toolkit-1.0.18\n",
            "  Found existing installation: ipython 5.5.0\n",
            "    Uninstalling ipython-5.5.0:\n",
            "      Successfully uninstalled ipython-5.5.0\n",
            "Successfully installed ipython-7.0.0 prompt-toolkit-2.0.10\n"
          ],
          "name": "stdout"
        },
        {
          "output_type": "display_data",
          "data": {
            "application/vnd.colab-display-data+json": {
              "pip_warning": {
                "packages": [
                  "IPython",
                  "prompt_toolkit"
                ]
              }
            }
          },
          "metadata": {
            "tags": []
          }
        }
      ]
    },
    {
      "cell_type": "markdown",
      "metadata": {
        "id": "uLxaDKuUtdP0"
      },
      "source": [
        "## Check the default dataset example\n",
        "\n",
        "The original data is a simulation of the disruption of 33 satellite galaxies in a Galactic potential by Helmi and Zeeuw (2000).  The incorporated dataset in Vaex is a random 10% subset of it containing 330 000 rows and serves well to\n",
        "demonstrate what can be done with vaex while being reasonably small in size.\n",
        "\n",
        "*   Helmi, A. & de Zeeuw, P. T. 2000, MNRAS, 319, 657\n",
        "\n",
        "Most of the cells are copied from [Vaex introduction in 11 minutes](https://vaex.io/docs/tutorial.html)."
      ]
    },
    {
      "cell_type": "code",
      "metadata": {
        "id": "OAfhbPlod5pQ",
        "colab": {
          "base_uri": "https://localhost:8080/"
        },
        "outputId": "2d97ee49-6a0c-4b08-a1dd-361002ebad21"
      },
      "source": [
        "import vaex\n",
        "df = vaex.example()\n",
        "print(df)"
      ],
      "execution_count": 2,
      "outputs": [
        {
          "output_type": "stream",
          "text": [
            "Downloading https://github.com/vaexio/vaex-datasets/releases/download/v1.0/helmi-dezeeuw-2000-FeH-v2-10percent.hdf5 to /root/.vaex/data/helmi-dezeeuw-2000-FeH-v2-10percent.hdf5\n",
            "#        id    x                     y                     z                     vx                   vy                   vz                   E               L                   Lz                   FeH\n",
            "0        0     1.2318683862686157    -0.39692866802215576  -0.598057746887207    301.1552734375       174.05947875976562   27.42754554748535    -149431.40625   407.38897705078125  333.9555358886719    -1.0053852796554565\n",
            "1        23    -0.16370061039924622  3.654221296310425     -0.25490644574165344  -195.00022888183594  170.47216796875      142.5302276611328    -124247.953125  890.2411499023438   684.6676025390625    -1.7086670398712158\n",
            "2        32    -2.120255947113037    3.326052665710449     1.7078403234481812    -48.63423156738281   171.6472930908203    -2.079437255859375   -138500.546875  372.2410888671875   -202.17617797851562  -1.8336141109466553\n",
            "3        8     4.7155890464782715    4.5852508544921875    2.2515437602996826    -232.42083740234375  -294.850830078125    62.85865020751953    -60037.0390625  1297.63037109375    -324.6875            -1.4786882400512695\n",
            "4        16    7.21718692779541      11.99471664428711     -1.064562201499939    -1.6891745328903198  181.329345703125     -11.333610534667969  -83206.84375    1332.7989501953125  1328.948974609375    -1.8570483922958374\n",
            "...      ...   ...                   ...                   ...                   ...                  ...                  ...                  ...             ...                 ...                  ...\n",
            "329,995  21    1.9938701391220093    0.789276123046875     0.22205990552902222   -216.92990112304688  16.124420166015625   -211.244384765625    -146457.4375    457.72247314453125  203.36758422851562   -1.7451677322387695\n",
            "329,996  25    3.7180912494659424    0.721337616443634     1.6415337324142456    -185.92160034179688  -117.25082397460938  -105.4986572265625   -126627.109375  335.0025634765625   -301.8370056152344   -0.9822322130203247\n",
            "329,997  14    0.3688507676124573    13.029608726501465    -3.633934736251831    -53.677146911621094  -145.15771484375     76.70909881591797    -84912.2578125  817.1375732421875   645.8507080078125    -1.7645612955093384\n",
            "329,998  18    -0.11259264498949051  1.4529125690460205    2.168952703475952     179.30865478515625   205.79710388183594   -68.75872802734375   -133498.46875   724.000244140625    -283.6910400390625   -1.8808952569961548\n",
            "329,999  4     20.796220779418945    -3.331387758255005    12.18841552734375     42.69000244140625    69.20479583740234    29.54275131225586    -65519.328125   1843.07470703125    1581.4151611328125   -1.1231083869934082\n"
          ],
          "name": "stdout"
        }
      ]
    },
    {
      "cell_type": "code",
      "metadata": {
        "id": "P8F2_TFZeQ48",
        "colab": {
          "base_uri": "https://localhost:8080/",
          "height": 34
        },
        "outputId": "85bc0772-33d3-4ff9-8114-f08e5a0bee54"
      },
      "source": [
        "!ls -lh /root/.vaex/data/helmi-dezeeuw-2000-FeH-v2-10percent.hdf5"
      ],
      "execution_count": null,
      "outputs": [
        {
          "output_type": "stream",
          "text": [
            "-rw-r--r-- 1 root root 13M Feb 24 15:32 /root/.vaex/data/helmi-dezeeuw-2000-FeH-v2-10percent.hdf5\n"
          ],
          "name": "stdout"
        }
      ]
    },
    {
      "cell_type": "code",
      "metadata": {
        "id": "_QZkgKS-sAaT",
        "colab": {
          "base_uri": "https://localhost:8080/",
          "height": 255
        },
        "outputId": "f2ae9c8a-f011-43a8-fc5d-460fbda6cdd5"
      },
      "source": [
        "df.x  # df.col.x or df['x'] are equivalent, but df.x may be preferred because it is more tab completion friendly or programming friendly respectively"
      ],
      "execution_count": null,
      "outputs": [
        {
          "output_type": "execute_result",
          "data": {
            "text/plain": [
              "Expression = x\n",
              "Length: 330,000 dtype: float32 (column)\n",
              "---------------------------------------\n",
              "     0    1.23187\n",
              "     1  -0.163701\n",
              "     2   -2.12026\n",
              "     3    4.71559\n",
              "     4    7.21719\n",
              "       ...       \n",
              "329995    1.99387\n",
              "329996    3.71809\n",
              "329997   0.368851\n",
              "329998  -0.112593\n",
              "329999    20.7962"
            ]
          },
          "metadata": {
            "tags": []
          },
          "execution_count": 17
        }
      ]
    },
    {
      "cell_type": "code",
      "metadata": {
        "id": "hw3AHIvgsLoX",
        "colab": {
          "base_uri": "https://localhost:8080/",
          "height": 51
        },
        "outputId": "d73c9259-6070-4fb8-acda-02fee01a4aff"
      },
      "source": [
        "df.x.values"
      ],
      "execution_count": null,
      "outputs": [
        {
          "output_type": "execute_result",
          "data": {
            "text/plain": [
              "array([ 1.2318684 , -0.16370061, -2.120256  , ...,  0.36885077,\n",
              "       -0.11259264, 20.79622   ], dtype=float32)"
            ]
          },
          "metadata": {
            "tags": []
          },
          "execution_count": 18
        }
      ]
    },
    {
      "cell_type": "code",
      "metadata": {
        "id": "fC81ili5sSt_",
        "colab": {
          "base_uri": "https://localhost:8080/",
          "height": 255
        },
        "outputId": "4c2a0530-c1b3-41c3-8359-8deb655f5f40"
      },
      "source": [
        "import numpy as np\n",
        "np.sqrt(df.x**2 + df.y**2 + df.z**2)"
      ],
      "execution_count": null,
      "outputs": [
        {
          "output_type": "execute_result",
          "data": {
            "text/plain": [
              "Expression = sqrt((((x ** 2) + (y ** 2)) + (z ** 2)))\n",
              "Length: 330,000 dtype: float32 (expression)\n",
              "-------------------------------------------\n",
              "     0  1.42574\n",
              "     1  3.66676\n",
              "     2  4.29824\n",
              "     3  6.95203\n",
              "     4   14.039\n",
              "      ...      \n",
              "329995  2.15587\n",
              "329996  4.12785\n",
              "329997  13.5319\n",
              "329998  2.61304\n",
              "329999  24.3339"
            ]
          },
          "metadata": {
            "tags": []
          },
          "execution_count": 19
        }
      ]
    },
    {
      "cell_type": "code",
      "metadata": {
        "id": "H8cYfF2NsWUo",
        "colab": {
          "base_uri": "https://localhost:8080/",
          "height": 221
        },
        "outputId": "5e7cc7ab-f14a-480e-edf2-4e7a4dfff559"
      },
      "source": [
        "df['r'] = np.sqrt(df.x**2 + df.y**2 + df.z**2)\n",
        "print(df[['x', 'y', 'z', 'r']])"
      ],
      "execution_count": null,
      "outputs": [
        {
          "output_type": "stream",
          "text": [
            "#        x                     y                     z                     r\n",
            "0        1.2318683862686157    -0.39692866802215576  -0.598057746887207    1.425736665725708\n",
            "1        -0.16370061039924622  3.654221296310425     -0.25490644574165344  3.666757345199585\n",
            "2        -2.120255947113037    3.326052665710449     1.7078403234481812    4.298235893249512\n",
            "3        4.7155890464782715    4.5852508544921875    2.2515437602996826    6.952032566070557\n",
            "4        7.21718692779541      11.99471664428711     -1.064562201499939    14.03902816772461\n",
            "...      ...                   ...                   ...                   ...\n",
            "329,995  1.9938701391220093    0.789276123046875     0.22205990552902222   2.155872344970703\n",
            "329,996  3.7180912494659424    0.721337616443634     1.6415337324142456    4.127851963043213\n",
            "329,997  0.3688507676124573    13.029608726501465    -3.633934736251831    13.531896591186523\n",
            "329,998  -0.11259264498949051  1.4529125690460205    2.168952703475952     2.613041877746582\n",
            "329,999  20.796220779418945    -3.331387758255005    12.18841552734375     24.333894729614258\n"
          ],
          "name": "stdout"
        }
      ]
    },
    {
      "cell_type": "markdown",
      "metadata": {
        "id": "yNLJd1JstWni"
      },
      "source": [
        "Storing an expression as a column is called a virtual column since it does **not** take up any memory, and is computed on the fly when needed. A virtual column is treated just as a normal column."
      ]
    },
    {
      "cell_type": "code",
      "metadata": {
        "id": "PMWxit_1saUg",
        "colab": {
          "base_uri": "https://localhost:8080/",
          "height": 51
        },
        "outputId": "2146e245-484a-4f89-b364-6266456aaffb"
      },
      "source": [
        "df.select(df.x < 0)\n",
        "df.evaluate(df.x, selection=True)"
      ],
      "execution_count": null,
      "outputs": [
        {
          "output_type": "execute_result",
          "data": {
            "text/plain": [
              "array([-0.16370061, -2.120256  , -7.7843747 , ..., -8.126636  ,\n",
              "       -3.9477386 , -0.11259264], dtype=float32)"
            ]
          },
          "metadata": {
            "tags": []
          },
          "execution_count": 21
        }
      ]
    },
    {
      "cell_type": "code",
      "metadata": {
        "id": "NYwJmDL2tnE1",
        "colab": {
          "base_uri": "https://localhost:8080/",
          "height": 221
        },
        "outputId": "52a5b3de-233f-467b-916d-7abc1df5fa43"
      },
      "source": [
        "df_negative = df[df.x < 0]\n",
        "print(df_negative[['x', 'y', 'z', 'r']])"
      ],
      "execution_count": null,
      "outputs": [
        {
          "output_type": "stream",
          "text": [
            "#        x                     y                    z                     r\n",
            "0        -0.16370061039924622  3.654221296310425    -0.25490644574165344  3.666757345199585\n",
            "1        -2.120255947113037    3.326052665710449    1.7078403234481812    4.298235893249512\n",
            "2        -7.784374713897705    5.989774703979492    -0.682695209980011    9.845809936523438\n",
            "3        -3.5571861267089844   5.413629055023193    0.09171556681394577   6.478376865386963\n",
            "4        -20.813940048217773   -3.294677495956421   13.486607551574707    25.019264221191406\n",
            "...      ...                   ...                  ...                   ...\n",
            "166,274  -2.5926425457000732   -2.871671676635742   -0.18048334121704102  3.8730955123901367\n",
            "166,275  -0.7566012144088745   2.9830434322357178   -6.940553188323975    7.592250823974609\n",
            "166,276  -8.126635551452637    1.1619765758514404   -1.6459038257598877   8.372657775878906\n",
            "166,277  -3.9477386474609375   -3.0684902667999268  -1.5822702646255493   5.244411468505859\n",
            "166,278  -0.11259264498949051  1.4529125690460205   2.168952703475952     2.613041877746582\n"
          ],
          "name": "stdout"
        }
      ]
    },
    {
      "cell_type": "code",
      "metadata": {
        "id": "5HdoRiodtqBG",
        "colab": {
          "base_uri": "https://localhost:8080/",
          "height": 34
        },
        "outputId": "1049771b-6546-43bd-9908-960a95984d53"
      },
      "source": [
        "df.count(), df.mean(df.x), df.mean(df.x, selection=True)"
      ],
      "execution_count": null,
      "outputs": [
        {
          "output_type": "execute_result",
          "data": {
            "text/plain": [
              "(array(330000), array(-0.0632868), array(-5.18457762))"
            ]
          },
          "metadata": {
            "tags": []
          },
          "execution_count": 23
        }
      ]
    },
    {
      "cell_type": "code",
      "metadata": {
        "id": "u0d57SENuwkt",
        "colab": {
          "base_uri": "https://localhost:8080/",
          "height": 119
        },
        "outputId": "713e55b8-c5d0-4ac1-e222-abaadc83d751"
      },
      "source": [
        "counts_x = df.count(binby=df.x, limits=[-10, 10], shape=64)\n",
        "counts_x"
      ],
      "execution_count": null,
      "outputs": [
        {
          "output_type": "execute_result",
          "data": {
            "text/plain": [
              "array([1374, 1350, 1459, 1618, 1706, 1762, 1852, 2007, 2240, 2340, 2610,\n",
              "       2840, 3126, 3337, 3570, 3812, 4216, 4434, 4730, 4975, 5332, 5800,\n",
              "       6162, 6540, 6805, 7261, 7478, 7642, 7839, 8336, 8736, 8279, 8269,\n",
              "       8824, 8217, 7978, 7541, 7383, 7116, 6836, 6447, 6220, 5864, 5408,\n",
              "       4881, 4681, 4337, 4015, 3799, 3531, 3320, 3040, 2866, 2629, 2488,\n",
              "       2244, 1981, 1905, 1734, 1540, 1437, 1378, 1233, 1186])"
            ]
          },
          "metadata": {
            "tags": []
          },
          "execution_count": 24
        }
      ]
    },
    {
      "cell_type": "code",
      "metadata": {
        "id": "tq6Xg5wuu8r7",
        "colab": {
          "base_uri": "https://localhost:8080/",
          "height": 265
        },
        "outputId": "03edd456-cf4a-4b7d-bbb7-e4204fe13ceb"
      },
      "source": [
        "import matplotlib.pylab as plt\n",
        "plt.plot(np.linspace(-10, 10, 64), counts_x)\n",
        "plt.show()"
      ],
      "execution_count": null,
      "outputs": [
        {
          "output_type": "display_data",
          "data": {
            "image/png": "[encoded data removed]",
            "text/plain": [
              "<Figure size 432x288 with 1 Axes>"
            ]
          },
          "metadata": {
            "tags": [],
            "needs_background": "light"
          }
        }
      ]
    },
    {
      "cell_type": "code",
      "metadata": {
        "id": "SDP0lrZCvADJ",
        "colab": {
          "base_uri": "https://localhost:8080/",
          "height": 136
        },
        "outputId": "e46f5eb5-0232-4483-dc16-ff6cafa62329"
      },
      "source": [
        "xycounts = df.count(binby=[df.x, df.y], limits=[[-10, 10], [-10, 20]], shape=(64, 128))\n",
        "xycounts"
      ],
      "execution_count": null,
      "outputs": [
        {
          "output_type": "execute_result",
          "data": {
            "text/plain": [
              "array([[ 5,  2,  3, ...,  3,  3,  0],\n",
              "       [ 8,  4,  2, ...,  5,  3,  2],\n",
              "       [ 5, 11,  7, ...,  3,  3,  1],\n",
              "       ...,\n",
              "       [ 4,  8,  5, ...,  2,  0,  2],\n",
              "       [10,  6,  7, ...,  1,  1,  2],\n",
              "       [ 6,  7,  9, ...,  2,  2,  2]])"
            ]
          },
          "metadata": {
            "tags": []
          },
          "execution_count": 27
        }
      ]
    },
    {
      "cell_type": "code",
      "metadata": {
        "id": "VMgBVMkzvDSR",
        "colab": {
          "base_uri": "https://localhost:8080/",
          "height": 269
        },
        "outputId": "696f148d-7018-4012-bddd-c00a20e4d880"
      },
      "source": [
        "plt.imshow(xycounts.T, origin='lower', extent=[-10, 10, -10, 20])\n",
        "plt.show()"
      ],
      "execution_count": null,
      "outputs": [
        {
          "output_type": "display_data",
          "data": {
            "image/png": "[encoded data removed]",
            "text/plain": [
              "<Figure size 432x288 with 1 Axes>"
            ]
          },
          "metadata": {
            "tags": [],
            "needs_background": "light"
          }
        }
      ]
    },
    {
      "cell_type": "code",
      "metadata": {
        "id": "4RmD75rnvIrZ",
        "colab": {
          "base_uri": "https://localhost:8080/",
          "height": 238
        },
        "outputId": "bb105a9e-a0f9-4b08-fe86-54ea52e3ecea"
      },
      "source": [
        "v = np.sqrt(df.vx**2 + df.vy**2 + df.vz**2)\n",
        "xy_mean_v = df.mean(v, binby=[df.x, df.y], limits=[[-10, 10], [-10, 20]], shape=(64, 128))\n",
        "xy_mean_v"
      ],
      "execution_count": null,
      "outputs": [
        {
          "output_type": "execute_result",
          "data": {
            "text/plain": [
              "array([[156.15283203, 226.0004425 , 206.95940653, ...,  90.0340627 ,\n",
              "        152.08784485,          nan],\n",
              "       [203.81366634, 133.01436043, 146.95962524, ..., 137.54756927,\n",
              "         98.68717448, 141.06020737],\n",
              "       [150.59178772, 188.38820371, 137.46753802, ..., 155.96900177,\n",
              "        148.91660563, 138.48191833],\n",
              "       ...,\n",
              "       [168.93819809, 187.75943136, 137.318647  , ..., 144.83927917,\n",
              "                 nan, 107.7273407 ],\n",
              "       [154.80492783, 140.55182203, 180.30700166, ..., 184.01670837,\n",
              "         95.10913086, 131.18122864],\n",
              "       [166.06868235, 150.54079764, 125.84606828, ..., 130.56007385,\n",
              "        121.04217911, 113.34659195]])"
            ]
          },
          "metadata": {
            "tags": []
          },
          "execution_count": 29
        }
      ]
    },
    {
      "cell_type": "markdown",
      "metadata": {
        "id": "Iyggxo_avazA"
      },
      "source": [
        "## Getting your data in"
      ]
    },
    {
      "cell_type": "code",
      "metadata": {
        "id": "M5G1sAWgvPiw",
        "colab": {
          "base_uri": "https://localhost:8080/",
          "height": 119
        },
        "outputId": "6f6004fe-23fc-4c29-ce13-670a97554f74"
      },
      "source": [
        "import vaex\n",
        "import numpy as np\n",
        "x = np.arange(5)\n",
        "y = x**2\n",
        "df = vaex.from_arrays(x=x, y=y)\n",
        "print(df)"
      ],
      "execution_count": null,
      "outputs": [
        {
          "output_type": "stream",
          "text": [
            "  #    x    y\n",
            "  0    0    0\n",
            "  1    1    1\n",
            "  2    2    4\n",
            "  3    3    9\n",
            "  4    4   16\n"
          ],
          "name": "stdout"
        }
      ]
    },
    {
      "cell_type": "code",
      "metadata": {
        "id": "c6aONE6lvLz0",
        "colab": {
          "base_uri": "https://localhost:8080/",
          "height": 269
        },
        "outputId": "469a6885-fddf-43ba-ca84-f1e60b6aaa7f"
      },
      "source": [
        "plt.imshow(xy_mean_v.T, origin='lower', extent=[-10, 10, -10, 20])\n",
        "plt.show()"
      ],
      "execution_count": null,
      "outputs": [
        {
          "output_type": "display_data",
          "data": {
            "image/png": "[encoded data removed]",
            "text/plain": [
              "<Figure size 432x288 with 1 Axes>"
            ]
          },
          "metadata": {
            "tags": [],
            "needs_background": "light"
          }
        }
      ]
    },
    {
      "cell_type": "markdown",
      "metadata": {
        "id": "IRoYu8gMXuV6"
      },
      "source": [
        "## Vaex 4.0 New Features"
      ]
    },
    {
      "cell_type": "markdown",
      "metadata": {
        "id": "4tWT_TJXvnAj"
      },
      "source": [
        "### With Apache Arrow Arrays"
      ]
    },
    {
      "cell_type": "code",
      "metadata": {
        "id": "xWQupCZEX0-u"
      },
      "source": [
        "import vaex\n",
        "import numpy as np\n",
        "import pyarrow as pa"
      ],
      "execution_count": null,
      "outputs": []
    },
    {
      "cell_type": "code",
      "metadata": {
        "colab": {
          "base_uri": "https://localhost:8080/"
        },
        "id": "hIsABnN0YTaT",
        "outputId": "c1c47216-5cf3-4a38-8b48-15e9d45a9705"
      },
      "source": [
        "df = vaex.from_arrays(library=['Vaex', 'NumPy', 'Apache Arrow'])\n",
        "print(df)"
      ],
      "execution_count": null,
      "outputs": [
        {
          "output_type": "stream",
          "text": [
            "  #  library\n",
            "  0  'Vaex'\n",
            "  1  'NumPy'\n",
            "  2  'Apache Arrow'\n"
          ],
          "name": "stdout"
        }
      ]
    },
    {
      "cell_type": "code",
      "metadata": {
        "colab": {
          "base_uri": "https://localhost:8080/"
        },
        "id": "R_wwwgUdYd4P",
        "outputId": "e1269560-0281-4bf3-a803-c86b2dc19d75"
      },
      "source": [
        "print(repr(df['library'].values))"
      ],
      "execution_count": null,
      "outputs": [
        {
          "output_type": "stream",
          "text": [
            "<pyarrow.lib.StringArray object at 0x7fad76d861a0>\n",
            "[\n",
            "  \"Vaex\",\n",
            "  \"NumPy\",\n",
            "  \"Apache Arrow\"\n",
            "]\n"
          ],
          "name": "stdout"
        }
      ]
    },
    {
      "cell_type": "code",
      "metadata": {
        "colab": {
          "base_uri": "https://localhost:8080/"
        },
        "id": "hR-3O0apYqss",
        "outputId": "963c9513-413e-4dc8-bbd8-f7ffa6f784d1"
      },
      "source": [
        "# mixing Arrow and Numpy\n",
        "x  = np.arange(4)\n",
        "y = pa.array([42, 12, 144, 1024])\n",
        "\n",
        "df = vaex.from_arrays(x=x, y=y)\n",
        "df['y'] = df.x * df.y\n",
        "print(repr(df.y))"
      ],
      "execution_count": null,
      "outputs": [
        {
          "output_type": "stream",
          "text": [
            "Expression = y\n",
            "Length: 4 dtype: int64 (column)\n",
            "-------------------------------\n",
            "0     0\n",
            "1    12\n",
            "2   288\n",
            "3  3072\n"
          ],
          "name": "stdout"
        }
      ]
    },
    {
      "cell_type": "code",
      "metadata": {
        "colab": {
          "base_uri": "https://localhost:8080/"
        },
        "id": "CVsWmUQHZFih",
        "outputId": "083f4251-a1c6-4d3b-e5c6-e6dc5e1615ba"
      },
      "source": [
        "# By default, Arrow takes a Pandas-like approach of converting mmissing values to NaN when mixing with Numpy\n",
        "x = np.ma.array(np.arange(4), mask=[0, 1, 0, 0], dtype='i4')\n",
        "y = pa.array([42, 12, 144, None], type=pa.int32())\n",
        "print(x*y)"
      ],
      "execution_count": null,
      "outputs": [
        {
          "output_type": "stream",
          "text": [
            "[0.0 -- 288.0 nan]\n"
          ],
          "name": "stdout"
        }
      ]
    },
    {
      "cell_type": "code",
      "metadata": {
        "colab": {
          "base_uri": "https://localhost:8080/"
        },
        "id": "dsZgI-jVZmHU",
        "outputId": "6c0a70b6-59bb-48d4-f614-16b068a79073"
      },
      "source": [
        "# Vaex ensures the missing values stay missing and arrays do not get upcasted.\n",
        "df = vaex.from_arrays(x=x, y=y)\n",
        "df['y'] = df.x * df.y\n",
        "print(repr(df.y))"
      ],
      "execution_count": null,
      "outputs": [
        {
          "output_type": "stream",
          "text": [
            "Expression = y\n",
            "Length: 4 dtype: int32 (column)\n",
            "-------------------------------\n",
            "0    0\n",
            "1   --\n",
            "2  288\n",
            "3   --\n"
          ],
          "name": "stdout"
        }
      ]
    },
    {
      "cell_type": "code",
      "metadata": {
        "colab": {
          "base_uri": "https://localhost:8080/"
        },
        "id": "E6KUae6SaDZ0",
        "outputId": "3882b3cf-115a-4e4c-ce61-91eaa4204270"
      },
      "source": [
        "df = vaex.from_arrays(text=['So, can you split this?', 'And this.', None])\n",
        "df.text.str.split(\" \")"
      ],
      "execution_count": null,
      "outputs": [
        {
          "output_type": "execute_result",
          "data": {
            "text/plain": [
              "Expression = str_split(text, ' ')\n",
              "Length: 3 dtype: list<item: string> (expression)\n",
              "------------------------------------------------\n",
              "0  ['So,', 'can', 'you', 'split', 'this?']\n",
              "1                         ['And', 'this.']\n",
              "2                                       --"
            ]
          },
          "metadata": {
            "tags": []
          },
          "execution_count": 10
        }
      ]
    },
    {
      "cell_type": "code",
      "metadata": {
        "colab": {
          "base_uri": "https://localhost:8080/"
        },
        "id": "s2Hq19Zsdtn_",
        "outputId": "b118a4e5-a3bd-4c80-c9fe-6300c179dbae"
      },
      "source": [
        "# apply string operations to each string in the list\n",
        "df.text.str.split(\" \").str.strip(' ,?.')"
      ],
      "execution_count": null,
      "outputs": [
        {
          "output_type": "execute_result",
          "data": {
            "text/plain": [
              "Expression = str_strip(str_split(text, ' '), ' ,?.')\n",
              "Length: 3 dtype: list<item: string> (expression)\n",
              "------------------------------------------------\n",
              "0  ['So', 'can', 'you', 'split', 'this']\n",
              "1                        ['And', 'this']\n",
              "2                                     --"
            ]
          },
          "metadata": {
            "tags": []
          },
          "execution_count": 11
        }
      ]
    },
    {
      "cell_type": "code",
      "metadata": {
        "colab": {
          "base_uri": "https://localhost:8080/"
        },
        "id": "UQLqt64jeAb1",
        "outputId": "a7c4d1b5-e0e7-450e-97c9-8f2872fc3572"
      },
      "source": [
        "# String splitting can even be done multiple times creating a nested list without any performance loss.\n",
        "df.text.str.split(\" \").str.strip(' ,?.').str.split('a')"
      ],
      "execution_count": null,
      "outputs": [
        {
          "output_type": "execute_result",
          "data": {
            "text/plain": [
              "Expression = str_split(str_strip(str_split(text, ' '), ' ,?.'), 'a')\n",
              "Length: 3 dtype: list<item: list<item: string>> (expression)\n",
              "------------------------------------------------------------\n",
              "0  [['So'], ['c', 'n'], ['you'], ['split'], ['this']]\n",
              "1                                 [['And'], ['this']]\n",
              "2                                                  --"
            ]
          },
          "metadata": {
            "tags": []
          },
          "execution_count": 12
        }
      ]
    },
    {
      "cell_type": "markdown",
      "metadata": {
        "id": "1cuGE-BIgpiU"
      },
      "source": [
        "### With Apache Parquet Support"
      ]
    },
    {
      "cell_type": "code",
      "metadata": {
        "id": "L05bgDSbgpQt"
      },
      "source": [
        "import vaex"
      ],
      "execution_count": null,
      "outputs": []
    },
    {
      "cell_type": "code",
      "metadata": {
        "id": "LmXYYcMHgjPG"
      },
      "source": [
        "countries = ['US', 'US', 'NL', 'FR', 'NL', 'NL']\n",
        "years = [2020, 2021, 2020, 2020, 2019, 2020]\n",
        "values = [1, 2, 3, 4, 5, 6]"
      ],
      "execution_count": null,
      "outputs": []
    },
    {
      "cell_type": "code",
      "metadata": {
        "id": "5LBeUIqYhd8F"
      },
      "source": [
        "df = vaex.from_dict({\n",
        "    'country': countries,\n",
        "    'year': years,\n",
        "    'value': values\n",
        "})\n",
        "df.export_partitioned('./partitioned', by=['country', 'year'])"
      ],
      "execution_count": null,
      "outputs": []
    },
    {
      "cell_type": "code",
      "metadata": {
        "colab": {
          "base_uri": "https://localhost:8080/"
        },
        "id": "eiH4GXUwhgNe",
        "outputId": "74a9a134-3246-4fe8-a34e-1fa2f246384a"
      },
      "source": [
        "!ls -R ./partitioned/"
      ],
      "execution_count": null,
      "outputs": [
        {
          "output_type": "stream",
          "text": [
            "./partitioned/:\n",
            "'country=FR'  'country=NL'  'country=US'\n",
            "\n",
            "'./partitioned/country=FR':\n",
            "'year=2020'\n",
            "\n",
            "'./partitioned/country=FR/year=2020':\n",
            "bb5e981d-a1d2-4976-be8a-82647fca3042.parquet\n",
            "f29a162e-e0e6-4b08-8529-75b424cad5b0.parquet\n",
            "\n",
            "'./partitioned/country=NL':\n",
            "'year=2019'  'year=2020'\n",
            "\n",
            "'./partitioned/country=NL/year=2019':\n",
            "1f052a1c-6670-4fa4-9700-f0a25149e4f1.parquet\n",
            "4861225a-6201-4aeb-9e86-9815e4e26e62.parquet\n",
            "\n",
            "'./partitioned/country=NL/year=2020':\n",
            "d08356e8-0ffb-4b67-96c5-4fef2a35c128.parquet\n",
            "f2e2eb19-6d22-449e-b53c-620b04846260.parquet\n",
            "\n",
            "'./partitioned/country=US':\n",
            "'year=2020'  'year=2021'\n",
            "\n",
            "'./partitioned/country=US/year=2020':\n",
            "504f8f14-c15d-40c2-af23-4904c3999403.parquet\n",
            "98658faa-5544-4da8-8811-2817104c2cb8.parquet\n",
            "\n",
            "'./partitioned/country=US/year=2021':\n",
            "a9b23009-700c-4559-ac2b-6d5206f620e8.parquet\n",
            "fd77fd69-5d96-424f-8b45-2519681f9a04.parquet\n"
          ],
          "name": "stdout"
        }
      ]
    },
    {
      "cell_type": "code",
      "metadata": {
        "colab": {
          "base_uri": "https://localhost:8080/"
        },
        "id": "aOCsuNZLhrAM",
        "outputId": "e5f89778-47ce-4601-b416-1e3b1c20237e"
      },
      "source": [
        "df = vaex.open('./partitioned')\n",
        "print(df)"
      ],
      "execution_count": null,
      "outputs": [
        {
          "output_type": "stream",
          "text": [
            "#    value    country    year\n",
            "0    4        'FR'       2020\n",
            "1    4        'FR'       2020\n",
            "2    5        'NL'       2019\n",
            "3    5        'NL'       2019\n",
            "4    3        'NL'       2020\n",
            "...  ...      ...        ...\n",
            "7    6        'NL'       2020\n",
            "8    1        'US'       2020\n",
            "9    1        'US'       2020\n",
            "10   2        'US'       2021\n",
            "11   2        'US'       2021\n"
          ],
          "name": "stdout"
        }
      ]
    },
    {
      "cell_type": "markdown",
      "metadata": {
        "id": "SKDLANpJ4MIi"
      },
      "source": [
        "## Stretching Colab to handle BIG data\n",
        "\n",
        "* Read 100+GB file with 1 billion rows\n",
        "* For demo, just processing 20% of it which still has 20+GB with 200 million rows"
      ]
    },
    {
      "cell_type": "code",
      "metadata": {
        "id": "AMgoK-0R6OvS"
      },
      "source": [
        "import vaex"
      ],
      "execution_count": 7,
      "outputs": []
    },
    {
      "cell_type": "code",
      "metadata": {
        "id": "szF59xvRveuD",
        "colab": {
          "base_uri": "https://localhost:8080/"
        },
        "outputId": "59b3aca1-e9f2-4c24-d9e6-14c0cbe40fb3"
      },
      "source": [
        "# Read in the NYC Taxi dataset straight from S3\n",
        "# Lazy streaming from S3 supported in combination with memory mapping.\n",
        "%%time\n",
        "df = vaex.open('s3://vaex/taxi/yellow_taxi_2009_2015_f32.hdf5?anon=true') # open a 100+G file, 1 billion+ rows\n",
        "print(df)"
      ],
      "execution_count": 8,
      "outputs": [
        {
          "output_type": "stream",
          "text": [
            "#              vendor_id    pickup_datetime                dropoff_datetime               passenger_count    payment_type    trip_distance       pickup_longitude    pickup_latitude     rate_code    store_and_fwd_flag    dropoff_longitude    dropoff_latitude    fare_amount         surcharge    mta_tax    tip_amount          tolls_amount    total_amount\n",
            "0              VTS          2009-01-04 02:52:00.000000000  2009-01-04 03:02:00.000000000  1                  CASH            2.630000114440918   -73.99195861816406  40.72156524658203   nan          nan                   -73.99380493164062   40.6959228515625    8.899999618530273   0.5          nan        0.0                 0.0             9.399999618530273\n",
            "1              VTS          2009-01-04 03:31:00.000000000  2009-01-04 03:38:00.000000000  3                  Credit          4.550000190734863   -73.98210144042969  40.736289978027344  nan          nan                   -73.95584869384766   40.768028259277344  12.100000381469727  0.5          nan        2.0                 0.0             14.600000381469727\n",
            "2              VTS          2009-01-03 15:43:00.000000000  2009-01-03 15:57:00.000000000  5                  Credit          10.350000381469727  -74.0025863647461   40.73974609375      nan          nan                   -73.86997985839844   40.770225524902344  23.700000762939453  0.0          nan        4.739999771118164   0.0             28.440000534057617\n",
            "3              DDS          2009-01-01 20:52:58.000000000  2009-01-01 21:14:00.000000000  1                  CREDIT          5.0                 -73.9742660522461   40.79095458984375   nan          nan                   -73.9965591430664    40.731849670410156  14.899999618530273  0.5          nan        3.049999952316284   0.0             18.450000762939453\n",
            "4              DDS          2009-01-24 16:18:23.000000000  2009-01-24 16:24:56.000000000  1                  CASH            0.4000000059604645  -74.00157928466797  40.719383239746094  nan          nan                   -74.00837707519531   40.7203483581543    3.700000047683716   0.0          nan        0.0                 0.0             3.700000047683716\n",
            "...            ...          ...                            ...                            ...                ...             ...                 ...                 ...                 ...          ...                   ...                  ...                 ...                 ...          ...        ...                 ...             ...\n",
            "1,173,057,922  VTS          2015-12-31 23:59:56.000000000  2016-01-01 00:08:18.000000000  5                  1               1.2000000476837158  -73.99381256103516  40.72087097167969   1.0          0.0                   -73.98621368408203   40.722469329833984  7.5                 0.5          0.5        1.7599999904632568  0.0             10.5600004196167\n",
            "1,173,057,923  CMT          2015-12-31 23:59:58.000000000  2016-01-01 00:05:19.000000000  2                  2               2.0                 -73.96527099609375  40.76028060913086   1.0          0.0                   -73.93951416015625   40.75238800048828   7.5                 0.5          0.5        0.0                 0.0             8.800000190734863\n",
            "1,173,057,924  CMT          2015-12-31 23:59:59.000000000  2016-01-01 00:12:55.000000000  2                  2               3.799999952316284   -73.98729705810547  40.739078521728516  1.0          0.0                   -73.9886703491211    40.69329833984375   13.5                0.5          0.5        0.0                 0.0             14.800000190734863\n",
            "1,173,057,925  VTS          2015-12-31 23:59:59.000000000  2016-01-01 00:10:26.000000000  1                  2               1.9600000381469727  -73.99755859375     40.72569274902344   1.0          0.0                   -74.01712036132812   40.705322265625     8.5                 0.5          0.5        0.0                 0.0             9.800000190734863\n",
            "1,173,057,926  VTS          2015-12-31 23:59:59.000000000  2016-01-01 00:21:30.000000000  1                  1               1.059999942779541   -73.9843978881836   40.76725769042969   1.0          0.0                   -73.99098205566406   40.76057052612305   13.5                0.5          0.5        2.9600000381469727  0.0             17.760000228881836\n",
            "CPU times: user 32.2 ms, sys: 713 µs, total: 32.9 ms\n",
            "Wall time: 42 ms\n"
          ],
          "name": "stdout"
        }
      ]
    },
    {
      "cell_type": "code",
      "metadata": {
        "id": "j-bbmRdMp8vI",
        "colab": {
          "base_uri": "https://localhost:8080/"
        },
        "outputId": "b28b50a5-7ffc-4f3e-d1fc-2c3c5f90b015"
      },
      "source": [
        "# lets use just 20% of the data, since we want to make sure it fits\n",
        "# into memory (so we don't measure just hdd/ssd speed)\n",
        "%%time\n",
        "df.set_active_fraction(0.2)\n",
        "print(df)"
      ],
      "execution_count": 9,
      "outputs": [
        {
          "output_type": "stream",
          "text": [
            "#            vendor_id    pickup_datetime                dropoff_datetime               passenger_count    payment_type    trip_distance       pickup_longitude    pickup_latitude     rate_code    store_and_fwd_flag    dropoff_longitude    dropoff_latitude    fare_amount         surcharge    mta_tax    tip_amount         tolls_amount    total_amount\n",
            "0            VTS          2009-01-04 02:52:00.000000000  2009-01-04 03:02:00.000000000  1                  CASH            2.630000114440918   -73.99195861816406  40.72156524658203   nan          nan                   -73.99380493164062   40.6959228515625    8.899999618530273   0.5          nan        0.0                0.0             9.399999618530273\n",
            "1            VTS          2009-01-04 03:31:00.000000000  2009-01-04 03:38:00.000000000  3                  Credit          4.550000190734863   -73.98210144042969  40.736289978027344  nan          nan                   -73.95584869384766   40.768028259277344  12.100000381469727  0.5          nan        2.0                0.0             14.600000381469727\n",
            "2            VTS          2009-01-03 15:43:00.000000000  2009-01-03 15:57:00.000000000  5                  Credit          10.350000381469727  -74.0025863647461   40.73974609375      nan          nan                   -73.86997985839844   40.770225524902344  23.700000762939453  0.0          nan        4.739999771118164  0.0             28.440000534057617\n",
            "3            DDS          2009-01-01 20:52:58.000000000  2009-01-01 21:14:00.000000000  1                  CREDIT          5.0                 -73.9742660522461   40.79095458984375   nan          nan                   -73.9965591430664    40.731849670410156  14.899999618530273  0.5          nan        3.049999952316284  0.0             18.450000762939453\n",
            "4            DDS          2009-01-24 16:18:23.000000000  2009-01-24 16:24:56.000000000  1                  CASH            0.4000000059604645  -74.00157928466797  40.719383239746094  nan          nan                   -74.00837707519531   40.7203483581543    3.700000047683716   0.0          nan        0.0                0.0             3.700000047683716\n",
            "...          ...          ...                            ...                            ...                ...             ...                 ...                 ...                 ...          ...                   ...                  ...                 ...                 ...          ...        ...                ...             ...\n",
            "234,611,580  CMT          2010-05-31 10:42:23.000000000  2010-05-31 10:50:09.000000000  1                  Cas             2.799999952316284   0.0                 0.0                 1.0          0.0                   0.0                  0.0                 8.5                 0.0          0.5        0.0                0.0             9.0\n",
            "234,611,581  CMT          2010-05-22 14:26:50.000000000  2010-05-22 14:36:01.000000000  2                  Cre             1.0                 -73.99446868896484  40.745750427246094  1.0          0.0                   -73.9806137084961    40.74235916137695   6.5                 0.0          0.5        1.0                0.0             8.0\n",
            "234,611,582  VTS          2010-05-04 01:59:00.000000000  2010-05-04 02:10:00.000000000  1                  Cre             4.829999923706055   -73.96915435791016  40.75857162475586   1.0          nan                   -73.91055297851562   40.7760124206543    12.100000381469727  0.5          0.5        2.0                0.0             15.100000381469727\n",
            "234,611,583  CMT          2010-05-31 21:25:00.000000000  2010-05-31 22:10:42.000000000  1                  Cas             19.0                -73.78207397460938  40.64470291137695   2.0          0.0                   -73.98816680908203   40.76955032348633   45.0                0.0          0.5        0.0                0.0             45.5\n",
            "234,611,584  CMT          2010-05-16 04:31:09.000000000  2010-05-16 04:34:48.000000000  1                  Cas             1.0                 -73.99309539794922  40.733314514160156  1.0          0.0                   -73.98226165771484   40.74003982543945   4.5                 0.5          0.5        0.0                0.0             5.5\n",
            "CPU times: user 52.5 ms, sys: 77.8 ms, total: 130 ms\n",
            "Wall time: 2.8 s\n"
          ],
          "name": "stdout"
        }
      ]
    },
    {
      "cell_type": "code",
      "metadata": {
        "id": "9bY1p1FN5ueI",
        "colab": {
          "base_uri": "https://localhost:8080/",
          "height": 297
        },
        "outputId": "f13e99f4-22fb-4b6c-df24-22458436a896"
      },
      "source": [
        "df.plot(df.col.pickup_longitude, df.col.pickup_latitude, f=\"log1p\", show=True, limits=\"96%\");"
      ],
      "execution_count": null,
      "outputs": [
        {
          "output_type": "display_data",
          "data": {
            "image/png": "[encoded data removed]",
            "text/plain": [
              "<Figure size 432x288 with 2 Axes>"
            ]
          },
          "metadata": {
            "tags": [],
            "needs_background": "light"
          }
        }
      ]
    },
    {
      "cell_type": "code",
      "metadata": {
        "id": "Hylk_wMy1aun",
        "colab": {
          "base_uri": "https://localhost:8080/",
          "height": 255
        },
        "outputId": "1b07529e-da4a-401d-c041-5f9fd3f3300e"
      },
      "source": [
        "df['tip_percentage'] = df.tip_amount / df.total_amount\n",
        "df['tip_percentage']"
      ],
      "execution_count": null,
      "outputs": [
        {
          "output_type": "execute_result",
          "data": {
            "text/plain": [
              "Expression = tip_percentage\n",
              "Length: 234,611,585 dtype: float32 (column)\n",
              "-------------------------------------------\n",
              "        0         0\n",
              "        1  0.136986\n",
              "        2  0.166667\n",
              "        3  0.165312\n",
              "        4         0\n",
              "        ...        \n",
              "234611580         0\n",
              "234611581     0.125\n",
              "234611582   0.13245\n",
              "234611583         0\n",
              "234611584         0"
            ]
          },
          "metadata": {
            "tags": []
          },
          "execution_count": 5
        }
      ]
    },
    {
      "cell_type": "markdown",
      "metadata": {
        "id": "kq5Ff2MR3nc6"
      },
      "source": [
        "Filtering and evaluating expressions will not waste memory by making copies; the data is kept untouched on disk, and will be streamed only when needed. Delay the time before you need a cluster."
      ]
    },
    {
      "cell_type": "code",
      "metadata": {
        "id": "3T5SrTrL2ath"
      },
      "source": [
        "dff = df[df.total_amount > 0]"
      ],
      "execution_count": null,
      "outputs": []
    },
    {
      "cell_type": "code",
      "metadata": {
        "id": "xUBMUAd82mjc",
        "colab": {
          "base_uri": "https://localhost:8080/",
          "height": 66,
          "referenced_widgets": [
            "d5aa350783c0465083f2aafaddd92b65",
            "13e2c6e664c846eb90f77c609b2d7ddf",
            "b7bd3aaf6f3f4de583653272fb111709",
            "fa0d9d35ca824adaac271e45dc294db1",
            "11360157f0424023ae0e14dda2d6a32f",
            "5febc4f1591648d49aafcb8c13f0c616",
            "916200bae088467daf7a5a6dcf70efd9",
            "971f1e2ba9cd4653bf90e97e05b34a7e"
          ]
        },
        "outputId": "0ed9d383-e141-42cf-f4f7-7669bb0ae8a7"
      },
      "source": [
        "dff.tip_amount.mean(progress='widget')"
      ],
      "execution_count": null,
      "outputs": [
        {
          "output_type": "display_data",
          "data": {
            "application/vnd.jupyter.widget-view+json": {
              "model_id": "d5aa350783c0465083f2aafaddd92b65",
              "version_minor": 0,
              "version_major": 2
            },
            "text/plain": [
              "HBox(children=(FloatProgress(value=0.0, max=1.0), Label(value='In progress...')))"
            ]
          },
          "metadata": {
            "tags": []
          }
        },
        {
          "output_type": "execute_result",
          "data": {
            "text/plain": [
              "array(0.61493081)"
            ]
          },
          "metadata": {
            "tags": []
          },
          "execution_count": 7
        }
      ]
    },
    {
      "cell_type": "code",
      "metadata": {
        "id": "ap5uHK1t33AL",
        "colab": {
          "base_uri": "https://localhost:8080/",
          "height": 35
        },
        "outputId": "b9162ca3-5c42-4d78-8094-87b0fc7c432e"
      },
      "source": [
        "f\"{len(dff):,} rows filtered and processed\""
      ],
      "execution_count": null,
      "outputs": [
        {
          "output_type": "execute_result",
          "data": {
            "application/vnd.google.colaboratory.intrinsic+json": {
              "type": "string"
            },
            "text/plain": [
              "'234,580,894 rows filtered and processed'"
            ]
          },
          "metadata": {
            "tags": []
          },
          "execution_count": 8
        }
      ]
    },
    {
      "cell_type": "code",
      "metadata": {
        "id": "FLl-9TKowjHM",
        "colab": {
          "base_uri": "https://localhost:8080/",
          "height": 51
        },
        "outputId": "fbfa6351-d056-4e44-b9ce-fef6c2b81b0e"
      },
      "source": [
        "%%time\n",
        "df_group = df.groupby(dff.passenger_count, agg=vaex.agg.mean(df.tip_amount))"
      ],
      "execution_count": null,
      "outputs": [
        {
          "output_type": "stream",
          "text": [
            "CPU times: user 14 s, sys: 4.25 s, total: 18.2 s\n",
            "Wall time: 1min 45s\n"
          ],
          "name": "stdout"
        }
      ]
    },
    {
      "cell_type": "code",
      "metadata": {
        "id": "BHjIP3pixsyA",
        "colab": {
          "base_uri": "https://localhost:8080/",
          "height": 255
        },
        "outputId": "7b973e56-6eff-4cd3-e6e5-37ebd55b1f88"
      },
      "source": [
        "%%time\n",
        "df_joined = df.extract().join(df_group, on='passenger_count') # no memory copies\n",
        "print(df_joined['passenger_count', 'tip_amount', 'tip_amount_mean'])"
      ],
      "execution_count": null,
      "outputs": [
        {
          "output_type": "stream",
          "text": [
            "#            passenger_count    tip_amount         tip_amount_mean\n",
            "0            1                  0.0                0.6258832207232858\n",
            "1            3                  2.0                0.4980706052978914\n",
            "2            5                  4.739999771118164  0.6461222850436364\n",
            "3            1                  3.049999952316284  0.6258832207232858\n",
            "4            1                  0.0                0.6258832207232858\n",
            "...          ...                ...                ...\n",
            "234,611,580  1                  0.0                0.6258832207232858\n",
            "234,611,581  2                  1.0                0.5279643993373218\n",
            "234,611,582  1                  2.0                0.6258832207232858\n",
            "234,611,583  1                  0.0                0.6258832207232858\n",
            "234,611,584  1                  0.0                0.6258832207232858\n",
            "CPU times: user 1.61 s, sys: 9.93 ms, total: 1.62 s\n",
            "Wall time: 3.51 s\n"
          ],
          "name": "stdout"
        }
      ]
    },
    {
      "cell_type": "markdown",
      "metadata": {
        "id": "LkW0z7PTpZiN"
      },
      "source": [
        "## Just-In-Time compilation\n",
        "\n",
        "The heavy calculation can be optimized by doing a Just-In-Time compilation, based on numba, pythran, or if you happen to have an NVIDIA graphics card cuda. Choose whichever gives the best performance or is easiest to install.\n",
        "\n",
        "[Link](https://vaex.readthedocs.io/en/latest/tutorial.html#Just-In-Time-compilation)"
      ]
    },
    {
      "cell_type": "code",
      "metadata": {
        "id": "EIkeefbErvrJ"
      },
      "source": [
        "import numpy as np\n",
        "# From http://pythonhosted.org/pythran/MANUAL.html\n",
        "def arc_distance(theta_1, phi_1, theta_2, phi_2):\n",
        "    \"\"\"\n",
        "    Calculates the pairwise arc distance\n",
        "    between all points in vector a and b.\n",
        "    \"\"\"\n",
        "    temp = (np.sin((theta_2-2-theta_1)/2)**2\n",
        "           + np.cos(theta_1)*np.cos(theta_2) * np.sin((phi_2-phi_1)/2)**2)\n",
        "    distance_matrix = 2 * np.arctan2(np.sqrt(temp), np.sqrt(1-temp))\n",
        "    return distance_matrix"
      ],
      "execution_count": 10,
      "outputs": []
    },
    {
      "cell_type": "code",
      "metadata": {
        "id": "tzuqSq2Ur0HY"
      },
      "source": [
        "df['arc_distance'] = arc_distance(df.pickup_longitude * np.pi/180,\n",
        "                                  df.pickup_latitude * np.pi/180,\n",
        "                                  df.dropoff_longitude * np.pi/180,\n",
        "                                  df.dropoff_latitude * np.pi/180)"
      ],
      "execution_count": 11,
      "outputs": []
    },
    {
      "cell_type": "code",
      "metadata": {
        "id": "Vf5wdO1er5zV",
        "colab": {
          "base_uri": "https://localhost:8080/"
        },
        "outputId": "56f16861-b05d-4a49-a811-1ce7b42e2389"
      },
      "source": [
        "%%time\n",
        "df.mean(df.arc_distance)"
      ],
      "execution_count": 12,
      "outputs": [
        {
          "output_type": "stream",
          "text": [
            "/usr/local/lib/python3.7/dist-packages/vaex/functions.py:178: RuntimeWarning: invalid value encountered in sqrt\n",
            "  result = function(*numpy_data, **kwargs)\n"
          ],
          "name": "stderr"
        },
        {
          "output_type": "stream",
          "text": [
            "CPU times: user 1min 14s, sys: 11.3 s, total: 1min 26s\n",
            "Wall time: 1min 32s\n"
          ],
          "name": "stdout"
        },
        {
          "output_type": "execute_result",
          "data": {
            "text/plain": [
              "array(1.99993282)"
            ]
          },
          "metadata": {
            "tags": []
          },
          "execution_count": 12
        }
      ]
    },
    {
      "cell_type": "markdown",
      "metadata": {
        "id": "rOp4Rw7_3RPl"
      },
      "source": [
        "### Using Cuda GPU"
      ]
    },
    {
      "cell_type": "code",
      "metadata": {
        "id": "iDb5OBqTsF0U"
      },
      "source": [
        "df['arc_distance_jit'] = df.arc_distance.jit_cuda()"
      ],
      "execution_count": 13,
      "outputs": []
    },
    {
      "cell_type": "code",
      "metadata": {
        "id": "2KYF8v4-sTXY",
        "colab": {
          "base_uri": "https://localhost:8080/"
        },
        "outputId": "1e4fb5cc-c8fa-4557-a914-7fa30af8c0ba"
      },
      "source": [
        "%%time\n",
        "df.mean(df.arc_distance_jit)"
      ],
      "execution_count": 14,
      "outputs": [
        {
          "output_type": "stream",
          "text": [
            "CPU times: user 3.29 s, sys: 51.3 ms, total: 3.34 s\n",
            "Wall time: 1.79 s\n"
          ],
          "name": "stdout"
        },
        {
          "output_type": "execute_result",
          "data": {
            "text/plain": [
              "array(1.99993285)"
            ]
          },
          "metadata": {
            "tags": []
          },
          "execution_count": 14
        }
      ]
    },
    {
      "cell_type": "markdown",
      "metadata": {
        "id": "zC_847sJ3Upf"
      },
      "source": [
        "### Using Numba"
      ]
    },
    {
      "cell_type": "code",
      "metadata": {
        "id": "ttn9IpA_3BQj"
      },
      "source": [
        "df['arc_distance_jit'] = df.arc_distance.jit_numba()"
      ],
      "execution_count": 15,
      "outputs": []
    },
    {
      "cell_type": "code",
      "metadata": {
        "colab": {
          "base_uri": "https://localhost:8080/"
        },
        "id": "nJVBIohe3EEx",
        "outputId": "c80e4848-c0d0-44ff-b6b3-71230ac2170c"
      },
      "source": [
        "%%time\n",
        "df.mean(df.arc_distance_jit)"
      ],
      "execution_count": 16,
      "outputs": [
        {
          "output_type": "stream",
          "text": [
            "/usr/local/lib/python3.7/dist-packages/vaex/expression.py:1195: RuntimeWarning: invalid value encountered in f\n",
            "  return self.f(*args, **kwargs)\n"
          ],
          "name": "stderr"
        },
        {
          "output_type": "stream",
          "text": [
            "CPU times: user 34.8 s, sys: 49.4 ms, total: 34.9 s\n",
            "Wall time: 17.8 s\n"
          ],
          "name": "stdout"
        },
        {
          "output_type": "execute_result",
          "data": {
            "text/plain": [
              "array(1.9999328)"
            ]
          },
          "metadata": {
            "tags": []
          },
          "execution_count": 16
        }
      ]
    },
    {
      "cell_type": "markdown",
      "metadata": {
        "id": "2UqMsbms3W5R"
      },
      "source": [
        "### Using Pythran"
      ]
    },
    {
      "cell_type": "code",
      "metadata": {
        "colab": {
          "base_uri": "https://localhost:8080/"
        },
        "id": "yUe02f_G3KMw",
        "outputId": "2533b2bc-63fc-4477-98a1-3ead63861e59"
      },
      "source": [
        "!apt-get install libatlas-base-dev\n",
        "!apt-get install python-dev python-ply python-networkx python-numpy\n",
        "!pip install pythran"
      ],
      "execution_count": 17,
      "outputs": [
        {
          "output_type": "stream",
          "text": [
            "Reading package lists... Done\n",
            "Building dependency tree       \n",
            "Reading state information... Done\n",
            "libatlas-base-dev is already the newest version (3.10.3-5).\n",
            "The following package was automatically installed and is no longer required:\n",
            "  libnvidia-common-460\n",
            "Use 'apt autoremove' to remove it.\n",
            "0 upgraded, 0 newly installed, 0 to remove and 34 not upgraded.\n",
            "Reading package lists... Done\n",
            "Building dependency tree       \n",
            "Reading state information... Done\n",
            "python-dev is already the newest version (2.7.15~rc1-1).\n",
            "python-numpy is already the newest version (1:1.13.3-2ubuntu1).\n",
            "python-numpy set to manually installed.\n",
            "The following package was automatically installed and is no longer required:\n",
            "  libnvidia-common-460\n",
            "Use 'apt autoremove' to remove it.\n",
            "The following additional packages will be installed:\n",
            "  python-decorator python-pkg-resources python-yaml\n",
            "Suggested packages:\n",
            "  python-matplotlib python-pydotplus python-scipy python-pygraphviz\n",
            "  | python-pydot python-setuptools python-ply-doc\n",
            "The following NEW packages will be installed:\n",
            "  python-decorator python-networkx python-pkg-resources python-ply python-yaml\n",
            "0 upgraded, 5 newly installed, 0 to remove and 34 not upgraded.\n",
            "Need to get 1,103 kB of archives.\n",
            "After this operation, 5,348 kB of additional disk space will be used.\n",
            "Get:1 http://archive.ubuntu.com/ubuntu bionic/main amd64 python-decorator all 4.1.2-1 [9,300 B]\n",
            "Get:2 http://archive.ubuntu.com/ubuntu bionic-updates/main amd64 python-networkx all 1.11-1ubuntu3 [804 kB]\n",
            "Get:3 http://archive.ubuntu.com/ubuntu bionic/main amd64 python-pkg-resources all 39.0.1-2 [128 kB]\n",
            "Get:4 http://archive.ubuntu.com/ubuntu bionic/main amd64 python-ply all 3.11-1 [46.6 kB]\n",
            "Get:5 http://archive.ubuntu.com/ubuntu bionic/main amd64 python-yaml amd64 3.12-1build2 [115 kB]\n",
            "Fetched 1,103 kB in 1s (1,292 kB/s)\n",
            "Selecting previously unselected package python-decorator.\n",
            "(Reading database ... 160706 files and directories currently installed.)\n",
            "Preparing to unpack .../python-decorator_4.1.2-1_all.deb ...\n",
            "Unpacking python-decorator (4.1.2-1) ...\n",
            "Selecting previously unselected package python-networkx.\n",
            "Preparing to unpack .../python-networkx_1.11-1ubuntu3_all.deb ...\n",
            "Unpacking python-networkx (1.11-1ubuntu3) ...\n",
            "Selecting previously unselected package python-pkg-resources.\n",
            "Preparing to unpack .../python-pkg-resources_39.0.1-2_all.deb ...\n",
            "Unpacking python-pkg-resources (39.0.1-2) ...\n",
            "Selecting previously unselected package python-ply.\n",
            "Preparing to unpack .../python-ply_3.11-1_all.deb ...\n",
            "Unpacking python-ply (3.11-1) ...\n",
            "Selecting previously unselected package python-yaml.\n",
            "Preparing to unpack .../python-yaml_3.12-1build2_amd64.deb ...\n",
            "Unpacking python-yaml (3.12-1build2) ...\n",
            "Setting up python-yaml (3.12-1build2) ...\n",
            "Setting up python-ply (3.11-1) ...\n",
            "Setting up python-pkg-resources (39.0.1-2) ...\n",
            "Setting up python-decorator (4.1.2-1) ...\n",
            "Setting up python-networkx (1.11-1ubuntu3) ...\n",
            "Processing triggers for man-db (2.8.3-2ubuntu0.1) ...\n",
            "Collecting pythran\n",
            "\u001b[?25l  Downloading https://files.pythonhosted.org/packages/8b/31/931987bf2c151adc38a860938f0acabdc719a5aaa01edcde7dfbc8295723/pythran-0.9.10-py3-none-any.whl (4.2MB)\n",
            "\u001b[K     |████████████████████████████████| 4.2MB 6.7MB/s \n",
            "\u001b[?25hCollecting gast~=0.4.0\n",
            "  Downloading https://files.pythonhosted.org/packages/b6/48/583c032b79ae5b3daa02225a675aeb673e58d2cb698e78510feceb11958c/gast-0.4.0-py3-none-any.whl\n",
            "Requirement already satisfied: decorator in /usr/local/lib/python3.7/dist-packages (from pythran) (4.4.2)\n",
            "Collecting ply>=3.4\n",
            "\u001b[?25l  Downloading https://files.pythonhosted.org/packages/a3/58/35da89ee790598a0700ea49b2a66594140f44dec458c07e8e3d4979137fc/ply-3.11-py2.py3-none-any.whl (49kB)\n",
            "\u001b[K     |████████████████████████████████| 51kB 8.1MB/s \n",
            "\u001b[?25hRequirement already satisfied: six in /usr/local/lib/python3.7/dist-packages (from pythran) (1.15.0)\n",
            "Requirement already satisfied: networkx>=2 in /usr/local/lib/python3.7/dist-packages (from pythran) (2.5.1)\n",
            "Requirement already satisfied: numpy in /usr/local/lib/python3.7/dist-packages (from pythran) (1.19.5)\n",
            "Collecting beniget~=0.3.0\n",
            "  Downloading https://files.pythonhosted.org/packages/af/14/210eb0053124922abbd1ace0fe6fe46782acda64edb101f5fc890a72f6ad/beniget-0.3.0-py3-none-any.whl\n",
            "\u001b[31mERROR: tensorflow 2.4.1 has requirement gast==0.3.3, but you'll have gast 0.4.0 which is incompatible.\u001b[0m\n",
            "Installing collected packages: gast, ply, beniget, pythran\n",
            "  Found existing installation: gast 0.3.3\n",
            "    Uninstalling gast-0.3.3:\n",
            "      Successfully uninstalled gast-0.3.3\n",
            "Successfully installed beniget-0.3.0 gast-0.4.0 ply-3.11 pythran-0.9.10\n"
          ],
          "name": "stdout"
        }
      ]
    },
    {
      "cell_type": "code",
      "metadata": {
        "id": "f_sOXSyj3Glb"
      },
      "source": [
        "df['arc_distance_jit'] = df.arc_distance.jit_pythran()"
      ],
      "execution_count": 18,
      "outputs": []
    },
    {
      "cell_type": "code",
      "metadata": {
        "colab": {
          "base_uri": "https://localhost:8080/"
        },
        "id": "y7O1S--I3Io2",
        "outputId": "2ee5c58b-6b8f-48f3-c545-dfa16c019a7b"
      },
      "source": [
        "%%time\n",
        "df.mean(df.arc_distance_jit)"
      ],
      "execution_count": 19,
      "outputs": [
        {
          "output_type": "stream",
          "text": [
            "CPU times: user 59.6 s, sys: 51.2 ms, total: 59.7 s\n",
            "Wall time: 30.3 s\n"
          ],
          "name": "stdout"
        },
        {
          "output_type": "execute_result",
          "data": {
            "text/plain": [
              "array(1.9999328)"
            ]
          },
          "metadata": {
            "tags": []
          },
          "execution_count": 19
        }
      ]
    },
    {
      "cell_type": "markdown",
      "metadata": {
        "id": "jW4FZwRr3fwb"
      },
      "source": [
        "### Compare the performance"
      ]
    },
    {
      "cell_type": "code",
      "metadata": {
        "colab": {
          "base_uri": "https://localhost:8080/",
          "height": 336
        },
        "id": "AMzsirp93jOx",
        "outputId": "56bbe790-4ad9-4ea3-a0b8-9f67848b9fd3"
      },
      "source": [
        "import matplotlib.pyplot as plt\n",
        "fig = plt.figure()\n",
        "ax = fig.add_axes([0,0,1,1])\n",
        "vaex_comp = ['Plain Vaex', 'JIT with Cuda', 'JIT with Numba', 'JIT with Pythran']\n",
        "time = [92,1.79,17.8,30.3]\n",
        "ax.bar(vaex_comp,time, width=0.5)\n",
        "ax.set_ylabel('Run Time (seconds)')\n",
        "plt.show()"
      ],
      "execution_count": 24,
      "outputs": [
        {
          "output_type": "display_data",
          "data": {
            "image/png": "[encoded data removed]",
            "text/plain": [
              "<Figure size 432x288 with 1 Axes>"
            ]
          },
          "metadata": {
            "tags": [],
            "needs_background": "light"
          }
        }
      ]
    }
  ]
}