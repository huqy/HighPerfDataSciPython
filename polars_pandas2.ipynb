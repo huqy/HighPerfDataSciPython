{
  "cells": [
    {
      "cell_type": "markdown",
      "source": [
        "The benchmark coding blocks were directly copied from Sebastian Raschka's [work](https://github.com/rasbt/machine-learning-notes/blob/main/benchmark/pandas-pyarrow/pandas2-pyarrow.ipynb)."
      ],
      "metadata": {
        "id": "5cTSSuy1uoTH"
      },
      "id": "5cTSSuy1uoTH"
    },
    {
      "cell_type": "markdown",
      "id": "e981a9cc-222b-48e0-83f1-74bbc11eb2d1",
      "metadata": {
        "id": "e981a9cc-222b-48e0-83f1-74bbc11eb2d1"
      },
      "source": [
        "# Benchmarking the new Pandas PyArrow Backend"
      ]
    },
    {
      "cell_type": "code",
      "source": [
        "!pip install watermark\n",
        "!pip install pandas==2.0"
      ],
      "metadata": {
        "colab": {
          "base_uri": "https://localhost:8080/"
        },
        "id": "BVXob_brtu4w",
        "outputId": "e523ac23-bec1-41b4-8b40-96eac4be09da"
      },
      "id": "BVXob_brtu4w",
      "execution_count": null,
      "outputs": [
        {
          "output_type": "stream",
          "name": "stdout",
          "text": [
            "Looking in indexes: https://pypi.org/simple, https://us-python.pkg.dev/colab-wheels/public/simple/\n",
            "Collecting watermark\n",
            "  Downloading watermark-2.3.1-py2.py3-none-any.whl (7.2 kB)\n",
            "Requirement already satisfied: ipython in /usr/local/lib/python3.10/dist-packages (from watermark) (7.34.0)\n",
            "Requirement already satisfied: decorator in /usr/local/lib/python3.10/dist-packages (from ipython->watermark) (4.4.2)\n",
            "Requirement already satisfied: pickleshare in /usr/local/lib/python3.10/dist-packages (from ipython->watermark) (0.7.5)\n",
            "Requirement already satisfied: prompt-toolkit!=3.0.0,!=3.0.1,<3.1.0,>=2.0.0 in /usr/local/lib/python3.10/dist-packages (from ipython->watermark) (3.0.38)\n",
            "Collecting jedi>=0.16\n",
            "  Downloading jedi-0.18.2-py2.py3-none-any.whl (1.6 MB)\n",
            "\u001b[2K     \u001b[90m━━━━━━━━━━━━━━━━━━━━━━━━━━━━━━━━━━━━━━━━\u001b[0m \u001b[32m1.6/1.6 MB\u001b[0m \u001b[31m19.6 MB/s\u001b[0m eta \u001b[36m0:00:00\u001b[0m\n",
            "\u001b[?25hRequirement already satisfied: pygments in /usr/local/lib/python3.10/dist-packages (from ipython->watermark) (2.14.0)\n",
            "Requirement already satisfied: traitlets>=4.2 in /usr/local/lib/python3.10/dist-packages (from ipython->watermark) (5.7.1)\n",
            "Requirement already satisfied: backcall in /usr/local/lib/python3.10/dist-packages (from ipython->watermark) (0.2.0)\n",
            "Requirement already satisfied: matplotlib-inline in /usr/local/lib/python3.10/dist-packages (from ipython->watermark) (0.1.6)\n",
            "Requirement already satisfied: setuptools>=18.5 in /usr/local/lib/python3.10/dist-packages (from ipython->watermark) (67.7.2)\n",
            "Requirement already satisfied: pexpect>4.3 in /usr/local/lib/python3.10/dist-packages (from ipython->watermark) (4.8.0)\n",
            "Requirement already satisfied: parso<0.9.0,>=0.8.0 in /usr/local/lib/python3.10/dist-packages (from jedi>=0.16->ipython->watermark) (0.8.3)\n",
            "Requirement already satisfied: ptyprocess>=0.5 in /usr/local/lib/python3.10/dist-packages (from pexpect>4.3->ipython->watermark) (0.7.0)\n",
            "Requirement already satisfied: wcwidth in /usr/local/lib/python3.10/dist-packages (from prompt-toolkit!=3.0.0,!=3.0.1,<3.1.0,>=2.0.0->ipython->watermark) (0.2.6)\n",
            "Installing collected packages: jedi, watermark\n",
            "Successfully installed jedi-0.18.2 watermark-2.3.1\n",
            "Looking in indexes: https://pypi.org/simple, https://us-python.pkg.dev/colab-wheels/public/simple/\n",
            "Collecting pandas==2.0\n",
            "  Downloading pandas-2.0.0-cp310-cp310-manylinux_2_17_x86_64.manylinux2014_x86_64.whl (12.3 MB)\n",
            "\u001b[2K     \u001b[90m━━━━━━━━━━━━━━━━━━━━━━━━━━━━━━━━━━━━━━━━\u001b[0m \u001b[32m12.3/12.3 MB\u001b[0m \u001b[31m60.5 MB/s\u001b[0m eta \u001b[36m0:00:00\u001b[0m\n",
            "\u001b[?25hRequirement already satisfied: pytz>=2020.1 in /usr/local/lib/python3.10/dist-packages (from pandas==2.0) (2022.7.1)\n",
            "Requirement already satisfied: numpy>=1.21.0 in /usr/local/lib/python3.10/dist-packages (from pandas==2.0) (1.22.4)\n",
            "Requirement already satisfied: tzdata>=2022.1 in /usr/local/lib/python3.10/dist-packages (from pandas==2.0) (2023.3)\n",
            "Requirement already satisfied: python-dateutil>=2.8.2 in /usr/local/lib/python3.10/dist-packages (from pandas==2.0) (2.8.2)\n",
            "Requirement already satisfied: six>=1.5 in /usr/local/lib/python3.10/dist-packages (from python-dateutil>=2.8.2->pandas==2.0) (1.16.0)\n",
            "Installing collected packages: pandas\n",
            "  Attempting uninstall: pandas\n",
            "    Found existing installation: pandas 1.5.3\n",
            "    Uninstalling pandas-1.5.3:\n",
            "      Successfully uninstalled pandas-1.5.3\n",
            "\u001b[31mERROR: pip's dependency resolver does not currently take into account all the packages that are installed. This behaviour is the source of the following dependency conflicts.\n",
            "google-colab 1.0.0 requires pandas~=1.5.3, but you have pandas 2.0.0 which is incompatible.\u001b[0m\u001b[31m\n",
            "\u001b[0mSuccessfully installed pandas-2.0.0\n"
          ]
        }
      ]
    },
    {
      "cell_type": "code",
      "execution_count": null,
      "id": "d778165c-31ea-40aa-b7fb-f38a60d2c5fb",
      "metadata": {
        "id": "d778165c-31ea-40aa-b7fb-f38a60d2c5fb",
        "outputId": "7b3c04e7-4908-4087-c166-cae76ba317fb",
        "colab": {
          "base_uri": "https://localhost:8080/"
        }
      },
      "outputs": [
        {
          "output_type": "stream",
          "name": "stdout",
          "text": [
            "numpy : 1.22.4\n",
            "pandas: 2.0.0\n",
            "polars: 0.17.3\n",
            "\n"
          ]
        }
      ],
      "source": [
        "%load_ext watermark\n",
        "%watermark -p numpy,pandas,polars"
      ]
    },
    {
      "cell_type": "markdown",
      "id": "2497ad20-4553-441d-99c1-b841f7de9e88",
      "metadata": {
        "id": "2497ad20-4553-441d-99c1-b841f7de9e88"
      },
      "source": [
        "# 1) Float "
      ]
    },
    {
      "cell_type": "markdown",
      "id": "7fc4a76f-755b-4c3f-a450-8532d86afe56",
      "metadata": {
        "id": "7fc4a76f-755b-4c3f-a450-8532d86afe56"
      },
      "source": [
        "### PyArrow"
      ]
    },
    {
      "cell_type": "code",
      "execution_count": null,
      "id": "65d3c232-36e1-4d79-9535-434315dc6d79",
      "metadata": {
        "id": "65d3c232-36e1-4d79-9535-434315dc6d79",
        "outputId": "c0c9efc1-cf91-4319-de68-2a3b90e5eb36",
        "colab": {
          "base_uri": "https://localhost:8080/",
          "height": 300
        }
      },
      "outputs": [
        {
          "output_type": "execute_result",
          "data": {
            "text/plain": [
              "         0         1         2         3         4         5         6    \n",
              "0  0.241616  0.808948  0.116160  0.002174  0.911619  0.619328  0.070918  \\\n",
              "1  0.657466  0.498945  0.002143  0.647298  0.736762  0.407008  0.814628   \n",
              "2  0.822405  0.477338  0.506146  0.887199  0.152793  0.169326  0.992519   \n",
              "3  0.328310  0.051616  0.078154  0.256034  0.513118  0.350668  0.086135   \n",
              "4  0.868365  0.962217  0.850454  0.628217  0.216346  0.189917  0.156171   \n",
              "\n",
              "         7         8         9   ...        90        91        92        93   \n",
              "0  0.986128  0.587207  0.730846  ...  0.098748  0.941893  0.889933  0.971442  \\\n",
              "1  0.327322  0.254132  0.233837  ...  0.026187  0.129538  0.474205  0.281730   \n",
              "2  0.430401  0.573811  0.808698  ...  0.884471  0.435886  0.650721  0.162060   \n",
              "3  0.852814  0.659213  0.796039  ...  0.522248  0.885259  0.542641  0.973924   \n",
              "4  0.589994  0.544640  0.171277  ...  0.779493  0.941056  0.308128  0.724183   \n",
              "\n",
              "         94        95        96        97        98        99  \n",
              "0  0.624532  0.922665  0.646394  0.576624  0.083215  0.039208  \n",
              "1  0.664925  0.146846  0.200563  0.951024  0.084611  0.351723  \n",
              "2  0.501483  0.496822  0.529560  0.403839  0.834994  0.602561  \n",
              "3  0.508723  0.579891  0.190225  0.614529  0.270969  0.638435  \n",
              "4  0.654438  0.079345  0.112398  0.836296  0.926663  0.911328  \n",
              "\n",
              "[5 rows x 100 columns]"
            ],
            "text/html": [
              "\n",
              "  <div id=\"df-eba04c22-798d-4174-92a1-3f6c69ca5f09\">\n",
              "    <div class=\"colab-df-container\">\n",
              "      <div>\n",
              "<style scoped>\n",
              "    .dataframe tbody tr th:only-of-type {\n",
              "        vertical-align: middle;\n",
              "    }\n",
              "\n",
              "    .dataframe tbody tr th {\n",
              "        vertical-align: top;\n",
              "    }\n",
              "\n",
              "    .dataframe thead th {\n",
              "        text-align: right;\n",
              "    }\n",
              "</style>\n",
              "<table border=\"1\" class=\"dataframe\">\n",
              "  <thead>\n",
              "    <tr style=\"text-align: right;\">\n",
              "      <th></th>\n",
              "      <th>0</th>\n",
              "      <th>1</th>\n",
              "      <th>2</th>\n",
              "      <th>3</th>\n",
              "      <th>4</th>\n",
              "      <th>5</th>\n",
              "      <th>6</th>\n",
              "      <th>7</th>\n",
              "      <th>8</th>\n",
              "      <th>9</th>\n",
              "      <th>...</th>\n",
              "      <th>90</th>\n",
              "      <th>91</th>\n",
              "      <th>92</th>\n",
              "      <th>93</th>\n",
              "      <th>94</th>\n",
              "      <th>95</th>\n",
              "      <th>96</th>\n",
              "      <th>97</th>\n",
              "      <th>98</th>\n",
              "      <th>99</th>\n",
              "    </tr>\n",
              "  </thead>\n",
              "  <tbody>\n",
              "    <tr>\n",
              "      <th>0</th>\n",
              "      <td>0.241616</td>\n",
              "      <td>0.808948</td>\n",
              "      <td>0.116160</td>\n",
              "      <td>0.002174</td>\n",
              "      <td>0.911619</td>\n",
              "      <td>0.619328</td>\n",
              "      <td>0.070918</td>\n",
              "      <td>0.986128</td>\n",
              "      <td>0.587207</td>\n",
              "      <td>0.730846</td>\n",
              "      <td>...</td>\n",
              "      <td>0.098748</td>\n",
              "      <td>0.941893</td>\n",
              "      <td>0.889933</td>\n",
              "      <td>0.971442</td>\n",
              "      <td>0.624532</td>\n",
              "      <td>0.922665</td>\n",
              "      <td>0.646394</td>\n",
              "      <td>0.576624</td>\n",
              "      <td>0.083215</td>\n",
              "      <td>0.039208</td>\n",
              "    </tr>\n",
              "    <tr>\n",
              "      <th>1</th>\n",
              "      <td>0.657466</td>\n",
              "      <td>0.498945</td>\n",
              "      <td>0.002143</td>\n",
              "      <td>0.647298</td>\n",
              "      <td>0.736762</td>\n",
              "      <td>0.407008</td>\n",
              "      <td>0.814628</td>\n",
              "      <td>0.327322</td>\n",
              "      <td>0.254132</td>\n",
              "      <td>0.233837</td>\n",
              "      <td>...</td>\n",
              "      <td>0.026187</td>\n",
              "      <td>0.129538</td>\n",
              "      <td>0.474205</td>\n",
              "      <td>0.281730</td>\n",
              "      <td>0.664925</td>\n",
              "      <td>0.146846</td>\n",
              "      <td>0.200563</td>\n",
              "      <td>0.951024</td>\n",
              "      <td>0.084611</td>\n",
              "      <td>0.351723</td>\n",
              "    </tr>\n",
              "    <tr>\n",
              "      <th>2</th>\n",
              "      <td>0.822405</td>\n",
              "      <td>0.477338</td>\n",
              "      <td>0.506146</td>\n",
              "      <td>0.887199</td>\n",
              "      <td>0.152793</td>\n",
              "      <td>0.169326</td>\n",
              "      <td>0.992519</td>\n",
              "      <td>0.430401</td>\n",
              "      <td>0.573811</td>\n",
              "      <td>0.808698</td>\n",
              "      <td>...</td>\n",
              "      <td>0.884471</td>\n",
              "      <td>0.435886</td>\n",
              "      <td>0.650721</td>\n",
              "      <td>0.162060</td>\n",
              "      <td>0.501483</td>\n",
              "      <td>0.496822</td>\n",
              "      <td>0.529560</td>\n",
              "      <td>0.403839</td>\n",
              "      <td>0.834994</td>\n",
              "      <td>0.602561</td>\n",
              "    </tr>\n",
              "    <tr>\n",
              "      <th>3</th>\n",
              "      <td>0.328310</td>\n",
              "      <td>0.051616</td>\n",
              "      <td>0.078154</td>\n",
              "      <td>0.256034</td>\n",
              "      <td>0.513118</td>\n",
              "      <td>0.350668</td>\n",
              "      <td>0.086135</td>\n",
              "      <td>0.852814</td>\n",
              "      <td>0.659213</td>\n",
              "      <td>0.796039</td>\n",
              "      <td>...</td>\n",
              "      <td>0.522248</td>\n",
              "      <td>0.885259</td>\n",
              "      <td>0.542641</td>\n",
              "      <td>0.973924</td>\n",
              "      <td>0.508723</td>\n",
              "      <td>0.579891</td>\n",
              "      <td>0.190225</td>\n",
              "      <td>0.614529</td>\n",
              "      <td>0.270969</td>\n",
              "      <td>0.638435</td>\n",
              "    </tr>\n",
              "    <tr>\n",
              "      <th>4</th>\n",
              "      <td>0.868365</td>\n",
              "      <td>0.962217</td>\n",
              "      <td>0.850454</td>\n",
              "      <td>0.628217</td>\n",
              "      <td>0.216346</td>\n",
              "      <td>0.189917</td>\n",
              "      <td>0.156171</td>\n",
              "      <td>0.589994</td>\n",
              "      <td>0.544640</td>\n",
              "      <td>0.171277</td>\n",
              "      <td>...</td>\n",
              "      <td>0.779493</td>\n",
              "      <td>0.941056</td>\n",
              "      <td>0.308128</td>\n",
              "      <td>0.724183</td>\n",
              "      <td>0.654438</td>\n",
              "      <td>0.079345</td>\n",
              "      <td>0.112398</td>\n",
              "      <td>0.836296</td>\n",
              "      <td>0.926663</td>\n",
              "      <td>0.911328</td>\n",
              "    </tr>\n",
              "  </tbody>\n",
              "</table>\n",
              "<p>5 rows × 100 columns</p>\n",
              "</div>\n",
              "      <button class=\"colab-df-convert\" onclick=\"convertToInteractive('df-eba04c22-798d-4174-92a1-3f6c69ca5f09')\"\n",
              "              title=\"Convert this dataframe to an interactive table.\"\n",
              "              style=\"display:none;\">\n",
              "        \n",
              "  <svg xmlns=\"http://www.w3.org/2000/svg\" height=\"24px\"viewBox=\"0 0 24 24\"\n",
              "       width=\"24px\">\n",
              "    <path d=\"M0 0h24v24H0V0z\" fill=\"none\"/>\n",
              "    <path d=\"M18.56 5.44l.94 2.06.94-2.06 2.06-.94-2.06-.94-.94-2.06-.94 2.06-2.06.94zm-11 1L8.5 8.5l.94-2.06 2.06-.94-2.06-.94L8.5 2.5l-.94 2.06-2.06.94zm10 10l.94 2.06.94-2.06 2.06-.94-2.06-.94-.94-2.06-.94 2.06-2.06.94z\"/><path d=\"M17.41 7.96l-1.37-1.37c-.4-.4-.92-.59-1.43-.59-.52 0-1.04.2-1.43.59L10.3 9.45l-7.72 7.72c-.78.78-.78 2.05 0 2.83L4 21.41c.39.39.9.59 1.41.59.51 0 1.02-.2 1.41-.59l7.78-7.78 2.81-2.81c.8-.78.8-2.07 0-2.86zM5.41 20L4 18.59l7.72-7.72 1.47 1.35L5.41 20z\"/>\n",
              "  </svg>\n",
              "      </button>\n",
              "      \n",
              "  <style>\n",
              "    .colab-df-container {\n",
              "      display:flex;\n",
              "      flex-wrap:wrap;\n",
              "      gap: 12px;\n",
              "    }\n",
              "\n",
              "    .colab-df-convert {\n",
              "      background-color: #E8F0FE;\n",
              "      border: none;\n",
              "      border-radius: 50%;\n",
              "      cursor: pointer;\n",
              "      display: none;\n",
              "      fill: #1967D2;\n",
              "      height: 32px;\n",
              "      padding: 0 0 0 0;\n",
              "      width: 32px;\n",
              "    }\n",
              "\n",
              "    .colab-df-convert:hover {\n",
              "      background-color: #E2EBFA;\n",
              "      box-shadow: 0px 1px 2px rgba(60, 64, 67, 0.3), 0px 1px 3px 1px rgba(60, 64, 67, 0.15);\n",
              "      fill: #174EA6;\n",
              "    }\n",
              "\n",
              "    [theme=dark] .colab-df-convert {\n",
              "      background-color: #3B4455;\n",
              "      fill: #D2E3FC;\n",
              "    }\n",
              "\n",
              "    [theme=dark] .colab-df-convert:hover {\n",
              "      background-color: #434B5C;\n",
              "      box-shadow: 0px 1px 3px 1px rgba(0, 0, 0, 0.15);\n",
              "      filter: drop-shadow(0px 1px 2px rgba(0, 0, 0, 0.3));\n",
              "      fill: #FFFFFF;\n",
              "    }\n",
              "  </style>\n",
              "\n",
              "      <script>\n",
              "        const buttonEl =\n",
              "          document.querySelector('#df-eba04c22-798d-4174-92a1-3f6c69ca5f09 button.colab-df-convert');\n",
              "        buttonEl.style.display =\n",
              "          google.colab.kernel.accessAllowed ? 'block' : 'none';\n",
              "\n",
              "        async function convertToInteractive(key) {\n",
              "          const element = document.querySelector('#df-eba04c22-798d-4174-92a1-3f6c69ca5f09');\n",
              "          const dataTable =\n",
              "            await google.colab.kernel.invokeFunction('convertToInteractive',\n",
              "                                                     [key], {});\n",
              "          if (!dataTable) return;\n",
              "\n",
              "          const docLinkHtml = 'Like what you see? Visit the ' +\n",
              "            '<a target=\"_blank\" href=https://colab.research.google.com/notebooks/data_table.ipynb>data table notebook</a>'\n",
              "            + ' to learn more about interactive tables.';\n",
              "          element.innerHTML = '';\n",
              "          dataTable['output_type'] = 'display_data';\n",
              "          await google.colab.output.renderOutput(dataTable, element);\n",
              "          const docLink = document.createElement('div');\n",
              "          docLink.innerHTML = docLinkHtml;\n",
              "          element.appendChild(docLink);\n",
              "        }\n",
              "      </script>\n",
              "    </div>\n",
              "  </div>\n",
              "  "
            ]
          },
          "metadata": {},
          "execution_count": 3
        }
      ],
      "source": [
        "import numpy as np\n",
        "import pandas as pd\n",
        "import pyarrow as pa\n",
        "\n",
        "numbers = np.random.rand(1_000_000, 100)\n",
        "\n",
        "df_pa = pd.DataFrame(numbers, dtype=\"float64[pyarrow]\")\n",
        "df_pa.head()"
      ]
    },
    {
      "cell_type": "code",
      "execution_count": null,
      "id": "034ed996-c090-4e56-a8a0-8646105a6a69",
      "metadata": {
        "id": "034ed996-c090-4e56-a8a0-8646105a6a69",
        "outputId": "fd89e97d-8deb-4f4a-fe26-5d6eec0be9e3",
        "colab": {
          "base_uri": "https://localhost:8080/"
        }
      },
      "outputs": [
        {
          "output_type": "stream",
          "name": "stdout",
          "text": [
            "85.3 ms ± 2.25 ms per loop (mean ± std. dev. of 30 runs, 1 loop each)\n"
          ]
        }
      ],
      "source": [
        "%timeit -r 30 -n 1 df_pa.mean()"
      ]
    },
    {
      "cell_type": "markdown",
      "id": "82cdd2d1-f5e9-4b22-ad2f-5a2f50aa60fc",
      "metadata": {
        "id": "82cdd2d1-f5e9-4b22-ad2f-5a2f50aa60fc"
      },
      "source": [
        "### Polars"
      ]
    },
    {
      "cell_type": "code",
      "execution_count": null,
      "id": "46170772-ec8e-41c5-8986-52df0a2f736a",
      "metadata": {
        "id": "46170772-ec8e-41c5-8986-52df0a2f736a",
        "outputId": "a7707b7b-b69e-46ef-e196-10d2cca1601c",
        "colab": {
          "base_uri": "https://localhost:8080/",
          "height": 275
        }
      },
      "outputs": [
        {
          "output_type": "execute_result",
          "data": {
            "text/plain": [
              "shape: (5, 100)\n",
              "┌──────────┬──────────┬──────────┬──────────┬───┬──────────┬──────────┬──────────┬──────────┐\n",
              "│ 0        ┆ 1        ┆ 2        ┆ 3        ┆ … ┆ 96       ┆ 97       ┆ 98       ┆ 99       │\n",
              "│ ---      ┆ ---      ┆ ---      ┆ ---      ┆   ┆ ---      ┆ ---      ┆ ---      ┆ ---      │\n",
              "│ f64      ┆ f64      ┆ f64      ┆ f64      ┆   ┆ f64      ┆ f64      ┆ f64      ┆ f64      │\n",
              "╞══════════╪══════════╪══════════╪══════════╪═══╪══════════╪══════════╪══════════╪══════════╡\n",
              "│ 0.241616 ┆ 0.808948 ┆ 0.11616  ┆ 0.002174 ┆ … ┆ 0.646394 ┆ 0.576624 ┆ 0.083215 ┆ 0.039208 │\n",
              "│ 0.657466 ┆ 0.498945 ┆ 0.002143 ┆ 0.647298 ┆ … ┆ 0.200563 ┆ 0.951024 ┆ 0.084611 ┆ 0.351723 │\n",
              "│ 0.822405 ┆ 0.477338 ┆ 0.506146 ┆ 0.887199 ┆ … ┆ 0.52956  ┆ 0.403839 ┆ 0.834994 ┆ 0.602561 │\n",
              "│ 0.32831  ┆ 0.051616 ┆ 0.078154 ┆ 0.256034 ┆ … ┆ 0.190225 ┆ 0.614529 ┆ 0.270969 ┆ 0.638435 │\n",
              "│ 0.868365 ┆ 0.962217 ┆ 0.850454 ┆ 0.628217 ┆ … ┆ 0.112398 ┆ 0.836296 ┆ 0.926663 ┆ 0.911328 │\n",
              "└──────────┴──────────┴──────────┴──────────┴───┴──────────┴──────────┴──────────┴──────────┘"
            ],
            "text/html": [
              "<div><style>\n",
              ".dataframe > thead > tr > th,\n",
              ".dataframe > tbody > tr > td {\n",
              "  text-align: right;\n",
              "}\n",
              "</style>\n",
              "<small>shape: (5, 100)</small><table border=\"1\" class=\"dataframe\"><thead><tr><th>0</th><th>1</th><th>2</th><th>3</th><th>4</th><th>5</th><th>6</th><th>7</th><th>8</th><th>9</th><th>10</th><th>11</th><th>12</th><th>13</th><th>14</th><th>15</th><th>16</th><th>17</th><th>18</th><th>19</th><th>20</th><th>21</th><th>22</th><th>23</th><th>24</th><th>25</th><th>26</th><th>27</th><th>28</th><th>29</th><th>30</th><th>31</th><th>32</th><th>33</th><th>34</th><th>35</th><th>36</th><th>&hellip;</th><th>63</th><th>64</th><th>65</th><th>66</th><th>67</th><th>68</th><th>69</th><th>70</th><th>71</th><th>72</th><th>73</th><th>74</th><th>75</th><th>76</th><th>77</th><th>78</th><th>79</th><th>80</th><th>81</th><th>82</th><th>83</th><th>84</th><th>85</th><th>86</th><th>87</th><th>88</th><th>89</th><th>90</th><th>91</th><th>92</th><th>93</th><th>94</th><th>95</th><th>96</th><th>97</th><th>98</th><th>99</th></tr><tr><td>f64</td><td>f64</td><td>f64</td><td>f64</td><td>f64</td><td>f64</td><td>f64</td><td>f64</td><td>f64</td><td>f64</td><td>f64</td><td>f64</td><td>f64</td><td>f64</td><td>f64</td><td>f64</td><td>f64</td><td>f64</td><td>f64</td><td>f64</td><td>f64</td><td>f64</td><td>f64</td><td>f64</td><td>f64</td><td>f64</td><td>f64</td><td>f64</td><td>f64</td><td>f64</td><td>f64</td><td>f64</td><td>f64</td><td>f64</td><td>f64</td><td>f64</td><td>f64</td><td>&hellip;</td><td>f64</td><td>f64</td><td>f64</td><td>f64</td><td>f64</td><td>f64</td><td>f64</td><td>f64</td><td>f64</td><td>f64</td><td>f64</td><td>f64</td><td>f64</td><td>f64</td><td>f64</td><td>f64</td><td>f64</td><td>f64</td><td>f64</td><td>f64</td><td>f64</td><td>f64</td><td>f64</td><td>f64</td><td>f64</td><td>f64</td><td>f64</td><td>f64</td><td>f64</td><td>f64</td><td>f64</td><td>f64</td><td>f64</td><td>f64</td><td>f64</td><td>f64</td><td>f64</td></tr></thead><tbody><tr><td>0.241616</td><td>0.808948</td><td>0.11616</td><td>0.002174</td><td>0.911619</td><td>0.619328</td><td>0.070918</td><td>0.986128</td><td>0.587207</td><td>0.730846</td><td>0.788434</td><td>0.536656</td><td>0.306109</td><td>0.04807</td><td>0.975695</td><td>0.275954</td><td>0.225914</td><td>0.571563</td><td>0.283103</td><td>0.60088</td><td>0.365615</td><td>0.753283</td><td>0.845423</td><td>0.50667</td><td>0.745178</td><td>0.927252</td><td>0.289998</td><td>0.384526</td><td>0.249411</td><td>0.41246</td><td>0.4376</td><td>0.266807</td><td>0.306565</td><td>0.49317</td><td>0.367534</td><td>0.528519</td><td>0.893914</td><td>&hellip;</td><td>0.150757</td><td>0.300952</td><td>0.198711</td><td>0.270347</td><td>0.021321</td><td>0.030137</td><td>0.465267</td><td>0.886679</td><td>0.727458</td><td>0.584735</td><td>0.269846</td><td>0.965259</td><td>0.536708</td><td>0.399928</td><td>0.219418</td><td>0.067559</td><td>0.401782</td><td>0.150718</td><td>0.591197</td><td>0.749907</td><td>0.422959</td><td>0.518093</td><td>0.4933</td><td>0.495211</td><td>0.845414</td><td>0.313604</td><td>0.816689</td><td>0.098748</td><td>0.941893</td><td>0.889933</td><td>0.971442</td><td>0.624532</td><td>0.922665</td><td>0.646394</td><td>0.576624</td><td>0.083215</td><td>0.039208</td></tr><tr><td>0.657466</td><td>0.498945</td><td>0.002143</td><td>0.647298</td><td>0.736762</td><td>0.407008</td><td>0.814628</td><td>0.327322</td><td>0.254132</td><td>0.233837</td><td>0.71169</td><td>0.866979</td><td>0.729092</td><td>0.992759</td><td>0.487578</td><td>0.63915</td><td>0.875374</td><td>0.553771</td><td>0.431332</td><td>0.218788</td><td>0.017388</td><td>0.760942</td><td>0.256679</td><td>0.298094</td><td>0.232714</td><td>0.223514</td><td>0.109738</td><td>0.793178</td><td>0.29377</td><td>0.856319</td><td>0.495485</td><td>0.786921</td><td>0.31753</td><td>0.674493</td><td>0.81652</td><td>0.35378</td><td>0.861295</td><td>&hellip;</td><td>0.939722</td><td>0.169448</td><td>0.744247</td><td>0.718528</td><td>0.036561</td><td>0.084617</td><td>0.310137</td><td>0.60613</td><td>0.505939</td><td>0.842559</td><td>0.229781</td><td>0.787833</td><td>0.592396</td><td>0.366557</td><td>0.800772</td><td>0.848887</td><td>0.570248</td><td>0.835874</td><td>0.719043</td><td>0.732383</td><td>0.862712</td><td>0.026107</td><td>0.436317</td><td>0.009502</td><td>0.522708</td><td>0.590083</td><td>0.776013</td><td>0.026187</td><td>0.129538</td><td>0.474205</td><td>0.28173</td><td>0.664925</td><td>0.146846</td><td>0.200563</td><td>0.951024</td><td>0.084611</td><td>0.351723</td></tr><tr><td>0.822405</td><td>0.477338</td><td>0.506146</td><td>0.887199</td><td>0.152793</td><td>0.169326</td><td>0.992519</td><td>0.430401</td><td>0.573811</td><td>0.808698</td><td>0.859094</td><td>0.995097</td><td>0.354211</td><td>0.728971</td><td>0.240631</td><td>0.218073</td><td>0.136588</td><td>0.312312</td><td>0.425348</td><td>0.592123</td><td>0.772941</td><td>0.029439</td><td>0.848917</td><td>0.802407</td><td>0.659135</td><td>0.53762</td><td>0.432227</td><td>0.27553</td><td>0.54139</td><td>0.688152</td><td>0.441581</td><td>0.610001</td><td>0.216307</td><td>0.757081</td><td>0.921794</td><td>0.960283</td><td>0.37259</td><td>&hellip;</td><td>0.875622</td><td>0.553789</td><td>0.146184</td><td>0.727222</td><td>0.77069</td><td>0.797471</td><td>0.536688</td><td>0.611993</td><td>0.776889</td><td>0.864584</td><td>0.400558</td><td>0.555014</td><td>0.574031</td><td>0.332525</td><td>0.95636</td><td>0.117139</td><td>0.996192</td><td>0.233242</td><td>0.733207</td><td>0.547013</td><td>0.403844</td><td>0.8822</td><td>0.646881</td><td>0.052238</td><td>0.947807</td><td>0.673992</td><td>0.741029</td><td>0.884471</td><td>0.435886</td><td>0.650721</td><td>0.16206</td><td>0.501483</td><td>0.496822</td><td>0.52956</td><td>0.403839</td><td>0.834994</td><td>0.602561</td></tr><tr><td>0.32831</td><td>0.051616</td><td>0.078154</td><td>0.256034</td><td>0.513118</td><td>0.350668</td><td>0.086135</td><td>0.852814</td><td>0.659213</td><td>0.796039</td><td>0.245047</td><td>0.054878</td><td>0.829259</td><td>0.203453</td><td>0.45852</td><td>0.45646</td><td>0.185949</td><td>0.35433</td><td>0.677424</td><td>0.845431</td><td>0.107786</td><td>0.980788</td><td>0.003507</td><td>0.763606</td><td>0.075229</td><td>0.498603</td><td>0.407164</td><td>0.775523</td><td>0.739129</td><td>0.953507</td><td>0.86283</td><td>0.024422</td><td>0.539515</td><td>0.540369</td><td>0.695776</td><td>0.433489</td><td>0.670352</td><td>&hellip;</td><td>0.174373</td><td>0.365565</td><td>0.008152</td><td>0.854586</td><td>0.474624</td><td>0.064921</td><td>0.62902</td><td>0.422086</td><td>0.356071</td><td>0.993126</td><td>0.937182</td><td>0.491332</td><td>0.485841</td><td>0.634025</td><td>0.890435</td><td>0.405838</td><td>0.410942</td><td>0.23058</td><td>0.555666</td><td>0.761738</td><td>0.451499</td><td>0.041023</td><td>0.038631</td><td>0.302781</td><td>0.766637</td><td>0.737324</td><td>0.450001</td><td>0.522248</td><td>0.885259</td><td>0.542641</td><td>0.973924</td><td>0.508723</td><td>0.579891</td><td>0.190225</td><td>0.614529</td><td>0.270969</td><td>0.638435</td></tr><tr><td>0.868365</td><td>0.962217</td><td>0.850454</td><td>0.628217</td><td>0.216346</td><td>0.189917</td><td>0.156171</td><td>0.589994</td><td>0.54464</td><td>0.171277</td><td>0.433551</td><td>0.765087</td><td>0.874561</td><td>0.862202</td><td>0.876419</td><td>0.268764</td><td>0.306969</td><td>0.153002</td><td>0.820836</td><td>0.38758</td><td>0.167587</td><td>0.01759</td><td>0.527218</td><td>0.651315</td><td>0.518967</td><td>0.413039</td><td>0.105455</td><td>0.494363</td><td>0.869465</td><td>0.13085</td><td>0.463364</td><td>0.465343</td><td>0.245981</td><td>0.749397</td><td>0.847013</td><td>0.261532</td><td>0.269479</td><td>&hellip;</td><td>0.40738</td><td>0.634098</td><td>0.444325</td><td>0.511505</td><td>0.025597</td><td>0.386441</td><td>0.469546</td><td>0.742668</td><td>0.745193</td><td>0.35161</td><td>0.584362</td><td>0.796959</td><td>0.0886</td><td>0.489339</td><td>0.859899</td><td>0.829588</td><td>0.562389</td><td>0.17175</td><td>0.863928</td><td>0.879178</td><td>0.845808</td><td>0.345683</td><td>0.241525</td><td>0.530934</td><td>0.609681</td><td>0.697038</td><td>0.804286</td><td>0.779493</td><td>0.941056</td><td>0.308128</td><td>0.724183</td><td>0.654438</td><td>0.079345</td><td>0.112398</td><td>0.836296</td><td>0.926663</td><td>0.911328</td></tr></tbody></table></div>"
            ]
          },
          "metadata": {},
          "execution_count": 5
        }
      ],
      "source": [
        "import polars as pl\n",
        "\n",
        "df_pl = pl.DataFrame(df_pa)\n",
        "df_pl.head()"
      ]
    },
    {
      "cell_type": "code",
      "execution_count": null,
      "id": "67b37588-7a54-454a-ab8b-8d32c61f8e27",
      "metadata": {
        "id": "67b37588-7a54-454a-ab8b-8d32c61f8e27",
        "outputId": "41b124a7-633d-4c47-d9e7-48632cdb7af0",
        "colab": {
          "base_uri": "https://localhost:8080/"
        }
      },
      "outputs": [
        {
          "output_type": "stream",
          "name": "stdout",
          "text": [
            "54.4 ms ± 3.98 ms per loop (mean ± std. dev. of 30 runs, 1 loop each)\n"
          ]
        }
      ],
      "source": [
        "%timeit -r 30 -n 1 df_pl.mean()"
      ]
    },
    {
      "cell_type": "markdown",
      "id": "2897ae55-9b46-4fff-a12c-919b004ffb77",
      "metadata": {
        "id": "2897ae55-9b46-4fff-a12c-919b004ffb77"
      },
      "source": [
        "### Pandas & NumPy"
      ]
    },
    {
      "cell_type": "code",
      "execution_count": null,
      "id": "b51e8a71-c30c-4612-be8f-225c76ddb0a2",
      "metadata": {
        "id": "b51e8a71-c30c-4612-be8f-225c76ddb0a2",
        "outputId": "2f6d63d7-7bfc-4ae9-9e5b-ed97bd78839a",
        "colab": {
          "base_uri": "https://localhost:8080/",
          "height": 300
        }
      },
      "outputs": [
        {
          "output_type": "execute_result",
          "data": {
            "text/plain": [
              "      0      1      2      3      4      5      6      7      8      9   ...   \n",
              "0  208.0  243.0  353.0   95.0   21.0   63.0   21.0  909.0  679.0  554.0  ...  \\\n",
              "1  651.0  808.0   44.0   24.0  476.0  153.0  300.0  999.0   76.0  678.0  ...   \n",
              "2  350.0  952.0   50.0  557.0   25.0  242.0  722.0  733.0  563.0  723.0  ...   \n",
              "3  995.0  873.0  624.0  355.0  337.0   42.0  229.0  664.0  224.0   90.0  ...   \n",
              "4  504.0  984.0  966.0  428.0  775.0    1.0  193.0  203.0  404.0   30.0  ...   \n",
              "\n",
              "      90     91     92     93     94     95     96     97     98     99  \n",
              "0  855.0   43.0  486.0   96.0  643.0  414.0  896.0   31.0  226.0  408.0  \n",
              "1  284.0   11.0  301.0  320.0  267.0  409.0  265.0  296.0  614.0  632.0  \n",
              "2  819.0   51.0  517.0  355.0  212.0   10.0  238.0  573.0  256.0  691.0  \n",
              "3  583.0  609.0  275.0  350.0  990.0   69.0  660.0  121.0  118.0  411.0  \n",
              "4  127.0  437.0  108.0  822.0  795.0  547.0  986.0  389.0  214.0  505.0  \n",
              "\n",
              "[5 rows x 100 columns]"
            ],
            "text/html": [
              "\n",
              "  <div id=\"df-be0742e9-09c1-4b6f-a12a-7d32bc31a871\">\n",
              "    <div class=\"colab-df-container\">\n",
              "      <div>\n",
              "<style scoped>\n",
              "    .dataframe tbody tr th:only-of-type {\n",
              "        vertical-align: middle;\n",
              "    }\n",
              "\n",
              "    .dataframe tbody tr th {\n",
              "        vertical-align: top;\n",
              "    }\n",
              "\n",
              "    .dataframe thead th {\n",
              "        text-align: right;\n",
              "    }\n",
              "</style>\n",
              "<table border=\"1\" class=\"dataframe\">\n",
              "  <thead>\n",
              "    <tr style=\"text-align: right;\">\n",
              "      <th></th>\n",
              "      <th>0</th>\n",
              "      <th>1</th>\n",
              "      <th>2</th>\n",
              "      <th>3</th>\n",
              "      <th>4</th>\n",
              "      <th>5</th>\n",
              "      <th>6</th>\n",
              "      <th>7</th>\n",
              "      <th>8</th>\n",
              "      <th>9</th>\n",
              "      <th>...</th>\n",
              "      <th>90</th>\n",
              "      <th>91</th>\n",
              "      <th>92</th>\n",
              "      <th>93</th>\n",
              "      <th>94</th>\n",
              "      <th>95</th>\n",
              "      <th>96</th>\n",
              "      <th>97</th>\n",
              "      <th>98</th>\n",
              "      <th>99</th>\n",
              "    </tr>\n",
              "  </thead>\n",
              "  <tbody>\n",
              "    <tr>\n",
              "      <th>0</th>\n",
              "      <td>208.0</td>\n",
              "      <td>243.0</td>\n",
              "      <td>353.0</td>\n",
              "      <td>95.0</td>\n",
              "      <td>21.0</td>\n",
              "      <td>63.0</td>\n",
              "      <td>21.0</td>\n",
              "      <td>909.0</td>\n",
              "      <td>679.0</td>\n",
              "      <td>554.0</td>\n",
              "      <td>...</td>\n",
              "      <td>855.0</td>\n",
              "      <td>43.0</td>\n",
              "      <td>486.0</td>\n",
              "      <td>96.0</td>\n",
              "      <td>643.0</td>\n",
              "      <td>414.0</td>\n",
              "      <td>896.0</td>\n",
              "      <td>31.0</td>\n",
              "      <td>226.0</td>\n",
              "      <td>408.0</td>\n",
              "    </tr>\n",
              "    <tr>\n",
              "      <th>1</th>\n",
              "      <td>651.0</td>\n",
              "      <td>808.0</td>\n",
              "      <td>44.0</td>\n",
              "      <td>24.0</td>\n",
              "      <td>476.0</td>\n",
              "      <td>153.0</td>\n",
              "      <td>300.0</td>\n",
              "      <td>999.0</td>\n",
              "      <td>76.0</td>\n",
              "      <td>678.0</td>\n",
              "      <td>...</td>\n",
              "      <td>284.0</td>\n",
              "      <td>11.0</td>\n",
              "      <td>301.0</td>\n",
              "      <td>320.0</td>\n",
              "      <td>267.0</td>\n",
              "      <td>409.0</td>\n",
              "      <td>265.0</td>\n",
              "      <td>296.0</td>\n",
              "      <td>614.0</td>\n",
              "      <td>632.0</td>\n",
              "    </tr>\n",
              "    <tr>\n",
              "      <th>2</th>\n",
              "      <td>350.0</td>\n",
              "      <td>952.0</td>\n",
              "      <td>50.0</td>\n",
              "      <td>557.0</td>\n",
              "      <td>25.0</td>\n",
              "      <td>242.0</td>\n",
              "      <td>722.0</td>\n",
              "      <td>733.0</td>\n",
              "      <td>563.0</td>\n",
              "      <td>723.0</td>\n",
              "      <td>...</td>\n",
              "      <td>819.0</td>\n",
              "      <td>51.0</td>\n",
              "      <td>517.0</td>\n",
              "      <td>355.0</td>\n",
              "      <td>212.0</td>\n",
              "      <td>10.0</td>\n",
              "      <td>238.0</td>\n",
              "      <td>573.0</td>\n",
              "      <td>256.0</td>\n",
              "      <td>691.0</td>\n",
              "    </tr>\n",
              "    <tr>\n",
              "      <th>3</th>\n",
              "      <td>995.0</td>\n",
              "      <td>873.0</td>\n",
              "      <td>624.0</td>\n",
              "      <td>355.0</td>\n",
              "      <td>337.0</td>\n",
              "      <td>42.0</td>\n",
              "      <td>229.0</td>\n",
              "      <td>664.0</td>\n",
              "      <td>224.0</td>\n",
              "      <td>90.0</td>\n",
              "      <td>...</td>\n",
              "      <td>583.0</td>\n",
              "      <td>609.0</td>\n",
              "      <td>275.0</td>\n",
              "      <td>350.0</td>\n",
              "      <td>990.0</td>\n",
              "      <td>69.0</td>\n",
              "      <td>660.0</td>\n",
              "      <td>121.0</td>\n",
              "      <td>118.0</td>\n",
              "      <td>411.0</td>\n",
              "    </tr>\n",
              "    <tr>\n",
              "      <th>4</th>\n",
              "      <td>504.0</td>\n",
              "      <td>984.0</td>\n",
              "      <td>966.0</td>\n",
              "      <td>428.0</td>\n",
              "      <td>775.0</td>\n",
              "      <td>1.0</td>\n",
              "      <td>193.0</td>\n",
              "      <td>203.0</td>\n",
              "      <td>404.0</td>\n",
              "      <td>30.0</td>\n",
              "      <td>...</td>\n",
              "      <td>127.0</td>\n",
              "      <td>437.0</td>\n",
              "      <td>108.0</td>\n",
              "      <td>822.0</td>\n",
              "      <td>795.0</td>\n",
              "      <td>547.0</td>\n",
              "      <td>986.0</td>\n",
              "      <td>389.0</td>\n",
              "      <td>214.0</td>\n",
              "      <td>505.0</td>\n",
              "    </tr>\n",
              "  </tbody>\n",
              "</table>\n",
              "<p>5 rows × 100 columns</p>\n",
              "</div>\n",
              "      <button class=\"colab-df-convert\" onclick=\"convertToInteractive('df-be0742e9-09c1-4b6f-a12a-7d32bc31a871')\"\n",
              "              title=\"Convert this dataframe to an interactive table.\"\n",
              "              style=\"display:none;\">\n",
              "        \n",
              "  <svg xmlns=\"http://www.w3.org/2000/svg\" height=\"24px\"viewBox=\"0 0 24 24\"\n",
              "       width=\"24px\">\n",
              "    <path d=\"M0 0h24v24H0V0z\" fill=\"none\"/>\n",
              "    <path d=\"M18.56 5.44l.94 2.06.94-2.06 2.06-.94-2.06-.94-.94-2.06-.94 2.06-2.06.94zm-11 1L8.5 8.5l.94-2.06 2.06-.94-2.06-.94L8.5 2.5l-.94 2.06-2.06.94zm10 10l.94 2.06.94-2.06 2.06-.94-2.06-.94-.94-2.06-.94 2.06-2.06.94z\"/><path d=\"M17.41 7.96l-1.37-1.37c-.4-.4-.92-.59-1.43-.59-.52 0-1.04.2-1.43.59L10.3 9.45l-7.72 7.72c-.78.78-.78 2.05 0 2.83L4 21.41c.39.39.9.59 1.41.59.51 0 1.02-.2 1.41-.59l7.78-7.78 2.81-2.81c.8-.78.8-2.07 0-2.86zM5.41 20L4 18.59l7.72-7.72 1.47 1.35L5.41 20z\"/>\n",
              "  </svg>\n",
              "      </button>\n",
              "      \n",
              "  <style>\n",
              "    .colab-df-container {\n",
              "      display:flex;\n",
              "      flex-wrap:wrap;\n",
              "      gap: 12px;\n",
              "    }\n",
              "\n",
              "    .colab-df-convert {\n",
              "      background-color: #E8F0FE;\n",
              "      border: none;\n",
              "      border-radius: 50%;\n",
              "      cursor: pointer;\n",
              "      display: none;\n",
              "      fill: #1967D2;\n",
              "      height: 32px;\n",
              "      padding: 0 0 0 0;\n",
              "      width: 32px;\n",
              "    }\n",
              "\n",
              "    .colab-df-convert:hover {\n",
              "      background-color: #E2EBFA;\n",
              "      box-shadow: 0px 1px 2px rgba(60, 64, 67, 0.3), 0px 1px 3px 1px rgba(60, 64, 67, 0.15);\n",
              "      fill: #174EA6;\n",
              "    }\n",
              "\n",
              "    [theme=dark] .colab-df-convert {\n",
              "      background-color: #3B4455;\n",
              "      fill: #D2E3FC;\n",
              "    }\n",
              "\n",
              "    [theme=dark] .colab-df-convert:hover {\n",
              "      background-color: #434B5C;\n",
              "      box-shadow: 0px 1px 3px 1px rgba(0, 0, 0, 0.15);\n",
              "      filter: drop-shadow(0px 1px 2px rgba(0, 0, 0, 0.3));\n",
              "      fill: #FFFFFF;\n",
              "    }\n",
              "  </style>\n",
              "\n",
              "      <script>\n",
              "        const buttonEl =\n",
              "          document.querySelector('#df-be0742e9-09c1-4b6f-a12a-7d32bc31a871 button.colab-df-convert');\n",
              "        buttonEl.style.display =\n",
              "          google.colab.kernel.accessAllowed ? 'block' : 'none';\n",
              "\n",
              "        async function convertToInteractive(key) {\n",
              "          const element = document.querySelector('#df-be0742e9-09c1-4b6f-a12a-7d32bc31a871');\n",
              "          const dataTable =\n",
              "            await google.colab.kernel.invokeFunction('convertToInteractive',\n",
              "                                                     [key], {});\n",
              "          if (!dataTable) return;\n",
              "\n",
              "          const docLinkHtml = 'Like what you see? Visit the ' +\n",
              "            '<a target=\"_blank\" href=https://colab.research.google.com/notebooks/data_table.ipynb>data table notebook</a>'\n",
              "            + ' to learn more about interactive tables.';\n",
              "          element.innerHTML = '';\n",
              "          dataTable['output_type'] = 'display_data';\n",
              "          await google.colab.output.renderOutput(dataTable, element);\n",
              "          const docLink = document.createElement('div');\n",
              "          docLink.innerHTML = docLinkHtml;\n",
              "          element.appendChild(docLink);\n",
              "        }\n",
              "      </script>\n",
              "    </div>\n",
              "  </div>\n",
              "  "
            ]
          },
          "metadata": {},
          "execution_count": 40
        }
      ],
      "source": [
        "df = pd.DataFrame(numbers, dtype=\"float64\")\n",
        "df.head()"
      ]
    },
    {
      "cell_type": "code",
      "execution_count": null,
      "id": "6f796d10-983c-400e-95d2-caa122601ae8",
      "metadata": {
        "id": "6f796d10-983c-400e-95d2-caa122601ae8",
        "outputId": "932a7a50-04a4-4f25-9d52-3bb73fdf5ab1",
        "colab": {
          "base_uri": "https://localhost:8080/"
        }
      },
      "outputs": [
        {
          "output_type": "stream",
          "name": "stdout",
          "text": [
            "185 ms ± 5.9 ms per loop (mean ± std. dev. of 30 runs, 1 loop each)\n"
          ]
        }
      ],
      "source": [
        "%timeit -r 30 -n 1 df.mean()"
      ]
    },
    {
      "cell_type": "code",
      "execution_count": null,
      "id": "ee2ad294-270a-4b7d-919a-4fa6d0c709af",
      "metadata": {
        "id": "ee2ad294-270a-4b7d-919a-4fa6d0c709af",
        "outputId": "1ce19400-0839-4262-e503-2cbc943eca3b",
        "colab": {
          "base_uri": "https://localhost:8080/"
        }
      },
      "outputs": [
        {
          "output_type": "stream",
          "name": "stdout",
          "text": [
            "66.5 ms ± 1.6 ms per loop (mean ± std. dev. of 30 runs, 1 loop each)\n"
          ]
        }
      ],
      "source": [
        "%timeit -r 30 -n 1 numbers.mean()"
      ]
    },
    {
      "cell_type": "code",
      "source": [
        "import timeit\n",
        "import pandas as pd\n",
        "import numpy as np\n",
        "\n",
        "# Define the code you want to time as a function\n",
        "def code_to_time():\n",
        "    df.mean()\n",
        "\n",
        "num_iterations = 1\n",
        "num_repeat = 30\n",
        "\n",
        "execution_times = [\n",
        "    timeit.timeit(code_to_time, globals=globals(), number=num_iterations)\n",
        "    for _ in range(num_repeat)\n",
        "]\n",
        "\n",
        "# Calculate the average execution time\n",
        "average_time = np.mean(execution_times) / num_iterations\n",
        "std_dev_time = np.std(execution_times, ddof=1) / num_iterations\n",
        "\n",
        "print(f\"Average execution time: {average_time:.10f} seconds\")\n",
        "print(f\"Standard deviation of execution time: {std_dev_time:.10f} seconds\")"
      ],
      "metadata": {
        "colab": {
          "base_uri": "https://localhost:8080/"
        },
        "id": "kC6Uz9wI0sUO",
        "outputId": "a6365753-5d12-41f0-e486-481f0a0b1279"
      },
      "id": "kC6Uz9wI0sUO",
      "execution_count": null,
      "outputs": [
        {
          "output_type": "stream",
          "name": "stdout",
          "text": [
            "Average execution time: 0.1907728170 seconds\n",
            "Standard deviation of execution time: 0.0159727459 seconds\n"
          ]
        }
      ]
    },
    {
      "cell_type": "markdown",
      "id": "9a4ded21-d5aa-4c40-9a4a-5906a9e20839",
      "metadata": {
        "id": "9a4ded21-d5aa-4c40-9a4a-5906a9e20839"
      },
      "source": [
        "# 2) Int"
      ]
    },
    {
      "cell_type": "markdown",
      "id": "e3cf4b03-12f1-4175-8740-6a0bc7e88e9e",
      "metadata": {
        "id": "e3cf4b03-12f1-4175-8740-6a0bc7e88e9e"
      },
      "source": [
        "### PyArrow"
      ]
    },
    {
      "cell_type": "code",
      "execution_count": null,
      "id": "8650b679-7b52-4d50-b409-eef04fe4c013",
      "metadata": {
        "id": "8650b679-7b52-4d50-b409-eef04fe4c013",
        "outputId": "7f6c984e-8492-4943-e71b-3ae2bcb3287c",
        "colab": {
          "base_uri": "https://localhost:8080/",
          "height": 236
        }
      },
      "outputs": [
        {
          "output_type": "execute_result",
          "data": {
            "text/plain": [
              "    0    1    2    3    4    5    6    7    8    9   ...   90   91   92   93   \n",
              "0  208  243  353   95   21   63   21  909  679  554  ...  855   43  486   96  \\\n",
              "1  651  808   44   24  476  153  300  999   76  678  ...  284   11  301  320   \n",
              "2  350  952   50  557   25  242  722  733  563  723  ...  819   51  517  355   \n",
              "3  995  873  624  355  337   42  229  664  224   90  ...  583  609  275  350   \n",
              "4  504  984  966  428  775    1  193  203  404   30  ...  127  437  108  822   \n",
              "\n",
              "    94   95   96   97   98   99  \n",
              "0  643  414  896   31  226  408  \n",
              "1  267  409  265  296  614  632  \n",
              "2  212   10  238  573  256  691  \n",
              "3  990   69  660  121  118  411  \n",
              "4  795  547  986  389  214  505  \n",
              "\n",
              "[5 rows x 100 columns]"
            ],
            "text/html": [
              "\n",
              "  <div id=\"df-6cf82d80-a020-4937-bfe5-8d556442696f\">\n",
              "    <div class=\"colab-df-container\">\n",
              "      <div>\n",
              "<style scoped>\n",
              "    .dataframe tbody tr th:only-of-type {\n",
              "        vertical-align: middle;\n",
              "    }\n",
              "\n",
              "    .dataframe tbody tr th {\n",
              "        vertical-align: top;\n",
              "    }\n",
              "\n",
              "    .dataframe thead th {\n",
              "        text-align: right;\n",
              "    }\n",
              "</style>\n",
              "<table border=\"1\" class=\"dataframe\">\n",
              "  <thead>\n",
              "    <tr style=\"text-align: right;\">\n",
              "      <th></th>\n",
              "      <th>0</th>\n",
              "      <th>1</th>\n",
              "      <th>2</th>\n",
              "      <th>3</th>\n",
              "      <th>4</th>\n",
              "      <th>5</th>\n",
              "      <th>6</th>\n",
              "      <th>7</th>\n",
              "      <th>8</th>\n",
              "      <th>9</th>\n",
              "      <th>...</th>\n",
              "      <th>90</th>\n",
              "      <th>91</th>\n",
              "      <th>92</th>\n",
              "      <th>93</th>\n",
              "      <th>94</th>\n",
              "      <th>95</th>\n",
              "      <th>96</th>\n",
              "      <th>97</th>\n",
              "      <th>98</th>\n",
              "      <th>99</th>\n",
              "    </tr>\n",
              "  </thead>\n",
              "  <tbody>\n",
              "    <tr>\n",
              "      <th>0</th>\n",
              "      <td>208</td>\n",
              "      <td>243</td>\n",
              "      <td>353</td>\n",
              "      <td>95</td>\n",
              "      <td>21</td>\n",
              "      <td>63</td>\n",
              "      <td>21</td>\n",
              "      <td>909</td>\n",
              "      <td>679</td>\n",
              "      <td>554</td>\n",
              "      <td>...</td>\n",
              "      <td>855</td>\n",
              "      <td>43</td>\n",
              "      <td>486</td>\n",
              "      <td>96</td>\n",
              "      <td>643</td>\n",
              "      <td>414</td>\n",
              "      <td>896</td>\n",
              "      <td>31</td>\n",
              "      <td>226</td>\n",
              "      <td>408</td>\n",
              "    </tr>\n",
              "    <tr>\n",
              "      <th>1</th>\n",
              "      <td>651</td>\n",
              "      <td>808</td>\n",
              "      <td>44</td>\n",
              "      <td>24</td>\n",
              "      <td>476</td>\n",
              "      <td>153</td>\n",
              "      <td>300</td>\n",
              "      <td>999</td>\n",
              "      <td>76</td>\n",
              "      <td>678</td>\n",
              "      <td>...</td>\n",
              "      <td>284</td>\n",
              "      <td>11</td>\n",
              "      <td>301</td>\n",
              "      <td>320</td>\n",
              "      <td>267</td>\n",
              "      <td>409</td>\n",
              "      <td>265</td>\n",
              "      <td>296</td>\n",
              "      <td>614</td>\n",
              "      <td>632</td>\n",
              "    </tr>\n",
              "    <tr>\n",
              "      <th>2</th>\n",
              "      <td>350</td>\n",
              "      <td>952</td>\n",
              "      <td>50</td>\n",
              "      <td>557</td>\n",
              "      <td>25</td>\n",
              "      <td>242</td>\n",
              "      <td>722</td>\n",
              "      <td>733</td>\n",
              "      <td>563</td>\n",
              "      <td>723</td>\n",
              "      <td>...</td>\n",
              "      <td>819</td>\n",
              "      <td>51</td>\n",
              "      <td>517</td>\n",
              "      <td>355</td>\n",
              "      <td>212</td>\n",
              "      <td>10</td>\n",
              "      <td>238</td>\n",
              "      <td>573</td>\n",
              "      <td>256</td>\n",
              "      <td>691</td>\n",
              "    </tr>\n",
              "    <tr>\n",
              "      <th>3</th>\n",
              "      <td>995</td>\n",
              "      <td>873</td>\n",
              "      <td>624</td>\n",
              "      <td>355</td>\n",
              "      <td>337</td>\n",
              "      <td>42</td>\n",
              "      <td>229</td>\n",
              "      <td>664</td>\n",
              "      <td>224</td>\n",
              "      <td>90</td>\n",
              "      <td>...</td>\n",
              "      <td>583</td>\n",
              "      <td>609</td>\n",
              "      <td>275</td>\n",
              "      <td>350</td>\n",
              "      <td>990</td>\n",
              "      <td>69</td>\n",
              "      <td>660</td>\n",
              "      <td>121</td>\n",
              "      <td>118</td>\n",
              "      <td>411</td>\n",
              "    </tr>\n",
              "    <tr>\n",
              "      <th>4</th>\n",
              "      <td>504</td>\n",
              "      <td>984</td>\n",
              "      <td>966</td>\n",
              "      <td>428</td>\n",
              "      <td>775</td>\n",
              "      <td>1</td>\n",
              "      <td>193</td>\n",
              "      <td>203</td>\n",
              "      <td>404</td>\n",
              "      <td>30</td>\n",
              "      <td>...</td>\n",
              "      <td>127</td>\n",
              "      <td>437</td>\n",
              "      <td>108</td>\n",
              "      <td>822</td>\n",
              "      <td>795</td>\n",
              "      <td>547</td>\n",
              "      <td>986</td>\n",
              "      <td>389</td>\n",
              "      <td>214</td>\n",
              "      <td>505</td>\n",
              "    </tr>\n",
              "  </tbody>\n",
              "</table>\n",
              "<p>5 rows × 100 columns</p>\n",
              "</div>\n",
              "      <button class=\"colab-df-convert\" onclick=\"convertToInteractive('df-6cf82d80-a020-4937-bfe5-8d556442696f')\"\n",
              "              title=\"Convert this dataframe to an interactive table.\"\n",
              "              style=\"display:none;\">\n",
              "        \n",
              "  <svg xmlns=\"http://www.w3.org/2000/svg\" height=\"24px\"viewBox=\"0 0 24 24\"\n",
              "       width=\"24px\">\n",
              "    <path d=\"M0 0h24v24H0V0z\" fill=\"none\"/>\n",
              "    <path d=\"M18.56 5.44l.94 2.06.94-2.06 2.06-.94-2.06-.94-.94-2.06-.94 2.06-2.06.94zm-11 1L8.5 8.5l.94-2.06 2.06-.94-2.06-.94L8.5 2.5l-.94 2.06-2.06.94zm10 10l.94 2.06.94-2.06 2.06-.94-2.06-.94-.94-2.06-.94 2.06-2.06.94z\"/><path d=\"M17.41 7.96l-1.37-1.37c-.4-.4-.92-.59-1.43-.59-.52 0-1.04.2-1.43.59L10.3 9.45l-7.72 7.72c-.78.78-.78 2.05 0 2.83L4 21.41c.39.39.9.59 1.41.59.51 0 1.02-.2 1.41-.59l7.78-7.78 2.81-2.81c.8-.78.8-2.07 0-2.86zM5.41 20L4 18.59l7.72-7.72 1.47 1.35L5.41 20z\"/>\n",
              "  </svg>\n",
              "      </button>\n",
              "      \n",
              "  <style>\n",
              "    .colab-df-container {\n",
              "      display:flex;\n",
              "      flex-wrap:wrap;\n",
              "      gap: 12px;\n",
              "    }\n",
              "\n",
              "    .colab-df-convert {\n",
              "      background-color: #E8F0FE;\n",
              "      border: none;\n",
              "      border-radius: 50%;\n",
              "      cursor: pointer;\n",
              "      display: none;\n",
              "      fill: #1967D2;\n",
              "      height: 32px;\n",
              "      padding: 0 0 0 0;\n",
              "      width: 32px;\n",
              "    }\n",
              "\n",
              "    .colab-df-convert:hover {\n",
              "      background-color: #E2EBFA;\n",
              "      box-shadow: 0px 1px 2px rgba(60, 64, 67, 0.3), 0px 1px 3px 1px rgba(60, 64, 67, 0.15);\n",
              "      fill: #174EA6;\n",
              "    }\n",
              "\n",
              "    [theme=dark] .colab-df-convert {\n",
              "      background-color: #3B4455;\n",
              "      fill: #D2E3FC;\n",
              "    }\n",
              "\n",
              "    [theme=dark] .colab-df-convert:hover {\n",
              "      background-color: #434B5C;\n",
              "      box-shadow: 0px 1px 3px 1px rgba(0, 0, 0, 0.15);\n",
              "      filter: drop-shadow(0px 1px 2px rgba(0, 0, 0, 0.3));\n",
              "      fill: #FFFFFF;\n",
              "    }\n",
              "  </style>\n",
              "\n",
              "      <script>\n",
              "        const buttonEl =\n",
              "          document.querySelector('#df-6cf82d80-a020-4937-bfe5-8d556442696f button.colab-df-convert');\n",
              "        buttonEl.style.display =\n",
              "          google.colab.kernel.accessAllowed ? 'block' : 'none';\n",
              "\n",
              "        async function convertToInteractive(key) {\n",
              "          const element = document.querySelector('#df-6cf82d80-a020-4937-bfe5-8d556442696f');\n",
              "          const dataTable =\n",
              "            await google.colab.kernel.invokeFunction('convertToInteractive',\n",
              "                                                     [key], {});\n",
              "          if (!dataTable) return;\n",
              "\n",
              "          const docLinkHtml = 'Like what you see? Visit the ' +\n",
              "            '<a target=\"_blank\" href=https://colab.research.google.com/notebooks/data_table.ipynb>data table notebook</a>'\n",
              "            + ' to learn more about interactive tables.';\n",
              "          element.innerHTML = '';\n",
              "          dataTable['output_type'] = 'display_data';\n",
              "          await google.colab.output.renderOutput(dataTable, element);\n",
              "          const docLink = document.createElement('div');\n",
              "          docLink.innerHTML = docLinkHtml;\n",
              "          element.appendChild(docLink);\n",
              "        }\n",
              "      </script>\n",
              "    </div>\n",
              "  </div>\n",
              "  "
            ]
          },
          "metadata": {},
          "execution_count": 10
        }
      ],
      "source": [
        "numbers = np.random.randint(0, 1000, (1_000_000, 100))\n",
        "\n",
        "df_pa = pd.DataFrame(numbers, dtype=\"int64[pyarrow]\")\n",
        "df_pa.head()"
      ]
    },
    {
      "cell_type": "code",
      "execution_count": null,
      "id": "6db7a9d7-23f5-4d3d-aabf-f1482c384112",
      "metadata": {
        "id": "6db7a9d7-23f5-4d3d-aabf-f1482c384112",
        "outputId": "1122c772-7ca3-4b81-b603-4ca102f1912f",
        "colab": {
          "base_uri": "https://localhost:8080/"
        }
      },
      "outputs": [
        {
          "output_type": "stream",
          "name": "stdout",
          "text": [
            "54.5 ms ± 7.78 ms per loop (mean ± std. dev. of 30 runs, 1 loop each)\n"
          ]
        }
      ],
      "source": [
        "%timeit -r 30 -n 1 df_pa.sum()"
      ]
    },
    {
      "cell_type": "markdown",
      "id": "a4a0d7e9-afc3-4d92-b119-b9257fe670c8",
      "metadata": {
        "id": "a4a0d7e9-afc3-4d92-b119-b9257fe670c8"
      },
      "source": [
        "### Polars"
      ]
    },
    {
      "cell_type": "code",
      "execution_count": null,
      "id": "37803a25-f95c-4017-b40f-359fc69f8031",
      "metadata": {
        "id": "37803a25-f95c-4017-b40f-359fc69f8031",
        "outputId": "c161cf59-c661-4a5e-8e53-0f377d860afa",
        "colab": {
          "base_uri": "https://localhost:8080/",
          "height": 275
        }
      },
      "outputs": [
        {
          "output_type": "execute_result",
          "data": {
            "text/plain": [
              "shape: (5, 100)\n",
              "┌─────┬─────┬─────┬─────┬───┬─────┬─────┬─────┬─────┐\n",
              "│ 0   ┆ 1   ┆ 2   ┆ 3   ┆ … ┆ 96  ┆ 97  ┆ 98  ┆ 99  │\n",
              "│ --- ┆ --- ┆ --- ┆ --- ┆   ┆ --- ┆ --- ┆ --- ┆ --- │\n",
              "│ i64 ┆ i64 ┆ i64 ┆ i64 ┆   ┆ i64 ┆ i64 ┆ i64 ┆ i64 │\n",
              "╞═════╪═════╪═════╪═════╪═══╪═════╪═════╪═════╪═════╡\n",
              "│ 208 ┆ 243 ┆ 353 ┆ 95  ┆ … ┆ 896 ┆ 31  ┆ 226 ┆ 408 │\n",
              "│ 651 ┆ 808 ┆ 44  ┆ 24  ┆ … ┆ 265 ┆ 296 ┆ 614 ┆ 632 │\n",
              "│ 350 ┆ 952 ┆ 50  ┆ 557 ┆ … ┆ 238 ┆ 573 ┆ 256 ┆ 691 │\n",
              "│ 995 ┆ 873 ┆ 624 ┆ 355 ┆ … ┆ 660 ┆ 121 ┆ 118 ┆ 411 │\n",
              "│ 504 ┆ 984 ┆ 966 ┆ 428 ┆ … ┆ 986 ┆ 389 ┆ 214 ┆ 505 │\n",
              "└─────┴─────┴─────┴─────┴───┴─────┴─────┴─────┴─────┘"
            ],
            "text/html": [
              "<div><style>\n",
              ".dataframe > thead > tr > th,\n",
              ".dataframe > tbody > tr > td {\n",
              "  text-align: right;\n",
              "}\n",
              "</style>\n",
              "<small>shape: (5, 100)</small><table border=\"1\" class=\"dataframe\"><thead><tr><th>0</th><th>1</th><th>2</th><th>3</th><th>4</th><th>5</th><th>6</th><th>7</th><th>8</th><th>9</th><th>10</th><th>11</th><th>12</th><th>13</th><th>14</th><th>15</th><th>16</th><th>17</th><th>18</th><th>19</th><th>20</th><th>21</th><th>22</th><th>23</th><th>24</th><th>25</th><th>26</th><th>27</th><th>28</th><th>29</th><th>30</th><th>31</th><th>32</th><th>33</th><th>34</th><th>35</th><th>36</th><th>&hellip;</th><th>63</th><th>64</th><th>65</th><th>66</th><th>67</th><th>68</th><th>69</th><th>70</th><th>71</th><th>72</th><th>73</th><th>74</th><th>75</th><th>76</th><th>77</th><th>78</th><th>79</th><th>80</th><th>81</th><th>82</th><th>83</th><th>84</th><th>85</th><th>86</th><th>87</th><th>88</th><th>89</th><th>90</th><th>91</th><th>92</th><th>93</th><th>94</th><th>95</th><th>96</th><th>97</th><th>98</th><th>99</th></tr><tr><td>i64</td><td>i64</td><td>i64</td><td>i64</td><td>i64</td><td>i64</td><td>i64</td><td>i64</td><td>i64</td><td>i64</td><td>i64</td><td>i64</td><td>i64</td><td>i64</td><td>i64</td><td>i64</td><td>i64</td><td>i64</td><td>i64</td><td>i64</td><td>i64</td><td>i64</td><td>i64</td><td>i64</td><td>i64</td><td>i64</td><td>i64</td><td>i64</td><td>i64</td><td>i64</td><td>i64</td><td>i64</td><td>i64</td><td>i64</td><td>i64</td><td>i64</td><td>i64</td><td>&hellip;</td><td>i64</td><td>i64</td><td>i64</td><td>i64</td><td>i64</td><td>i64</td><td>i64</td><td>i64</td><td>i64</td><td>i64</td><td>i64</td><td>i64</td><td>i64</td><td>i64</td><td>i64</td><td>i64</td><td>i64</td><td>i64</td><td>i64</td><td>i64</td><td>i64</td><td>i64</td><td>i64</td><td>i64</td><td>i64</td><td>i64</td><td>i64</td><td>i64</td><td>i64</td><td>i64</td><td>i64</td><td>i64</td><td>i64</td><td>i64</td><td>i64</td><td>i64</td><td>i64</td></tr></thead><tbody><tr><td>208</td><td>243</td><td>353</td><td>95</td><td>21</td><td>63</td><td>21</td><td>909</td><td>679</td><td>554</td><td>276</td><td>686</td><td>956</td><td>40</td><td>431</td><td>186</td><td>311</td><td>191</td><td>431</td><td>857</td><td>178</td><td>654</td><td>125</td><td>290</td><td>633</td><td>984</td><td>96</td><td>582</td><td>714</td><td>668</td><td>445</td><td>26</td><td>780</td><td>491</td><td>659</td><td>399</td><td>750</td><td>&hellip;</td><td>383</td><td>437</td><td>554</td><td>635</td><td>231</td><td>827</td><td>327</td><td>716</td><td>164</td><td>794</td><td>562</td><td>836</td><td>920</td><td>653</td><td>158</td><td>671</td><td>502</td><td>962</td><td>162</td><td>430</td><td>663</td><td>259</td><td>530</td><td>93</td><td>103</td><td>617</td><td>427</td><td>855</td><td>43</td><td>486</td><td>96</td><td>643</td><td>414</td><td>896</td><td>31</td><td>226</td><td>408</td></tr><tr><td>651</td><td>808</td><td>44</td><td>24</td><td>476</td><td>153</td><td>300</td><td>999</td><td>76</td><td>678</td><td>835</td><td>580</td><td>811</td><td>414</td><td>248</td><td>380</td><td>560</td><td>821</td><td>589</td><td>958</td><td>536</td><td>495</td><td>193</td><td>889</td><td>487</td><td>702</td><td>902</td><td>154</td><td>62</td><td>406</td><td>640</td><td>205</td><td>348</td><td>319</td><td>418</td><td>682</td><td>128</td><td>&hellip;</td><td>856</td><td>378</td><td>671</td><td>173</td><td>839</td><td>29</td><td>256</td><td>123</td><td>704</td><td>535</td><td>69</td><td>249</td><td>678</td><td>916</td><td>508</td><td>810</td><td>621</td><td>42</td><td>928</td><td>442</td><td>436</td><td>740</td><td>178</td><td>426</td><td>384</td><td>107</td><td>3</td><td>284</td><td>11</td><td>301</td><td>320</td><td>267</td><td>409</td><td>265</td><td>296</td><td>614</td><td>632</td></tr><tr><td>350</td><td>952</td><td>50</td><td>557</td><td>25</td><td>242</td><td>722</td><td>733</td><td>563</td><td>723</td><td>237</td><td>282</td><td>552</td><td>309</td><td>146</td><td>127</td><td>154</td><td>367</td><td>0</td><td>515</td><td>710</td><td>335</td><td>119</td><td>176</td><td>287</td><td>798</td><td>134</td><td>50</td><td>204</td><td>897</td><td>455</td><td>263</td><td>499</td><td>106</td><td>163</td><td>761</td><td>106</td><td>&hellip;</td><td>875</td><td>206</td><td>235</td><td>276</td><td>283</td><td>436</td><td>495</td><td>198</td><td>845</td><td>533</td><td>927</td><td>936</td><td>59</td><td>381</td><td>211</td><td>46</td><td>470</td><td>256</td><td>280</td><td>821</td><td>225</td><td>598</td><td>740</td><td>461</td><td>438</td><td>273</td><td>275</td><td>819</td><td>51</td><td>517</td><td>355</td><td>212</td><td>10</td><td>238</td><td>573</td><td>256</td><td>691</td></tr><tr><td>995</td><td>873</td><td>624</td><td>355</td><td>337</td><td>42</td><td>229</td><td>664</td><td>224</td><td>90</td><td>362</td><td>521</td><td>961</td><td>368</td><td>827</td><td>468</td><td>337</td><td>325</td><td>922</td><td>140</td><td>59</td><td>47</td><td>298</td><td>837</td><td>902</td><td>383</td><td>339</td><td>536</td><td>903</td><td>591</td><td>248</td><td>627</td><td>973</td><td>456</td><td>877</td><td>895</td><td>849</td><td>&hellip;</td><td>74</td><td>437</td><td>30</td><td>420</td><td>688</td><td>783</td><td>939</td><td>828</td><td>213</td><td>680</td><td>376</td><td>468</td><td>796</td><td>130</td><td>767</td><td>772</td><td>617</td><td>101</td><td>531</td><td>465</td><td>812</td><td>231</td><td>11</td><td>864</td><td>587</td><td>435</td><td>170</td><td>583</td><td>609</td><td>275</td><td>350</td><td>990</td><td>69</td><td>660</td><td>121</td><td>118</td><td>411</td></tr><tr><td>504</td><td>984</td><td>966</td><td>428</td><td>775</td><td>1</td><td>193</td><td>203</td><td>404</td><td>30</td><td>52</td><td>83</td><td>834</td><td>443</td><td>862</td><td>289</td><td>100</td><td>843</td><td>234</td><td>680</td><td>308</td><td>292</td><td>415</td><td>57</td><td>913</td><td>230</td><td>756</td><td>788</td><td>747</td><td>598</td><td>924</td><td>930</td><td>81</td><td>259</td><td>574</td><td>233</td><td>390</td><td>&hellip;</td><td>42</td><td>465</td><td>400</td><td>228</td><td>919</td><td>35</td><td>692</td><td>611</td><td>318</td><td>155</td><td>256</td><td>619</td><td>982</td><td>151</td><td>310</td><td>656</td><td>921</td><td>109</td><td>27</td><td>253</td><td>447</td><td>983</td><td>989</td><td>557</td><td>617</td><td>258</td><td>130</td><td>127</td><td>437</td><td>108</td><td>822</td><td>795</td><td>547</td><td>986</td><td>389</td><td>214</td><td>505</td></tr></tbody></table></div>"
            ]
          },
          "metadata": {},
          "execution_count": 12
        }
      ],
      "source": [
        "df_pl = pl.DataFrame(df_pa)\n",
        "df_pl.head()"
      ]
    },
    {
      "cell_type": "code",
      "execution_count": null,
      "id": "27393845-09be-4f7c-8b62-fbe1dd0a9053",
      "metadata": {
        "id": "27393845-09be-4f7c-8b62-fbe1dd0a9053",
        "outputId": "689f0e89-9579-42a7-8eb6-65f959c4fa60",
        "colab": {
          "base_uri": "https://localhost:8080/"
        }
      },
      "outputs": [
        {
          "output_type": "stream",
          "name": "stdout",
          "text": [
            "46.7 ms ± 4.52 ms per loop (mean ± std. dev. of 30 runs, 1 loop each)\n"
          ]
        }
      ],
      "source": [
        "%timeit -r 30 -n 1 df_pl.sum()"
      ]
    },
    {
      "cell_type": "markdown",
      "id": "feb1db35-aada-4006-aaf6-f8cc4a1ddf79",
      "metadata": {
        "id": "feb1db35-aada-4006-aaf6-f8cc4a1ddf79"
      },
      "source": [
        "### Pandas & NumPy"
      ]
    },
    {
      "cell_type": "code",
      "execution_count": null,
      "id": "a3db23e0-db57-4a46-a425-79cf9e17c682",
      "metadata": {
        "id": "a3db23e0-db57-4a46-a425-79cf9e17c682",
        "outputId": "b02cefb5-ddf4-46de-e012-cb837c483f73",
        "colab": {
          "base_uri": "https://localhost:8080/",
          "height": 236
        }
      },
      "outputs": [
        {
          "output_type": "execute_result",
          "data": {
            "text/plain": [
              "    0    1    2    3    4    5    6    7    8    9   ...   90   91   92   93   \n",
              "0  208  243  353   95   21   63   21  909  679  554  ...  855   43  486   96  \\\n",
              "1  651  808   44   24  476  153  300  999   76  678  ...  284   11  301  320   \n",
              "2  350  952   50  557   25  242  722  733  563  723  ...  819   51  517  355   \n",
              "3  995  873  624  355  337   42  229  664  224   90  ...  583  609  275  350   \n",
              "4  504  984  966  428  775    1  193  203  404   30  ...  127  437  108  822   \n",
              "\n",
              "    94   95   96   97   98   99  \n",
              "0  643  414  896   31  226  408  \n",
              "1  267  409  265  296  614  632  \n",
              "2  212   10  238  573  256  691  \n",
              "3  990   69  660  121  118  411  \n",
              "4  795  547  986  389  214  505  \n",
              "\n",
              "[5 rows x 100 columns]"
            ],
            "text/html": [
              "\n",
              "  <div id=\"df-324444cd-8ba5-4f61-8a66-6d1e91d67f66\">\n",
              "    <div class=\"colab-df-container\">\n",
              "      <div>\n",
              "<style scoped>\n",
              "    .dataframe tbody tr th:only-of-type {\n",
              "        vertical-align: middle;\n",
              "    }\n",
              "\n",
              "    .dataframe tbody tr th {\n",
              "        vertical-align: top;\n",
              "    }\n",
              "\n",
              "    .dataframe thead th {\n",
              "        text-align: right;\n",
              "    }\n",
              "</style>\n",
              "<table border=\"1\" class=\"dataframe\">\n",
              "  <thead>\n",
              "    <tr style=\"text-align: right;\">\n",
              "      <th></th>\n",
              "      <th>0</th>\n",
              "      <th>1</th>\n",
              "      <th>2</th>\n",
              "      <th>3</th>\n",
              "      <th>4</th>\n",
              "      <th>5</th>\n",
              "      <th>6</th>\n",
              "      <th>7</th>\n",
              "      <th>8</th>\n",
              "      <th>9</th>\n",
              "      <th>...</th>\n",
              "      <th>90</th>\n",
              "      <th>91</th>\n",
              "      <th>92</th>\n",
              "      <th>93</th>\n",
              "      <th>94</th>\n",
              "      <th>95</th>\n",
              "      <th>96</th>\n",
              "      <th>97</th>\n",
              "      <th>98</th>\n",
              "      <th>99</th>\n",
              "    </tr>\n",
              "  </thead>\n",
              "  <tbody>\n",
              "    <tr>\n",
              "      <th>0</th>\n",
              "      <td>208</td>\n",
              "      <td>243</td>\n",
              "      <td>353</td>\n",
              "      <td>95</td>\n",
              "      <td>21</td>\n",
              "      <td>63</td>\n",
              "      <td>21</td>\n",
              "      <td>909</td>\n",
              "      <td>679</td>\n",
              "      <td>554</td>\n",
              "      <td>...</td>\n",
              "      <td>855</td>\n",
              "      <td>43</td>\n",
              "      <td>486</td>\n",
              "      <td>96</td>\n",
              "      <td>643</td>\n",
              "      <td>414</td>\n",
              "      <td>896</td>\n",
              "      <td>31</td>\n",
              "      <td>226</td>\n",
              "      <td>408</td>\n",
              "    </tr>\n",
              "    <tr>\n",
              "      <th>1</th>\n",
              "      <td>651</td>\n",
              "      <td>808</td>\n",
              "      <td>44</td>\n",
              "      <td>24</td>\n",
              "      <td>476</td>\n",
              "      <td>153</td>\n",
              "      <td>300</td>\n",
              "      <td>999</td>\n",
              "      <td>76</td>\n",
              "      <td>678</td>\n",
              "      <td>...</td>\n",
              "      <td>284</td>\n",
              "      <td>11</td>\n",
              "      <td>301</td>\n",
              "      <td>320</td>\n",
              "      <td>267</td>\n",
              "      <td>409</td>\n",
              "      <td>265</td>\n",
              "      <td>296</td>\n",
              "      <td>614</td>\n",
              "      <td>632</td>\n",
              "    </tr>\n",
              "    <tr>\n",
              "      <th>2</th>\n",
              "      <td>350</td>\n",
              "      <td>952</td>\n",
              "      <td>50</td>\n",
              "      <td>557</td>\n",
              "      <td>25</td>\n",
              "      <td>242</td>\n",
              "      <td>722</td>\n",
              "      <td>733</td>\n",
              "      <td>563</td>\n",
              "      <td>723</td>\n",
              "      <td>...</td>\n",
              "      <td>819</td>\n",
              "      <td>51</td>\n",
              "      <td>517</td>\n",
              "      <td>355</td>\n",
              "      <td>212</td>\n",
              "      <td>10</td>\n",
              "      <td>238</td>\n",
              "      <td>573</td>\n",
              "      <td>256</td>\n",
              "      <td>691</td>\n",
              "    </tr>\n",
              "    <tr>\n",
              "      <th>3</th>\n",
              "      <td>995</td>\n",
              "      <td>873</td>\n",
              "      <td>624</td>\n",
              "      <td>355</td>\n",
              "      <td>337</td>\n",
              "      <td>42</td>\n",
              "      <td>229</td>\n",
              "      <td>664</td>\n",
              "      <td>224</td>\n",
              "      <td>90</td>\n",
              "      <td>...</td>\n",
              "      <td>583</td>\n",
              "      <td>609</td>\n",
              "      <td>275</td>\n",
              "      <td>350</td>\n",
              "      <td>990</td>\n",
              "      <td>69</td>\n",
              "      <td>660</td>\n",
              "      <td>121</td>\n",
              "      <td>118</td>\n",
              "      <td>411</td>\n",
              "    </tr>\n",
              "    <tr>\n",
              "      <th>4</th>\n",
              "      <td>504</td>\n",
              "      <td>984</td>\n",
              "      <td>966</td>\n",
              "      <td>428</td>\n",
              "      <td>775</td>\n",
              "      <td>1</td>\n",
              "      <td>193</td>\n",
              "      <td>203</td>\n",
              "      <td>404</td>\n",
              "      <td>30</td>\n",
              "      <td>...</td>\n",
              "      <td>127</td>\n",
              "      <td>437</td>\n",
              "      <td>108</td>\n",
              "      <td>822</td>\n",
              "      <td>795</td>\n",
              "      <td>547</td>\n",
              "      <td>986</td>\n",
              "      <td>389</td>\n",
              "      <td>214</td>\n",
              "      <td>505</td>\n",
              "    </tr>\n",
              "  </tbody>\n",
              "</table>\n",
              "<p>5 rows × 100 columns</p>\n",
              "</div>\n",
              "      <button class=\"colab-df-convert\" onclick=\"convertToInteractive('df-324444cd-8ba5-4f61-8a66-6d1e91d67f66')\"\n",
              "              title=\"Convert this dataframe to an interactive table.\"\n",
              "              style=\"display:none;\">\n",
              "        \n",
              "  <svg xmlns=\"http://www.w3.org/2000/svg\" height=\"24px\"viewBox=\"0 0 24 24\"\n",
              "       width=\"24px\">\n",
              "    <path d=\"M0 0h24v24H0V0z\" fill=\"none\"/>\n",
              "    <path d=\"M18.56 5.44l.94 2.06.94-2.06 2.06-.94-2.06-.94-.94-2.06-.94 2.06-2.06.94zm-11 1L8.5 8.5l.94-2.06 2.06-.94-2.06-.94L8.5 2.5l-.94 2.06-2.06.94zm10 10l.94 2.06.94-2.06 2.06-.94-2.06-.94-.94-2.06-.94 2.06-2.06.94z\"/><path d=\"M17.41 7.96l-1.37-1.37c-.4-.4-.92-.59-1.43-.59-.52 0-1.04.2-1.43.59L10.3 9.45l-7.72 7.72c-.78.78-.78 2.05 0 2.83L4 21.41c.39.39.9.59 1.41.59.51 0 1.02-.2 1.41-.59l7.78-7.78 2.81-2.81c.8-.78.8-2.07 0-2.86zM5.41 20L4 18.59l7.72-7.72 1.47 1.35L5.41 20z\"/>\n",
              "  </svg>\n",
              "      </button>\n",
              "      \n",
              "  <style>\n",
              "    .colab-df-container {\n",
              "      display:flex;\n",
              "      flex-wrap:wrap;\n",
              "      gap: 12px;\n",
              "    }\n",
              "\n",
              "    .colab-df-convert {\n",
              "      background-color: #E8F0FE;\n",
              "      border: none;\n",
              "      border-radius: 50%;\n",
              "      cursor: pointer;\n",
              "      display: none;\n",
              "      fill: #1967D2;\n",
              "      height: 32px;\n",
              "      padding: 0 0 0 0;\n",
              "      width: 32px;\n",
              "    }\n",
              "\n",
              "    .colab-df-convert:hover {\n",
              "      background-color: #E2EBFA;\n",
              "      box-shadow: 0px 1px 2px rgba(60, 64, 67, 0.3), 0px 1px 3px 1px rgba(60, 64, 67, 0.15);\n",
              "      fill: #174EA6;\n",
              "    }\n",
              "\n",
              "    [theme=dark] .colab-df-convert {\n",
              "      background-color: #3B4455;\n",
              "      fill: #D2E3FC;\n",
              "    }\n",
              "\n",
              "    [theme=dark] .colab-df-convert:hover {\n",
              "      background-color: #434B5C;\n",
              "      box-shadow: 0px 1px 3px 1px rgba(0, 0, 0, 0.15);\n",
              "      filter: drop-shadow(0px 1px 2px rgba(0, 0, 0, 0.3));\n",
              "      fill: #FFFFFF;\n",
              "    }\n",
              "  </style>\n",
              "\n",
              "      <script>\n",
              "        const buttonEl =\n",
              "          document.querySelector('#df-324444cd-8ba5-4f61-8a66-6d1e91d67f66 button.colab-df-convert');\n",
              "        buttonEl.style.display =\n",
              "          google.colab.kernel.accessAllowed ? 'block' : 'none';\n",
              "\n",
              "        async function convertToInteractive(key) {\n",
              "          const element = document.querySelector('#df-324444cd-8ba5-4f61-8a66-6d1e91d67f66');\n",
              "          const dataTable =\n",
              "            await google.colab.kernel.invokeFunction('convertToInteractive',\n",
              "                                                     [key], {});\n",
              "          if (!dataTable) return;\n",
              "\n",
              "          const docLinkHtml = 'Like what you see? Visit the ' +\n",
              "            '<a target=\"_blank\" href=https://colab.research.google.com/notebooks/data_table.ipynb>data table notebook</a>'\n",
              "            + ' to learn more about interactive tables.';\n",
              "          element.innerHTML = '';\n",
              "          dataTable['output_type'] = 'display_data';\n",
              "          await google.colab.output.renderOutput(dataTable, element);\n",
              "          const docLink = document.createElement('div');\n",
              "          docLink.innerHTML = docLinkHtml;\n",
              "          element.appendChild(docLink);\n",
              "        }\n",
              "      </script>\n",
              "    </div>\n",
              "  </div>\n",
              "  "
            ]
          },
          "metadata": {},
          "execution_count": 14
        }
      ],
      "source": [
        "df = pd.DataFrame(numbers, dtype=\"int64\")\n",
        "df.head()"
      ]
    },
    {
      "cell_type": "code",
      "execution_count": null,
      "id": "94678774-71fc-494a-832b-c80242a57c89",
      "metadata": {
        "id": "94678774-71fc-494a-832b-c80242a57c89",
        "outputId": "a2049b50-e0e3-48c8-be1c-4cfc7d76c3d4",
        "colab": {
          "base_uri": "https://localhost:8080/"
        }
      },
      "outputs": [
        {
          "output_type": "stream",
          "name": "stdout",
          "text": [
            "80.1 ms ± 2.55 ms per loop (mean ± std. dev. of 30 runs, 1 loop each)\n"
          ]
        }
      ],
      "source": [
        "%timeit -r 30 -n 1 df.sum()"
      ]
    },
    {
      "cell_type": "code",
      "execution_count": null,
      "id": "852c0978-56d5-4f5d-9f03-b11718346872",
      "metadata": {
        "id": "852c0978-56d5-4f5d-9f03-b11718346872",
        "outputId": "4b4a35dc-f052-4951-c4b7-457461caa6a6",
        "colab": {
          "base_uri": "https://localhost:8080/"
        }
      },
      "outputs": [
        {
          "output_type": "stream",
          "name": "stdout",
          "text": [
            "81.9 ms ± 2.51 ms per loop (mean ± std. dev. of 30 runs, 1 loop each)\n"
          ]
        }
      ],
      "source": [
        "%timeit -r 30 -n 1 numbers.sum()"
      ]
    },
    {
      "cell_type": "markdown",
      "id": "bf934bb8-a3b4-4dc8-bd3a-9d5dc577f73b",
      "metadata": {
        "id": "bf934bb8-a3b4-4dc8-bd3a-9d5dc577f73b"
      },
      "source": [
        "# 3) Str"
      ]
    },
    {
      "cell_type": "code",
      "execution_count": null,
      "id": "44154a34-7b2d-411f-85d8-f1ba8b0d5312",
      "metadata": {
        "id": "44154a34-7b2d-411f-85d8-f1ba8b0d5312",
        "outputId": "0a316154-95ee-4133-812d-9bc56fe8f70c",
        "colab": {
          "base_uri": "https://localhost:8080/"
        }
      },
      "outputs": [
        {
          "output_type": "execute_result",
          "data": {
            "text/plain": [
              "array(['i', 't', 'z', ..., 'j', 'v', 'y'], dtype='<U1')"
            ]
          },
          "metadata": {},
          "execution_count": 17
        }
      ],
      "source": [
        "import string\n",
        "\n",
        "ALPHABET = np.array(list(string.ascii_lowercase + ' '))\n",
        "\n",
        "\n",
        "def generate_guess(sentence):\n",
        "    return np.random.choice(ALPHABET, size=len(sentence))\n",
        "\n",
        "\n",
        "s = generate_guess(\"Why don't scientists trust atoms? Because they make up everything!\" * 10_000)\n",
        "s"
      ]
    },
    {
      "cell_type": "markdown",
      "id": "0ee82c28-5e53-465f-a8cb-eb7f5ac78aa0",
      "metadata": {
        "id": "0ee82c28-5e53-465f-a8cb-eb7f5ac78aa0"
      },
      "source": [
        "### Pandas & NumPy"
      ]
    },
    {
      "cell_type": "code",
      "execution_count": null,
      "id": "dd9b074e-aa98-4ec7-b754-45be3ff214eb",
      "metadata": {
        "id": "dd9b074e-aa98-4ec7-b754-45be3ff214eb",
        "outputId": "4958a084-ccd8-49af-f330-2b09cdb9325a",
        "colab": {
          "base_uri": "https://localhost:8080/",
          "height": 206
        }
      },
      "outputs": [
        {
          "output_type": "execute_result",
          "data": {
            "text/plain": [
              "   0\n",
              "0  i\n",
              "1  t\n",
              "2  z\n",
              "3  u\n",
              "4  j"
            ],
            "text/html": [
              "\n",
              "  <div id=\"df-1a34be28-a8c8-4859-b425-0e6a751d5f7e\">\n",
              "    <div class=\"colab-df-container\">\n",
              "      <div>\n",
              "<style scoped>\n",
              "    .dataframe tbody tr th:only-of-type {\n",
              "        vertical-align: middle;\n",
              "    }\n",
              "\n",
              "    .dataframe tbody tr th {\n",
              "        vertical-align: top;\n",
              "    }\n",
              "\n",
              "    .dataframe thead th {\n",
              "        text-align: right;\n",
              "    }\n",
              "</style>\n",
              "<table border=\"1\" class=\"dataframe\">\n",
              "  <thead>\n",
              "    <tr style=\"text-align: right;\">\n",
              "      <th></th>\n",
              "      <th>0</th>\n",
              "    </tr>\n",
              "  </thead>\n",
              "  <tbody>\n",
              "    <tr>\n",
              "      <th>0</th>\n",
              "      <td>i</td>\n",
              "    </tr>\n",
              "    <tr>\n",
              "      <th>1</th>\n",
              "      <td>t</td>\n",
              "    </tr>\n",
              "    <tr>\n",
              "      <th>2</th>\n",
              "      <td>z</td>\n",
              "    </tr>\n",
              "    <tr>\n",
              "      <th>3</th>\n",
              "      <td>u</td>\n",
              "    </tr>\n",
              "    <tr>\n",
              "      <th>4</th>\n",
              "      <td>j</td>\n",
              "    </tr>\n",
              "  </tbody>\n",
              "</table>\n",
              "</div>\n",
              "      <button class=\"colab-df-convert\" onclick=\"convertToInteractive('df-1a34be28-a8c8-4859-b425-0e6a751d5f7e')\"\n",
              "              title=\"Convert this dataframe to an interactive table.\"\n",
              "              style=\"display:none;\">\n",
              "        \n",
              "  <svg xmlns=\"http://www.w3.org/2000/svg\" height=\"24px\"viewBox=\"0 0 24 24\"\n",
              "       width=\"24px\">\n",
              "    <path d=\"M0 0h24v24H0V0z\" fill=\"none\"/>\n",
              "    <path d=\"M18.56 5.44l.94 2.06.94-2.06 2.06-.94-2.06-.94-.94-2.06-.94 2.06-2.06.94zm-11 1L8.5 8.5l.94-2.06 2.06-.94-2.06-.94L8.5 2.5l-.94 2.06-2.06.94zm10 10l.94 2.06.94-2.06 2.06-.94-2.06-.94-.94-2.06-.94 2.06-2.06.94z\"/><path d=\"M17.41 7.96l-1.37-1.37c-.4-.4-.92-.59-1.43-.59-.52 0-1.04.2-1.43.59L10.3 9.45l-7.72 7.72c-.78.78-.78 2.05 0 2.83L4 21.41c.39.39.9.59 1.41.59.51 0 1.02-.2 1.41-.59l7.78-7.78 2.81-2.81c.8-.78.8-2.07 0-2.86zM5.41 20L4 18.59l7.72-7.72 1.47 1.35L5.41 20z\"/>\n",
              "  </svg>\n",
              "      </button>\n",
              "      \n",
              "  <style>\n",
              "    .colab-df-container {\n",
              "      display:flex;\n",
              "      flex-wrap:wrap;\n",
              "      gap: 12px;\n",
              "    }\n",
              "\n",
              "    .colab-df-convert {\n",
              "      background-color: #E8F0FE;\n",
              "      border: none;\n",
              "      border-radius: 50%;\n",
              "      cursor: pointer;\n",
              "      display: none;\n",
              "      fill: #1967D2;\n",
              "      height: 32px;\n",
              "      padding: 0 0 0 0;\n",
              "      width: 32px;\n",
              "    }\n",
              "\n",
              "    .colab-df-convert:hover {\n",
              "      background-color: #E2EBFA;\n",
              "      box-shadow: 0px 1px 2px rgba(60, 64, 67, 0.3), 0px 1px 3px 1px rgba(60, 64, 67, 0.15);\n",
              "      fill: #174EA6;\n",
              "    }\n",
              "\n",
              "    [theme=dark] .colab-df-convert {\n",
              "      background-color: #3B4455;\n",
              "      fill: #D2E3FC;\n",
              "    }\n",
              "\n",
              "    [theme=dark] .colab-df-convert:hover {\n",
              "      background-color: #434B5C;\n",
              "      box-shadow: 0px 1px 3px 1px rgba(0, 0, 0, 0.15);\n",
              "      filter: drop-shadow(0px 1px 2px rgba(0, 0, 0, 0.3));\n",
              "      fill: #FFFFFF;\n",
              "    }\n",
              "  </style>\n",
              "\n",
              "      <script>\n",
              "        const buttonEl =\n",
              "          document.querySelector('#df-1a34be28-a8c8-4859-b425-0e6a751d5f7e button.colab-df-convert');\n",
              "        buttonEl.style.display =\n",
              "          google.colab.kernel.accessAllowed ? 'block' : 'none';\n",
              "\n",
              "        async function convertToInteractive(key) {\n",
              "          const element = document.querySelector('#df-1a34be28-a8c8-4859-b425-0e6a751d5f7e');\n",
              "          const dataTable =\n",
              "            await google.colab.kernel.invokeFunction('convertToInteractive',\n",
              "                                                     [key], {});\n",
              "          if (!dataTable) return;\n",
              "\n",
              "          const docLinkHtml = 'Like what you see? Visit the ' +\n",
              "            '<a target=\"_blank\" href=https://colab.research.google.com/notebooks/data_table.ipynb>data table notebook</a>'\n",
              "            + ' to learn more about interactive tables.';\n",
              "          element.innerHTML = '';\n",
              "          dataTable['output_type'] = 'display_data';\n",
              "          await google.colab.output.renderOutput(dataTable, element);\n",
              "          const docLink = document.createElement('div');\n",
              "          docLink.innerHTML = docLinkHtml;\n",
              "          element.appendChild(docLink);\n",
              "        }\n",
              "      </script>\n",
              "    </div>\n",
              "  </div>\n",
              "  "
            ]
          },
          "metadata": {},
          "execution_count": 18
        }
      ],
      "source": [
        "df = pd.DataFrame(s, dtype=\"string\")\n",
        "\n",
        "df.head()"
      ]
    },
    {
      "cell_type": "code",
      "execution_count": null,
      "id": "3087cf58-79d0-4e35-b240-bab0a5e54b58",
      "metadata": {
        "id": "3087cf58-79d0-4e35-b240-bab0a5e54b58",
        "outputId": "0720bc19-9569-49ec-b71e-359ea002b6f4",
        "colab": {
          "base_uri": "https://localhost:8080/"
        }
      },
      "outputs": [
        {
          "output_type": "execute_result",
          "data": {
            "text/plain": [
              "0         0\n",
              "1         0\n",
              "2         0\n",
              "3         0\n",
              "4         0\n",
              "         ..\n",
              "659995    0\n",
              "659996    0\n",
              "659997    0\n",
              "659998    0\n",
              "659999    0\n",
              "Name: 0, Length: 660000, dtype: Int64"
            ]
          },
          "metadata": {},
          "execution_count": 19
        }
      ],
      "source": [
        "df[0].str.count(\"a\")"
      ]
    },
    {
      "cell_type": "code",
      "execution_count": null,
      "id": "f7ed2fd6-616a-492b-a6b7-e5b6b3954cd5",
      "metadata": {
        "id": "f7ed2fd6-616a-492b-a6b7-e5b6b3954cd5",
        "outputId": "4b36e9f5-0c0f-4f08-c9eb-d4bce90d387c",
        "colab": {
          "base_uri": "https://localhost:8080/"
        }
      },
      "outputs": [
        {
          "output_type": "stream",
          "name": "stdout",
          "text": [
            "141 ms ± 39.2 ms per loop (mean ± std. dev. of 30 runs, 1 loop each)\n"
          ]
        }
      ],
      "source": [
        "%timeit -r 30 -n 1 df[0].str.replace(\"a\", \"b\")"
      ]
    },
    {
      "cell_type": "code",
      "execution_count": null,
      "id": "2dd32838-f685-4877-81c7-c80195de4a44",
      "metadata": {
        "id": "2dd32838-f685-4877-81c7-c80195de4a44",
        "outputId": "e220c3b9-00d3-46b0-ac5f-3c0f970fc2fb",
        "colab": {
          "base_uri": "https://localhost:8080/"
        }
      },
      "outputs": [
        {
          "output_type": "stream",
          "name": "stdout",
          "text": [
            "465 ms ± 136 ms per loop (mean ± std. dev. of 30 runs, 1 loop each)\n"
          ]
        }
      ],
      "source": [
        "%timeit -r 30 -n 1 np.char.replace(s, \"a\", \"b\")"
      ]
    },
    {
      "cell_type": "markdown",
      "id": "5c4e4ac9-db7c-4511-8040-f84c99a140e3",
      "metadata": {
        "id": "5c4e4ac9-db7c-4511-8040-f84c99a140e3"
      },
      "source": [
        "### PyArrow"
      ]
    },
    {
      "cell_type": "code",
      "execution_count": null,
      "id": "954a5e02-4e28-4451-b223-4d3f4b6bb6ad",
      "metadata": {
        "id": "954a5e02-4e28-4451-b223-4d3f4b6bb6ad"
      },
      "outputs": [],
      "source": [
        "df_pa = pd.DataFrame(s, dtype=\"string[pyarrow]\")"
      ]
    },
    {
      "cell_type": "code",
      "execution_count": null,
      "id": "2b13a6df-530a-4f30-b41c-0621aba07cb7",
      "metadata": {
        "id": "2b13a6df-530a-4f30-b41c-0621aba07cb7",
        "outputId": "5f26971a-e96e-40cc-9894-3c97f45b9800",
        "colab": {
          "base_uri": "https://localhost:8080/"
        }
      },
      "outputs": [
        {
          "output_type": "stream",
          "name": "stdout",
          "text": [
            "10.2 ms ± 1.8 ms per loop (mean ± std. dev. of 30 runs, 1 loop each)\n"
          ]
        }
      ],
      "source": [
        "%timeit -r 30 -n 1 df_pa[0].str.replace(\"a\", \"b\")"
      ]
    },
    {
      "cell_type": "markdown",
      "id": "ddc529a9-48df-464b-9d19-d576e8049dcf",
      "metadata": {
        "id": "ddc529a9-48df-464b-9d19-d576e8049dcf"
      },
      "source": [
        "### Polars"
      ]
    },
    {
      "cell_type": "code",
      "execution_count": null,
      "id": "932d810b-083b-4796-bf82-d73ee4a6921b",
      "metadata": {
        "id": "932d810b-083b-4796-bf82-d73ee4a6921b",
        "outputId": "70313ced-9569-4a81-a0e5-7d1ac514fd4e",
        "colab": {
          "base_uri": "https://localhost:8080/",
          "height": 255
        }
      },
      "outputs": [
        {
          "output_type": "execute_result",
          "data": {
            "text/plain": [
              "shape: (5, 1)\n",
              "┌─────┐\n",
              "│ 0   │\n",
              "│ --- │\n",
              "│ str │\n",
              "╞═════╡\n",
              "│ i   │\n",
              "│ t   │\n",
              "│ z   │\n",
              "│ u   │\n",
              "│ j   │\n",
              "└─────┘"
            ],
            "text/html": [
              "<div><style>\n",
              ".dataframe > thead > tr > th,\n",
              ".dataframe > tbody > tr > td {\n",
              "  text-align: right;\n",
              "}\n",
              "</style>\n",
              "<small>shape: (5, 1)</small><table border=\"1\" class=\"dataframe\"><thead><tr><th>0</th></tr><tr><td>str</td></tr></thead><tbody><tr><td>&quot;i&quot;</td></tr><tr><td>&quot;t&quot;</td></tr><tr><td>&quot;z&quot;</td></tr><tr><td>&quot;u&quot;</td></tr><tr><td>&quot;j&quot;</td></tr></tbody></table></div>"
            ]
          },
          "metadata": {},
          "execution_count": 24
        }
      ],
      "source": [
        "df_pl = pl.DataFrame(df_pa)\n",
        "df_pl.head()"
      ]
    },
    {
      "cell_type": "code",
      "execution_count": null,
      "id": "a7e2d4a6-60f5-4dc8-9c59-688d603ba7c4",
      "metadata": {
        "id": "a7e2d4a6-60f5-4dc8-9c59-688d603ba7c4",
        "outputId": "6f4972d3-1b92-4076-9052-f4cc86bcae71",
        "colab": {
          "base_uri": "https://localhost:8080/"
        }
      },
      "outputs": [
        {
          "output_type": "stream",
          "name": "stdout",
          "text": [
            "The slowest run took 47.71 times longer than the fastest. This could mean that an intermediate result is being cached.\n",
            "2.52 ms ± 7.85 ms per loop (mean ± std. dev. of 30 runs, 1 loop each)\n"
          ]
        }
      ],
      "source": [
        "%timeit -r 30 -n 1 df_pl[\"0\"].str.replace(\"a\", \"b\")"
      ]
    },
    {
      "cell_type": "markdown",
      "source": [
        "# Result Visualization"
      ],
      "metadata": {
        "id": "FU-bfl50wxdS"
      },
      "id": "FU-bfl50wxdS"
    },
    {
      "cell_type": "markdown",
      "source": [
        "### From Sebastian Raschka's test ([link](https://github.com/rasbt/machine-learning-notes/blob/main/benchmark/pandas-pyarrow/results.png))"
      ],
      "metadata": {
        "id": "WsuXwOi-FxHL"
      },
      "id": "WsuXwOi-FxHL"
    },
    {
      "cell_type": "markdown",
      "source": [
        "![results.png](data:image/png;base64,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)"
      ],
      "metadata": {
        "id": "25v7y5-JFjPa"
      },
      "id": "25v7y5-JFjPa"
    },
    {
      "cell_type": "markdown",
      "source": [
        "### Results from this colab session (TO-DO)"
      ],
      "metadata": {
        "id": "EYZfPC3FF7Vw"
      },
      "id": "EYZfPC3FF7Vw"
    }
  ],
  "metadata": {
    "kernelspec": {
      "display_name": "Python 3 (ipykernel)",
      "language": "python",
      "name": "python3"
    },
    "language_info": {
      "codemirror_mode": {
        "name": "ipython",
        "version": 3
      },
      "file_extension": ".py",
      "mimetype": "text/x-python",
      "name": "python",
      "nbconvert_exporter": "python",
      "pygments_lexer": "ipython3",
      "version": "3.9.16"
    },
    "colab": {
      "provenance": [],
      "toc_visible": true
    }
  },
  "nbformat": 4,
  "nbformat_minor": 5
}